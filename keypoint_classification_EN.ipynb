{
  "cells": [
    {
      "cell_type": "code",
      "execution_count": 1,
      "metadata": {
        "id": "igMyGnjE9hEp"
      },
      "outputs": [],
      "source": [
        "import csv\n",
        "\n",
        "import numpy as np\n",
        "import tensorflow as tf\n",
        "from sklearn.model_selection import train_test_split\n",
        "\n",
        "RANDOM_SEED = 42"
      ]
    },
    {
      "cell_type": "markdown",
      "metadata": {
        "id": "t2HDvhIu9hEr"
      },
      "source": [
        "# Specify each path"
      ]
    },
    {
      "cell_type": "code",
      "execution_count": 2,
      "metadata": {
        "id": "9NvZP2Zn9hEy"
      },
      "outputs": [],
      "source": [
        "dataset = 'model/keypoint_classifier/keypoint.csv'\n",
        "model_save_path = 'model/keypoint_classifier/keypoint_classifier.hdf5'\n",
        "tflite_save_path = 'model/keypoint_classifier/keypoint_classifier.tflite'"
      ]
    },
    {
      "cell_type": "markdown",
      "metadata": {
        "id": "s5oMH7x19hEz"
      },
      "source": [
        "# Set number of classes"
      ]
    },
    {
      "cell_type": "code",
      "execution_count": 3,
      "metadata": {
        "id": "du4kodXL9hEz"
      },
      "outputs": [],
      "source": [
        "NUM_CLASSES = 27"
      ]
    },
    {
      "cell_type": "markdown",
      "metadata": {
        "id": "XjnL0uso9hEz"
      },
      "source": [
        "# Dataset reading"
      ]
    },
    {
      "cell_type": "code",
      "execution_count": 4,
      "metadata": {
        "id": "QT5ZqtEz9hE0"
      },
      "outputs": [],
      "source": [
        "X_dataset = np.loadtxt(dataset, delimiter=',', dtype='float32', usecols=list(range(1, (21 * 2) + 1)))"
      ]
    },
    {
      "cell_type": "code",
      "execution_count": 5,
      "metadata": {
        "id": "QmoKFsp49hE0"
      },
      "outputs": [],
      "source": [
        "y_dataset = np.loadtxt(dataset, delimiter=',', dtype='int32', usecols=(0))"
      ]
    },
    {
      "cell_type": "code",
      "execution_count": 6,
      "metadata": {
        "id": "xQU7JTZ_9hE0"
      },
      "outputs": [],
      "source": [
        "X_train, X_test, y_train, y_test = train_test_split(X_dataset, y_dataset, train_size=0.75, random_state=RANDOM_SEED)"
      ]
    },
    {
      "cell_type": "markdown",
      "metadata": {
        "id": "mxK_lETT9hE0"
      },
      "source": [
        "# Model building"
      ]
    },
    {
      "cell_type": "code",
      "execution_count": 7,
      "metadata": {
        "id": "vHBmUf1t9hE1"
      },
      "outputs": [],
      "source": [
        "model = tf.keras.models.Sequential([\n",
        "    tf.keras.layers.Input((21 * 2, )),\n",
        "    tf.keras.layers.Dropout(0.2),\n",
        "    tf.keras.layers.Dense(20, activation='relu'),\n",
        "    tf.keras.layers.Dropout(0.4),\n",
        "    tf.keras.layers.Dense(10, activation='relu'),\n",
        "    tf.keras.layers.Dense(NUM_CLASSES, activation='softmax')\n",
        "])"
      ]
    },
    {
      "cell_type": "code",
      "execution_count": 8,
      "metadata": {
        "colab": {
          "base_uri": "https://localhost:8080/"
        },
        "id": "ypqky9tc9hE1",
        "outputId": "5db082bb-30e3-4110-bf63-a1ee777ecd46"
      },
      "outputs": [
        {
          "name": "stdout",
          "output_type": "stream",
          "text": [
            "Model: \"sequential\"\n",
            "_________________________________________________________________\n",
            "Layer (type)                 Output Shape              Param #   \n",
            "=================================================================\n",
            "dropout (Dropout)            (None, 42)                0         \n",
            "_________________________________________________________________\n",
            "dense (Dense)                (None, 20)                860       \n",
            "_________________________________________________________________\n",
            "dropout_1 (Dropout)          (None, 20)                0         \n",
            "_________________________________________________________________\n",
            "dense_1 (Dense)              (None, 10)                210       \n",
            "_________________________________________________________________\n",
            "dense_2 (Dense)              (None, 27)                297       \n",
            "=================================================================\n",
            "Total params: 1,367\n",
            "Trainable params: 1,367\n",
            "Non-trainable params: 0\n",
            "_________________________________________________________________\n"
          ]
        }
      ],
      "source": [
        "model.summary()  # tf.keras.utils.plot_model(model, show_shapes=True)"
      ]
    },
    {
      "cell_type": "code",
      "execution_count": 9,
      "metadata": {
        "id": "MbMjOflQ9hE1"
      },
      "outputs": [],
      "source": [
        "# Model checkpoint callback\n",
        "cp_callback = tf.keras.callbacks.ModelCheckpoint(\n",
        "    model_save_path, verbose=1, save_weights_only=False)\n",
        "# Callback for early stopping\n",
        "es_callback = tf.keras.callbacks.EarlyStopping(patience=20, verbose=1)"
      ]
    },
    {
      "cell_type": "code",
      "execution_count": 10,
      "metadata": {
        "id": "c3Dac0M_9hE2"
      },
      "outputs": [],
      "source": [
        "# Model compilation\n",
        "model.compile(\n",
        "    optimizer='adam',\n",
        "    loss='sparse_categorical_crossentropy',\n",
        "    metrics=['accuracy']\n",
        ")"
      ]
    },
    {
      "cell_type": "markdown",
      "metadata": {
        "id": "7XI0j1Iu9hE2"
      },
      "source": [
        "# Model training"
      ]
    },
    {
      "cell_type": "code",
      "execution_count": 11,
      "metadata": {
        "colab": {
          "base_uri": "https://localhost:8080/"
        },
        "id": "WirBl-JE9hE3",
        "outputId": "71b30ca2-8294-4d9d-8aa2-800d90d399de",
        "scrolled": true
      },
      "outputs": [
        {
          "name": "stdout",
          "output_type": "stream",
          "text": [
            "Epoch 1/1000\n",
            "49/92 [==============>...............] - ETA: 0s - loss: 3.2432 - accuracy: 0.0770\n",
            "Epoch 00001: saving model to model/keypoint_classifier\\keypoint_classifier.hdf5\n",
            "92/92 [==============================] - 0s 2ms/step - loss: 3.1856 - accuracy: 0.0992 - val_loss: 3.0048 - val_accuracy: 0.1673\n",
            "Epoch 2/1000\n",
            "48/92 [==============>...............] - ETA: 0s - loss: 2.9954 - accuracy: 0.1442\n",
            "Epoch 00002: saving model to model/keypoint_classifier\\keypoint_classifier.hdf5\n",
            "92/92 [==============================] - 0s 1ms/step - loss: 2.9534 - accuracy: 0.1525 - val_loss: 2.7948 - val_accuracy: 0.1884\n",
            "Epoch 3/1000\n",
            "49/92 [==============>...............] - ETA: 0s - loss: 2.8483 - accuracy: 0.1590\n",
            "Epoch 00003: saving model to model/keypoint_classifier\\keypoint_classifier.hdf5\n",
            "92/92 [==============================] - 0s 2ms/step - loss: 2.8127 - accuracy: 0.1643 - val_loss: 2.6266 - val_accuracy: 0.2135\n",
            "Epoch 4/1000\n",
            "79/92 [========================>.....] - ETA: 0s - loss: 2.6915 - accuracy: 0.1893\n",
            "Epoch 00004: saving model to model/keypoint_classifier\\keypoint_classifier.hdf5\n",
            "92/92 [==============================] - 0s 2ms/step - loss: 2.6827 - accuracy: 0.1886 - val_loss: 2.4177 - val_accuracy: 0.2671\n",
            "Epoch 5/1000\n",
            "89/92 [============================>.] - ETA: 0s - loss: 2.5281 - accuracy: 0.2194\n",
            "Epoch 00005: saving model to model/keypoint_classifier\\keypoint_classifier.hdf5\n",
            "92/92 [==============================] - 0s 2ms/step - loss: 2.5263 - accuracy: 0.2197 - val_loss: 2.1758 - val_accuracy: 0.3428\n",
            "Epoch 6/1000\n",
            "84/92 [==========================>...] - ETA: 0s - loss: 2.3942 - accuracy: 0.2484\n",
            "Epoch 00006: saving model to model/keypoint_classifier\\keypoint_classifier.hdf5\n",
            "92/92 [==============================] - 0s 2ms/step - loss: 2.3918 - accuracy: 0.2468 - val_loss: 1.9665 - val_accuracy: 0.4054\n",
            "Epoch 7/1000\n",
            "49/92 [==============>...............] - ETA: 0s - loss: 2.2967 - accuracy: 0.2570\n",
            "Epoch 00007: saving model to model/keypoint_classifier\\keypoint_classifier.hdf5\n",
            "92/92 [==============================] - 0s 1ms/step - loss: 2.2826 - accuracy: 0.2578 - val_loss: 1.8244 - val_accuracy: 0.4468\n",
            "Epoch 8/1000\n",
            "54/92 [================>.............] - ETA: 0s - loss: 2.2019 - accuracy: 0.2701\n",
            "Epoch 00008: saving model to model/keypoint_classifier\\keypoint_classifier.hdf5\n",
            "92/92 [==============================] - 0s 1ms/step - loss: 2.2026 - accuracy: 0.2709 - val_loss: 1.7378 - val_accuracy: 0.4385\n",
            "Epoch 9/1000\n",
            "53/92 [================>.............] - ETA: 0s - loss: 2.1688 - accuracy: 0.2817\n",
            "Epoch 00009: saving model to model/keypoint_classifier\\keypoint_classifier.hdf5\n",
            "92/92 [==============================] - 0s 1ms/step - loss: 2.1610 - accuracy: 0.2780 - val_loss: 1.6738 - val_accuracy: 0.4652\n",
            "Epoch 10/1000\n",
            "55/92 [================>.............] - ETA: 0s - loss: 2.1403 - accuracy: 0.2837\n",
            "Epoch 00010: saving model to model/keypoint_classifier\\keypoint_classifier.hdf5\n",
            "92/92 [==============================] - 0s 1ms/step - loss: 2.1275 - accuracy: 0.2798 - val_loss: 1.6299 - val_accuracy: 0.5027\n",
            "Epoch 11/1000\n",
            "54/92 [================>.............] - ETA: 0s - loss: 2.1069 - accuracy: 0.2784\n",
            "Epoch 00011: saving model to model/keypoint_classifier\\keypoint_classifier.hdf5\n",
            "92/92 [==============================] - 0s 1ms/step - loss: 2.1084 - accuracy: 0.2833 - val_loss: 1.5970 - val_accuracy: 0.4978\n",
            "Epoch 12/1000\n",
            "48/92 [==============>...............] - ETA: 0s - loss: 2.0882 - accuracy: 0.2928\n",
            "Epoch 00012: saving model to model/keypoint_classifier\\keypoint_classifier.hdf5\n",
            "92/92 [==============================] - 0s 1ms/step - loss: 2.0794 - accuracy: 0.2957 - val_loss: 1.5635 - val_accuracy: 0.4958\n",
            "Epoch 13/1000\n",
            "91/92 [============================>.] - ETA: 0s - loss: 2.0496 - accuracy: 0.3061\n",
            "Epoch 00013: saving model to model/keypoint_classifier\\keypoint_classifier.hdf5\n",
            "92/92 [==============================] - 0s 2ms/step - loss: 2.0486 - accuracy: 0.3064 - val_loss: 1.5264 - val_accuracy: 0.5106\n",
            "Epoch 14/1000\n",
            "90/92 [============================>.] - ETA: 0s - loss: 2.0343 - accuracy: 0.3061\n",
            "Epoch 00014: saving model to model/keypoint_classifier\\keypoint_classifier.hdf5\n",
            "92/92 [==============================] - 0s 2ms/step - loss: 2.0359 - accuracy: 0.3054 - val_loss: 1.5165 - val_accuracy: 0.5242\n",
            "Epoch 15/1000\n",
            "49/92 [==============>...............] - ETA: 0s - loss: 2.0120 - accuracy: 0.3082\n",
            "Epoch 00015: saving model to model/keypoint_classifier\\keypoint_classifier.hdf5\n",
            "92/92 [==============================] - 0s 1ms/step - loss: 2.0245 - accuracy: 0.3068 - val_loss: 1.4873 - val_accuracy: 0.5466\n",
            "Epoch 16/1000\n",
            "50/92 [===============>..............] - ETA: 0s - loss: 1.9984 - accuracy: 0.3152\n",
            "Epoch 00016: saving model to model/keypoint_classifier\\keypoint_classifier.hdf5\n",
            "92/92 [==============================] - 0s 1ms/step - loss: 1.9891 - accuracy: 0.3174 - val_loss: 1.4569 - val_accuracy: 0.5322\n",
            "Epoch 17/1000\n",
            "54/92 [================>.............] - ETA: 0s - loss: 2.0077 - accuracy: 0.3038\n",
            "Epoch 00017: saving model to model/keypoint_classifier\\keypoint_classifier.hdf5\n",
            "92/92 [==============================] - 0s 1ms/step - loss: 2.0008 - accuracy: 0.3122 - val_loss: 1.4645 - val_accuracy: 0.5142\n",
            "Epoch 18/1000\n",
            "54/92 [================>.............] - ETA: 0s - loss: 1.9574 - accuracy: 0.3287\n",
            "Epoch 00018: saving model to model/keypoint_classifier\\keypoint_classifier.hdf5\n",
            "92/92 [==============================] - 0s 1ms/step - loss: 1.9563 - accuracy: 0.3252 - val_loss: 1.4227 - val_accuracy: 0.5620\n",
            "Epoch 19/1000\n",
            "55/92 [================>.............] - ETA: 0s - loss: 1.9692 - accuracy: 0.3293\n",
            "Epoch 00019: saving model to model/keypoint_classifier\\keypoint_classifier.hdf5\n",
            "92/92 [==============================] - 0s 1ms/step - loss: 1.9637 - accuracy: 0.3242 - val_loss: 1.4159 - val_accuracy: 0.5535\n",
            "Epoch 20/1000\n",
            "53/92 [================>.............] - ETA: 0s - loss: 1.9505 - accuracy: 0.3284\n",
            "Epoch 00020: saving model to model/keypoint_classifier\\keypoint_classifier.hdf5\n",
            "92/92 [==============================] - 0s 1ms/step - loss: 1.9464 - accuracy: 0.3265 - val_loss: 1.3881 - val_accuracy: 0.5820\n",
            "Epoch 21/1000\n",
            "53/92 [================>.............] - ETA: 0s - loss: 1.9041 - accuracy: 0.3392\n",
            "Epoch 00021: saving model to model/keypoint_classifier\\keypoint_classifier.hdf5\n",
            "92/92 [==============================] - 0s 1ms/step - loss: 1.9235 - accuracy: 0.3347 - val_loss: 1.3951 - val_accuracy: 0.6010\n",
            "Epoch 22/1000\n",
            "53/92 [================>.............] - ETA: 0s - loss: 1.9104 - accuracy: 0.3368\n",
            "Epoch 00022: saving model to model/keypoint_classifier\\keypoint_classifier.hdf5\n",
            "92/92 [==============================] - 0s 1ms/step - loss: 1.9135 - accuracy: 0.3347 - val_loss: 1.3638 - val_accuracy: 0.5776\n",
            "Epoch 23/1000\n",
            "55/92 [================>.............] - ETA: 0s - loss: 1.9052 - accuracy: 0.3386\n",
            "Epoch 00023: saving model to model/keypoint_classifier\\keypoint_classifier.hdf5\n",
            "92/92 [==============================] - 0s 1ms/step - loss: 1.9105 - accuracy: 0.3365 - val_loss: 1.3546 - val_accuracy: 0.5802\n",
            "Epoch 24/1000\n",
            "55/92 [================>.............] - ETA: 0s - loss: 1.8986 - accuracy: 0.3413\n",
            "Epoch 00024: saving model to model/keypoint_classifier\\keypoint_classifier.hdf5\n",
            "92/92 [==============================] - 0s 1ms/step - loss: 1.8889 - accuracy: 0.3403 - val_loss: 1.3460 - val_accuracy: 0.5871\n",
            "Epoch 25/1000\n",
            "54/92 [================>.............] - ETA: 0s - loss: 1.9082 - accuracy: 0.3304\n",
            "Epoch 00025: saving model to model/keypoint_classifier\\keypoint_classifier.hdf5\n",
            "92/92 [==============================] - 0s 1ms/step - loss: 1.8988 - accuracy: 0.3366 - val_loss: 1.3404 - val_accuracy: 0.5940\n",
            "Epoch 26/1000\n",
            "54/92 [================>.............] - ETA: 0s - loss: 1.8801 - accuracy: 0.3367\n",
            "Epoch 00026: saving model to model/keypoint_classifier\\keypoint_classifier.hdf5\n",
            "92/92 [==============================] - 0s 1ms/step - loss: 1.8791 - accuracy: 0.3424 - val_loss: 1.3136 - val_accuracy: 0.6495\n",
            "Epoch 27/1000\n",
            "53/92 [================>.............] - ETA: 0s - loss: 1.8766 - accuracy: 0.3542\n",
            "Epoch 00027: saving model to model/keypoint_classifier\\keypoint_classifier.hdf5\n",
            "92/92 [==============================] - 0s 1ms/step - loss: 1.8658 - accuracy: 0.3528 - val_loss: 1.3059 - val_accuracy: 0.6171\n",
            "Epoch 28/1000\n",
            "54/92 [================>.............] - ETA: 0s - loss: 1.8511 - accuracy: 0.3498\n",
            "Epoch 00028: saving model to model/keypoint_classifier\\keypoint_classifier.hdf5\n",
            "92/92 [==============================] - 0s 1ms/step - loss: 1.8531 - accuracy: 0.3521 - val_loss: 1.2954 - val_accuracy: 0.6274\n",
            "Epoch 29/1000\n",
            "54/92 [================>.............] - ETA: 0s - loss: 1.8462 - accuracy: 0.3479\n",
            "Epoch 00029: saving model to model/keypoint_classifier\\keypoint_classifier.hdf5\n",
            "92/92 [==============================] - 0s 1ms/step - loss: 1.8539 - accuracy: 0.3515 - val_loss: 1.2790 - val_accuracy: 0.6605\n",
            "Epoch 30/1000\n",
            "55/92 [================>.............] - ETA: 0s - loss: 1.8599 - accuracy: 0.3551\n",
            "Epoch 00030: saving model to model/keypoint_classifier\\keypoint_classifier.hdf5\n",
            "92/92 [==============================] - 0s 1ms/step - loss: 1.8554 - accuracy: 0.3537 - val_loss: 1.2864 - val_accuracy: 0.6472\n",
            "Epoch 31/1000\n",
            "54/92 [================>.............] - ETA: 0s - loss: 1.8308 - accuracy: 0.3610\n",
            "Epoch 00031: saving model to model/keypoint_classifier\\keypoint_classifier.hdf5\n",
            "92/92 [==============================] - 0s 1ms/step - loss: 1.8397 - accuracy: 0.3557 - val_loss: 1.2744 - val_accuracy: 0.6012\n",
            "Epoch 32/1000\n",
            "54/92 [================>.............] - ETA: 0s - loss: 1.8423 - accuracy: 0.3532\n",
            "Epoch 00032: saving model to model/keypoint_classifier\\keypoint_classifier.hdf5\n",
            "92/92 [==============================] - 0s 1ms/step - loss: 1.8348 - accuracy: 0.3591 - val_loss: 1.2679 - val_accuracy: 0.6066\n",
            "Epoch 33/1000\n",
            "52/92 [===============>..............] - ETA: 0s - loss: 1.8419 - accuracy: 0.3496\n",
            "Epoch 00033: saving model to model/keypoint_classifier\\keypoint_classifier.hdf5\n",
            "92/92 [==============================] - 0s 1ms/step - loss: 1.8351 - accuracy: 0.3564 - val_loss: 1.2543 - val_accuracy: 0.6851\n",
            "Epoch 34/1000\n",
            "49/92 [==============>...............] - ETA: 0s - loss: 1.8379 - accuracy: 0.3603\n",
            "Epoch 00034: saving model to model/keypoint_classifier\\keypoint_classifier.hdf5\n",
            "92/92 [==============================] - 0s 2ms/step - loss: 1.8218 - accuracy: 0.3614 - val_loss: 1.2406 - val_accuracy: 0.6798\n",
            "Epoch 35/1000\n",
            "54/92 [================>.............] - ETA: 0s - loss: 1.8301 - accuracy: 0.3572\n",
            "Epoch 00035: saving model to model/keypoint_classifier\\keypoint_classifier.hdf5\n",
            "92/92 [==============================] - 0s 1ms/step - loss: 1.8313 - accuracy: 0.3570 - val_loss: 1.2319 - val_accuracy: 0.6769\n",
            "Epoch 36/1000\n",
            "54/92 [================>.............] - ETA: 0s - loss: 1.8436 - accuracy: 0.3513\n",
            "Epoch 00036: saving model to model/keypoint_classifier\\keypoint_classifier.hdf5\n",
            "92/92 [==============================] - 0s 1ms/step - loss: 1.8298 - accuracy: 0.3556 - val_loss: 1.2340 - val_accuracy: 0.6446\n",
            "Epoch 37/1000\n",
            "53/92 [================>.............] - ETA: 0s - loss: 1.8029 - accuracy: 0.3706\n",
            "Epoch 00037: saving model to model/keypoint_classifier\\keypoint_classifier.hdf5\n",
            "92/92 [==============================] - 0s 1ms/step - loss: 1.8193 - accuracy: 0.3648 - val_loss: 1.2197 - val_accuracy: 0.7018\n",
            "Epoch 38/1000\n",
            "53/92 [================>.............] - ETA: 0s - loss: 1.8036 - accuracy: 0.3690\n",
            "Epoch 00038: saving model to model/keypoint_classifier\\keypoint_classifier.hdf5\n",
            "92/92 [==============================] - 0s 2ms/step - loss: 1.8081 - accuracy: 0.3696 - val_loss: 1.2108 - val_accuracy: 0.6484\n",
            "Epoch 39/1000\n",
            "90/92 [============================>.] - ETA: 0s - loss: 1.8023 - accuracy: 0.3650\n",
            "Epoch 00039: saving model to model/keypoint_classifier\\keypoint_classifier.hdf5\n",
            "92/92 [==============================] - 0s 2ms/step - loss: 1.8015 - accuracy: 0.3656 - val_loss: 1.2155 - val_accuracy: 0.6769\n",
            "Epoch 40/1000\n",
            "52/92 [===============>..............] - ETA: 0s - loss: 1.7984 - accuracy: 0.3717\n",
            "Epoch 00040: saving model to model/keypoint_classifier\\keypoint_classifier.hdf5\n",
            "92/92 [==============================] - 0s 2ms/step - loss: 1.7969 - accuracy: 0.3713 - val_loss: 1.2044 - val_accuracy: 0.6559\n",
            "Epoch 41/1000\n",
            "91/92 [============================>.] - ETA: 0s - loss: 1.8004 - accuracy: 0.3723\n",
            "Epoch 00041: saving model to model/keypoint_classifier\\keypoint_classifier.hdf5\n",
            "92/92 [==============================] - 0s 2ms/step - loss: 1.8006 - accuracy: 0.3722 - val_loss: 1.1791 - val_accuracy: 0.6715\n",
            "Epoch 42/1000\n",
            "53/92 [================>.............] - ETA: 0s - loss: 1.7726 - accuracy: 0.3819\n",
            "Epoch 00042: saving model to model/keypoint_classifier\\keypoint_classifier.hdf5\n",
            "92/92 [==============================] - 0s 1ms/step - loss: 1.7757 - accuracy: 0.3822 - val_loss: 1.1885 - val_accuracy: 0.6551\n",
            "Epoch 43/1000\n",
            "48/92 [==============>...............] - ETA: 0s - loss: 1.7797 - accuracy: 0.3848\n",
            "Epoch 00043: saving model to model/keypoint_classifier\\keypoint_classifier.hdf5\n",
            "92/92 [==============================] - 0s 1ms/step - loss: 1.7848 - accuracy: 0.3791 - val_loss: 1.2006 - val_accuracy: 0.6626\n",
            "Epoch 44/1000\n",
            "92/92 [==============================] - ETA: 0s - loss: 1.7617 - accuracy: 0.3832\n",
            "Epoch 00044: saving model to model/keypoint_classifier\\keypoint_classifier.hdf5\n",
            "92/92 [==============================] - 0s 2ms/step - loss: 1.7617 - accuracy: 0.3832 - val_loss: 1.1762 - val_accuracy: 0.7141\n",
            "Epoch 45/1000\n",
            "80/92 [=========================>....] - ETA: 0s - loss: 1.7640 - accuracy: 0.3820\n",
            "Epoch 00045: saving model to model/keypoint_classifier\\keypoint_classifier.hdf5\n",
            "92/92 [==============================] - 0s 2ms/step - loss: 1.7643 - accuracy: 0.3824 - val_loss: 1.1825 - val_accuracy: 0.6769\n",
            "Epoch 46/1000\n",
            "50/92 [===============>..............] - ETA: 0s - loss: 1.7714 - accuracy: 0.3828\n",
            "Epoch 00046: saving model to model/keypoint_classifier\\keypoint_classifier.hdf5\n",
            "92/92 [==============================] - 0s 1ms/step - loss: 1.7655 - accuracy: 0.3837 - val_loss: 1.1743 - val_accuracy: 0.6361\n",
            "Epoch 47/1000\n",
            "52/92 [===============>..............] - ETA: 0s - loss: 1.7748 - accuracy: 0.3855\n",
            "Epoch 00047: saving model to model/keypoint_classifier\\keypoint_classifier.hdf5\n",
            "92/92 [==============================] - 0s 1ms/step - loss: 1.7714 - accuracy: 0.3856 - val_loss: 1.1819 - val_accuracy: 0.6590\n",
            "Epoch 48/1000\n",
            "52/92 [===============>..............] - ETA: 0s - loss: 1.7633 - accuracy: 0.3809\n",
            "Epoch 00048: saving model to model/keypoint_classifier\\keypoint_classifier.hdf5\n",
            "92/92 [==============================] - 0s 1ms/step - loss: 1.7557 - accuracy: 0.3849 - val_loss: 1.1561 - val_accuracy: 0.6813\n",
            "Epoch 49/1000\n",
            "51/92 [===============>..............] - ETA: 0s - loss: 1.7635 - accuracy: 0.3960\n",
            "Epoch 00049: saving model to model/keypoint_classifier\\keypoint_classifier.hdf5\n",
            "92/92 [==============================] - 0s 1ms/step - loss: 1.7658 - accuracy: 0.3881 - val_loss: 1.1632 - val_accuracy: 0.6723\n",
            "Epoch 50/1000\n",
            "52/92 [===============>..............] - ETA: 0s - loss: 1.7531 - accuracy: 0.3846\n",
            "Epoch 00050: saving model to model/keypoint_classifier\\keypoint_classifier.hdf5\n",
            "92/92 [==============================] - 0s 1ms/step - loss: 1.7599 - accuracy: 0.3837 - val_loss: 1.1554 - val_accuracy: 0.7016\n",
            "Epoch 51/1000\n",
            "52/92 [===============>..............] - ETA: 0s - loss: 1.7477 - accuracy: 0.3885\n",
            "Epoch 00051: saving model to model/keypoint_classifier\\keypoint_classifier.hdf5\n",
            "92/92 [==============================] - 0s 1ms/step - loss: 1.7499 - accuracy: 0.3928 - val_loss: 1.1538 - val_accuracy: 0.6672\n",
            "Epoch 52/1000\n",
            "51/92 [===============>..............] - ETA: 0s - loss: 1.7586 - accuracy: 0.3837\n",
            "Epoch 00052: saving model to model/keypoint_classifier\\keypoint_classifier.hdf5\n",
            "92/92 [==============================] - 0s 1ms/step - loss: 1.7420 - accuracy: 0.3914 - val_loss: 1.1536 - val_accuracy: 0.7064\n",
            "Epoch 53/1000\n",
            "51/92 [===============>..............] - ETA: 0s - loss: 1.7361 - accuracy: 0.3941\n",
            "Epoch 00053: saving model to model/keypoint_classifier\\keypoint_classifier.hdf5\n",
            "92/92 [==============================] - 0s 1ms/step - loss: 1.7345 - accuracy: 0.3945 - val_loss: 1.1446 - val_accuracy: 0.6554\n",
            "Epoch 54/1000\n",
            "52/92 [===============>..............] - ETA: 0s - loss: 1.7321 - accuracy: 0.3939\n",
            "Epoch 00054: saving model to model/keypoint_classifier\\keypoint_classifier.hdf5\n",
            "92/92 [==============================] - 0s 1ms/step - loss: 1.7364 - accuracy: 0.3975 - val_loss: 1.1410 - val_accuracy: 0.6790\n",
            "Epoch 55/1000\n",
            "49/92 [==============>...............] - ETA: 0s - loss: 1.7503 - accuracy: 0.3941\n",
            "Epoch 00055: saving model to model/keypoint_classifier\\keypoint_classifier.hdf5\n",
            "92/92 [==============================] - 0s 2ms/step - loss: 1.7507 - accuracy: 0.3921 - val_loss: 1.1470 - val_accuracy: 0.7149\n",
            "Epoch 56/1000\n",
            "51/92 [===============>..............] - ETA: 0s - loss: 1.7471 - accuracy: 0.3894\n",
            "Epoch 00056: saving model to model/keypoint_classifier\\keypoint_classifier.hdf5\n",
            "92/92 [==============================] - 0s 1ms/step - loss: 1.7255 - accuracy: 0.3966 - val_loss: 1.1315 - val_accuracy: 0.7059\n",
            "Epoch 57/1000\n",
            "53/92 [================>.............] - ETA: 0s - loss: 1.7235 - accuracy: 0.3977\n",
            "Epoch 00057: saving model to model/keypoint_classifier\\keypoint_classifier.hdf5\n",
            "92/92 [==============================] - 0s 1ms/step - loss: 1.7242 - accuracy: 0.3987 - val_loss: 1.1395 - val_accuracy: 0.6890\n",
            "Epoch 58/1000\n",
            "53/92 [================>.............] - ETA: 0s - loss: 1.7238 - accuracy: 0.4061\n",
            "Epoch 00058: saving model to model/keypoint_classifier\\keypoint_classifier.hdf5\n",
            "92/92 [==============================] - 0s 1ms/step - loss: 1.7236 - accuracy: 0.4038 - val_loss: 1.1460 - val_accuracy: 0.7031\n",
            "Epoch 59/1000\n",
            "52/92 [===============>..............] - ETA: 0s - loss: 1.7137 - accuracy: 0.3968\n",
            "Epoch 00059: saving model to model/keypoint_classifier\\keypoint_classifier.hdf5\n",
            "92/92 [==============================] - 0s 1ms/step - loss: 1.7115 - accuracy: 0.4027 - val_loss: 1.1207 - val_accuracy: 0.7472\n",
            "Epoch 60/1000\n",
            "52/92 [===============>..............] - ETA: 0s - loss: 1.7282 - accuracy: 0.3981\n",
            "Epoch 00060: saving model to model/keypoint_classifier\\keypoint_classifier.hdf5\n",
            "92/92 [==============================] - 0s 1ms/step - loss: 1.7225 - accuracy: 0.3993 - val_loss: 1.1289 - val_accuracy: 0.6964\n",
            "Epoch 61/1000\n",
            "54/92 [================>.............] - ETA: 0s - loss: 1.7032 - accuracy: 0.4035\n",
            "Epoch 00061: saving model to model/keypoint_classifier\\keypoint_classifier.hdf5\n",
            "92/92 [==============================] - 0s 1ms/step - loss: 1.7135 - accuracy: 0.4011 - val_loss: 1.1286 - val_accuracy: 0.7401\n",
            "Epoch 62/1000\n",
            "52/92 [===============>..............] - ETA: 0s - loss: 1.7166 - accuracy: 0.4025\n",
            "Epoch 00062: saving model to model/keypoint_classifier\\keypoint_classifier.hdf5\n",
            "92/92 [==============================] - 0s 1ms/step - loss: 1.7047 - accuracy: 0.4046 - val_loss: 1.1114 - val_accuracy: 0.7231\n",
            "Epoch 63/1000\n",
            "51/92 [===============>..............] - ETA: 0s - loss: 1.6963 - accuracy: 0.4108\n",
            "Epoch 00063: saving model to model/keypoint_classifier\\keypoint_classifier.hdf5\n",
            "92/92 [==============================] - 0s 1ms/step - loss: 1.7132 - accuracy: 0.4026 - val_loss: 1.1233 - val_accuracy: 0.7272\n",
            "Epoch 64/1000\n",
            "52/92 [===============>..............] - ETA: 0s - loss: 1.6899 - accuracy: 0.4055\n",
            "Epoch 00064: saving model to model/keypoint_classifier\\keypoint_classifier.hdf5\n",
            "92/92 [==============================] - 0s 1ms/step - loss: 1.6976 - accuracy: 0.4048 - val_loss: 1.0960 - val_accuracy: 0.7211\n",
            "Epoch 65/1000\n",
            "53/92 [================>.............] - ETA: 0s - loss: 1.6866 - accuracy: 0.4105\n",
            "Epoch 00065: saving model to model/keypoint_classifier\\keypoint_classifier.hdf5\n",
            "92/92 [==============================] - 0s 1ms/step - loss: 1.6950 - accuracy: 0.4101 - val_loss: 1.1030 - val_accuracy: 0.7141\n",
            "Epoch 66/1000\n",
            "49/92 [==============>...............] - ETA: 0s - loss: 1.6949 - accuracy: 0.4131\n",
            "Epoch 00066: saving model to model/keypoint_classifier\\keypoint_classifier.hdf5\n",
            "92/92 [==============================] - 0s 1ms/step - loss: 1.7000 - accuracy: 0.4142 - val_loss: 1.1008 - val_accuracy: 0.7111\n",
            "Epoch 67/1000\n",
            "53/92 [================>.............] - ETA: 0s - loss: 1.6972 - accuracy: 0.4141\n",
            "Epoch 00067: saving model to model/keypoint_classifier\\keypoint_classifier.hdf5\n",
            "92/92 [==============================] - 0s 1ms/step - loss: 1.6880 - accuracy: 0.4152 - val_loss: 1.0904 - val_accuracy: 0.7475\n",
            "Epoch 68/1000\n",
            "52/92 [===============>..............] - ETA: 0s - loss: 1.6741 - accuracy: 0.4172\n",
            "Epoch 00068: saving model to model/keypoint_classifier\\keypoint_classifier.hdf5\n",
            "92/92 [==============================] - 0s 1ms/step - loss: 1.6700 - accuracy: 0.4143 - val_loss: 1.0662 - val_accuracy: 0.7375\n",
            "Epoch 69/1000\n",
            "51/92 [===============>..............] - ETA: 0s - loss: 1.6643 - accuracy: 0.4240\n",
            "Epoch 00069: saving model to model/keypoint_classifier\\keypoint_classifier.hdf5\n",
            "92/92 [==============================] - 0s 1ms/step - loss: 1.6737 - accuracy: 0.4179 - val_loss: 1.0839 - val_accuracy: 0.7485\n",
            "Epoch 70/1000\n",
            "52/92 [===============>..............] - ETA: 0s - loss: 1.6555 - accuracy: 0.4225\n",
            "Epoch 00070: saving model to model/keypoint_classifier\\keypoint_classifier.hdf5\n",
            "92/92 [==============================] - 0s 1ms/step - loss: 1.6734 - accuracy: 0.4155 - val_loss: 1.0910 - val_accuracy: 0.7339\n",
            "Epoch 71/1000\n",
            "53/92 [================>.............] - ETA: 0s - loss: 1.6869 - accuracy: 0.4200\n",
            "Epoch 00071: saving model to model/keypoint_classifier\\keypoint_classifier.hdf5\n",
            "92/92 [==============================] - 0s 1ms/step - loss: 1.6722 - accuracy: 0.4241 - val_loss: 1.0826 - val_accuracy: 0.7121\n",
            "Epoch 72/1000\n",
            "52/92 [===============>..............] - ETA: 0s - loss: 1.6830 - accuracy: 0.4160\n",
            "Epoch 00072: saving model to model/keypoint_classifier\\keypoint_classifier.hdf5\n",
            "92/92 [==============================] - 0s 1ms/step - loss: 1.6704 - accuracy: 0.4225 - val_loss: 1.0865 - val_accuracy: 0.7321\n",
            "Epoch 73/1000\n",
            "53/92 [================>.............] - ETA: 0s - loss: 1.6742 - accuracy: 0.4186\n",
            "Epoch 00073: saving model to model/keypoint_classifier\\keypoint_classifier.hdf5\n",
            "92/92 [==============================] - 0s 1ms/step - loss: 1.6678 - accuracy: 0.4227 - val_loss: 1.0750 - val_accuracy: 0.7357\n",
            "Epoch 74/1000\n",
            "52/92 [===============>..............] - ETA: 0s - loss: 1.6845 - accuracy: 0.4304\n",
            "Epoch 00074: saving model to model/keypoint_classifier\\keypoint_classifier.hdf5\n",
            "92/92 [==============================] - 0s 1ms/step - loss: 1.6685 - accuracy: 0.4325 - val_loss: 1.0677 - val_accuracy: 0.7519\n",
            "Epoch 75/1000\n",
            "52/92 [===============>..............] - ETA: 0s - loss: 1.6457 - accuracy: 0.4307\n",
            "Epoch 00075: saving model to model/keypoint_classifier\\keypoint_classifier.hdf5\n",
            "92/92 [==============================] - 0s 1ms/step - loss: 1.6507 - accuracy: 0.4290 - val_loss: 1.0636 - val_accuracy: 0.7436\n",
            "Epoch 76/1000\n",
            "51/92 [===============>..............] - ETA: 0s - loss: 1.6500 - accuracy: 0.4262\n",
            "Epoch 00076: saving model to model/keypoint_classifier\\keypoint_classifier.hdf5\n",
            "92/92 [==============================] - 0s 1ms/step - loss: 1.6530 - accuracy: 0.4251 - val_loss: 1.0582 - val_accuracy: 0.7436\n",
            "Epoch 77/1000\n",
            "40/92 [============>.................] - ETA: 0s - loss: 1.6507 - accuracy: 0.4240\n",
            "Epoch 00077: saving model to model/keypoint_classifier\\keypoint_classifier.hdf5\n",
            "92/92 [==============================] - 0s 2ms/step - loss: 1.6444 - accuracy: 0.4338 - val_loss: 1.0692 - val_accuracy: 0.7539\n",
            "Epoch 78/1000\n",
            "53/92 [================>.............] - ETA: 0s - loss: 1.6614 - accuracy: 0.4337\n",
            "Epoch 00078: saving model to model/keypoint_classifier\\keypoint_classifier.hdf5\n",
            "92/92 [==============================] - 0s 1ms/step - loss: 1.6530 - accuracy: 0.4356 - val_loss: 1.0718 - val_accuracy: 0.7293\n",
            "Epoch 79/1000\n",
            "51/92 [===============>..............] - ETA: 0s - loss: 1.6360 - accuracy: 0.4349\n",
            "Epoch 00079: saving model to model/keypoint_classifier\\keypoint_classifier.hdf5\n",
            "92/92 [==============================] - 0s 1ms/step - loss: 1.6448 - accuracy: 0.4327 - val_loss: 1.0754 - val_accuracy: 0.7488\n",
            "Epoch 80/1000\n",
            "51/92 [===============>..............] - ETA: 0s - loss: 1.6403 - accuracy: 0.4334\n",
            "Epoch 00080: saving model to model/keypoint_classifier\\keypoint_classifier.hdf5\n",
            "92/92 [==============================] - 0s 1ms/step - loss: 1.6405 - accuracy: 0.4342 - val_loss: 1.0508 - val_accuracy: 0.7585\n",
            "Epoch 81/1000\n",
            "50/92 [===============>..............] - ETA: 0s - loss: 1.6264 - accuracy: 0.4295\n",
            "Epoch 00081: saving model to model/keypoint_classifier\\keypoint_classifier.hdf5\n",
            "92/92 [==============================] - 0s 1ms/step - loss: 1.6258 - accuracy: 0.4289 - val_loss: 1.0613 - val_accuracy: 0.7590\n",
            "Epoch 82/1000\n",
            "52/92 [===============>..............] - ETA: 0s - loss: 1.6328 - accuracy: 0.4392\n",
            "Epoch 00082: saving model to model/keypoint_classifier\\keypoint_classifier.hdf5\n",
            "92/92 [==============================] - 0s 1ms/step - loss: 1.6343 - accuracy: 0.4383 - val_loss: 1.0514 - val_accuracy: 0.7660\n",
            "Epoch 83/1000\n",
            "53/92 [================>.............] - ETA: 0s - loss: 1.6275 - accuracy: 0.4379\n",
            "Epoch 00083: saving model to model/keypoint_classifier\\keypoint_classifier.hdf5\n",
            "92/92 [==============================] - 0s 1ms/step - loss: 1.6415 - accuracy: 0.4369 - val_loss: 1.0500 - val_accuracy: 0.7701\n",
            "Epoch 84/1000\n",
            "52/92 [===============>..............] - ETA: 0s - loss: 1.6245 - accuracy: 0.4343\n",
            "Epoch 00084: saving model to model/keypoint_classifier\\keypoint_classifier.hdf5\n",
            "92/92 [==============================] - 0s 1ms/step - loss: 1.6205 - accuracy: 0.4344 - val_loss: 1.0589 - val_accuracy: 0.7593\n",
            "Epoch 85/1000\n",
            "50/92 [===============>..............] - ETA: 0s - loss: 1.6384 - accuracy: 0.4291\n",
            "Epoch 00085: saving model to model/keypoint_classifier\\keypoint_classifier.hdf5\n",
            "92/92 [==============================] - 0s 1ms/step - loss: 1.6329 - accuracy: 0.4306 - val_loss: 1.0471 - val_accuracy: 0.7675\n",
            "Epoch 86/1000\n",
            "51/92 [===============>..............] - ETA: 0s - loss: 1.6072 - accuracy: 0.4361\n",
            "Epoch 00086: saving model to model/keypoint_classifier\\keypoint_classifier.hdf5\n",
            "92/92 [==============================] - 0s 1ms/step - loss: 1.6133 - accuracy: 0.4361 - val_loss: 1.0408 - val_accuracy: 0.7462\n",
            "Epoch 87/1000\n",
            "49/92 [==============>...............] - ETA: 0s - loss: 1.6276 - accuracy: 0.4439\n",
            "Epoch 00087: saving model to model/keypoint_classifier\\keypoint_classifier.hdf5\n",
            "92/92 [==============================] - 0s 1ms/step - loss: 1.6222 - accuracy: 0.4358 - val_loss: 1.0532 - val_accuracy: 0.7655\n",
            "Epoch 88/1000\n",
            "52/92 [===============>..............] - ETA: 0s - loss: 1.6342 - accuracy: 0.4401\n",
            "Epoch 00088: saving model to model/keypoint_classifier\\keypoint_classifier.hdf5\n",
            "92/92 [==============================] - 0s 1ms/step - loss: 1.6292 - accuracy: 0.4408 - val_loss: 1.0535 - val_accuracy: 0.7496\n",
            "Epoch 89/1000\n",
            "51/92 [===============>..............] - ETA: 0s - loss: 1.5966 - accuracy: 0.4321\n",
            "Epoch 00089: saving model to model/keypoint_classifier\\keypoint_classifier.hdf5\n",
            "92/92 [==============================] - 0s 1ms/step - loss: 1.6078 - accuracy: 0.4364 - val_loss: 1.0336 - val_accuracy: 0.7626\n",
            "Epoch 90/1000\n",
            "50/92 [===============>..............] - ETA: 0s - loss: 1.6208 - accuracy: 0.4525\n",
            "Epoch 00090: saving model to model/keypoint_classifier\\keypoint_classifier.hdf5\n",
            "92/92 [==============================] - 0s 1ms/step - loss: 1.6117 - accuracy: 0.4441 - val_loss: 1.0409 - val_accuracy: 0.7642\n",
            "Epoch 91/1000\n",
            "54/92 [================>.............] - ETA: 0s - loss: 1.6122 - accuracy: 0.4453\n",
            "Epoch 00091: saving model to model/keypoint_classifier\\keypoint_classifier.hdf5\n",
            "92/92 [==============================] - 0s 1ms/step - loss: 1.5983 - accuracy: 0.4462 - val_loss: 1.0350 - val_accuracy: 0.7513\n",
            "Epoch 92/1000\n",
            "52/92 [===============>..............] - ETA: 0s - loss: 1.6057 - accuracy: 0.4414\n",
            "Epoch 00092: saving model to model/keypoint_classifier\\keypoint_classifier.hdf5\n",
            "92/92 [==============================] - 0s 1ms/step - loss: 1.6034 - accuracy: 0.4481 - val_loss: 1.0506 - val_accuracy: 0.7503\n",
            "Epoch 93/1000\n",
            "53/92 [================>.............] - ETA: 0s - loss: 1.5990 - accuracy: 0.4438\n",
            "Epoch 00093: saving model to model/keypoint_classifier\\keypoint_classifier.hdf5\n",
            "92/92 [==============================] - 0s 1ms/step - loss: 1.6003 - accuracy: 0.4441 - val_loss: 1.0409 - val_accuracy: 0.7706\n",
            "Epoch 94/1000\n",
            "42/92 [============>.................] - ETA: 0s - loss: 1.6076 - accuracy: 0.4459\n",
            "Epoch 00094: saving model to model/keypoint_classifier\\keypoint_classifier.hdf5\n",
            "92/92 [==============================] - 0s 1ms/step - loss: 1.6142 - accuracy: 0.4406 - val_loss: 1.0495 - val_accuracy: 0.7431\n",
            "Epoch 95/1000\n",
            "52/92 [===============>..............] - ETA: 0s - loss: 1.5898 - accuracy: 0.4404\n",
            "Epoch 00095: saving model to model/keypoint_classifier\\keypoint_classifier.hdf5\n",
            "92/92 [==============================] - 0s 1ms/step - loss: 1.5928 - accuracy: 0.4452 - val_loss: 1.0453 - val_accuracy: 0.7708\n",
            "Epoch 96/1000\n",
            "50/92 [===============>..............] - ETA: 0s - loss: 1.6035 - accuracy: 0.4356\n",
            "Epoch 00096: saving model to model/keypoint_classifier\\keypoint_classifier.hdf5\n",
            "92/92 [==============================] - 0s 1ms/step - loss: 1.6127 - accuracy: 0.4373 - val_loss: 1.0551 - val_accuracy: 0.7508\n",
            "Epoch 97/1000\n",
            "51/92 [===============>..............] - ETA: 0s - loss: 1.5760 - accuracy: 0.4556\n",
            "Epoch 00097: saving model to model/keypoint_classifier\\keypoint_classifier.hdf5\n",
            "92/92 [==============================] - 0s 1ms/step - loss: 1.5840 - accuracy: 0.4506 - val_loss: 1.0228 - val_accuracy: 0.7680\n",
            "Epoch 98/1000\n",
            "53/92 [================>.............] - ETA: 0s - loss: 1.5997 - accuracy: 0.4483\n",
            "Epoch 00098: saving model to model/keypoint_classifier\\keypoint_classifier.hdf5\n",
            "92/92 [==============================] - 0s 1ms/step - loss: 1.5971 - accuracy: 0.4465 - val_loss: 1.0269 - val_accuracy: 0.7757\n",
            "Epoch 99/1000\n",
            "52/92 [===============>..............] - ETA: 0s - loss: 1.6049 - accuracy: 0.4407\n",
            "Epoch 00099: saving model to model/keypoint_classifier\\keypoint_classifier.hdf5\n",
            "92/92 [==============================] - 0s 1ms/step - loss: 1.5846 - accuracy: 0.4484 - val_loss: 1.0353 - val_accuracy: 0.7395\n",
            "Epoch 100/1000\n",
            "52/92 [===============>..............] - ETA: 0s - loss: 1.5739 - accuracy: 0.4503\n",
            "Epoch 00100: saving model to model/keypoint_classifier\\keypoint_classifier.hdf5\n",
            "92/92 [==============================] - 0s 1ms/step - loss: 1.5771 - accuracy: 0.4555 - val_loss: 1.0244 - val_accuracy: 0.7649\n",
            "Epoch 101/1000\n",
            "52/92 [===============>..............] - ETA: 0s - loss: 1.5944 - accuracy: 0.4468\n",
            "Epoch 00101: saving model to model/keypoint_classifier\\keypoint_classifier.hdf5\n",
            "92/92 [==============================] - 0s 1ms/step - loss: 1.5827 - accuracy: 0.4505 - val_loss: 1.0185 - val_accuracy: 0.7716\n",
            "Epoch 102/1000\n",
            "51/92 [===============>..............] - ETA: 0s - loss: 1.5800 - accuracy: 0.4586\n",
            "Epoch 00102: saving model to model/keypoint_classifier\\keypoint_classifier.hdf5\n",
            "92/92 [==============================] - 0s 1ms/step - loss: 1.5799 - accuracy: 0.4577 - val_loss: 1.0292 - val_accuracy: 0.7416\n",
            "Epoch 103/1000\n",
            "53/92 [================>.............] - ETA: 0s - loss: 1.5687 - accuracy: 0.4537\n",
            "Epoch 00103: saving model to model/keypoint_classifier\\keypoint_classifier.hdf5\n",
            "92/92 [==============================] - 0s 1ms/step - loss: 1.5811 - accuracy: 0.4515 - val_loss: 1.0043 - val_accuracy: 0.7711\n",
            "Epoch 104/1000\n",
            "52/92 [===============>..............] - ETA: 0s - loss: 1.5895 - accuracy: 0.4497\n",
            "Epoch 00104: saving model to model/keypoint_classifier\\keypoint_classifier.hdf5\n",
            "92/92 [==============================] - 0s 1ms/step - loss: 1.5620 - accuracy: 0.4576 - val_loss: 1.0205 - val_accuracy: 0.7513\n",
            "Epoch 105/1000\n",
            "52/92 [===============>..............] - ETA: 0s - loss: 1.5426 - accuracy: 0.4596\n",
            "Epoch 00105: saving model to model/keypoint_classifier\\keypoint_classifier.hdf5\n",
            "92/92 [==============================] - 0s 1ms/step - loss: 1.5631 - accuracy: 0.4574 - val_loss: 1.0308 - val_accuracy: 0.7703\n",
            "Epoch 106/1000\n",
            "49/92 [==============>...............] - ETA: 0s - loss: 1.5389 - accuracy: 0.4716\n",
            "Epoch 00106: saving model to model/keypoint_classifier\\keypoint_classifier.hdf5\n",
            "92/92 [==============================] - 0s 1ms/step - loss: 1.5467 - accuracy: 0.4663 - val_loss: 1.0408 - val_accuracy: 0.7534\n",
            "Epoch 107/1000\n",
            "55/92 [================>.............] - ETA: 0s - loss: 1.5467 - accuracy: 0.4649\n",
            "Epoch 00107: saving model to model/keypoint_classifier\\keypoint_classifier.hdf5\n",
            "92/92 [==============================] - 0s 1ms/step - loss: 1.5519 - accuracy: 0.4645 - val_loss: 1.0355 - val_accuracy: 0.7439\n",
            "Epoch 108/1000\n",
            "54/92 [================>.............] - ETA: 0s - loss: 1.5659 - accuracy: 0.4605\n",
            "Epoch 00108: saving model to model/keypoint_classifier\\keypoint_classifier.hdf5\n",
            "92/92 [==============================] - 0s 1ms/step - loss: 1.5691 - accuracy: 0.4597 - val_loss: 1.0091 - val_accuracy: 0.7737\n",
            "Epoch 109/1000\n",
            "42/92 [============>.................] - ETA: 0s - loss: 1.5678 - accuracy: 0.4555\n",
            "Epoch 00109: saving model to model/keypoint_classifier\\keypoint_classifier.hdf5\n",
            "92/92 [==============================] - 0s 2ms/step - loss: 1.5651 - accuracy: 0.4610 - val_loss: 1.0162 - val_accuracy: 0.7703\n",
            "Epoch 110/1000\n",
            "50/92 [===============>..............] - ETA: 0s - loss: 1.5454 - accuracy: 0.4702\n",
            "Epoch 00110: saving model to model/keypoint_classifier\\keypoint_classifier.hdf5\n",
            "92/92 [==============================] - 0s 1ms/step - loss: 1.5510 - accuracy: 0.4668 - val_loss: 1.0191 - val_accuracy: 0.7480\n",
            "Epoch 111/1000\n",
            "52/92 [===============>..............] - ETA: 0s - loss: 1.5755 - accuracy: 0.4603\n",
            "Epoch 00111: saving model to model/keypoint_classifier\\keypoint_classifier.hdf5\n",
            "92/92 [==============================] - 0s 1ms/step - loss: 1.5674 - accuracy: 0.4602 - val_loss: 1.0210 - val_accuracy: 0.7662\n",
            "Epoch 112/1000\n",
            "51/92 [===============>..............] - ETA: 0s - loss: 1.5532 - accuracy: 0.4666\n",
            "Epoch 00112: saving model to model/keypoint_classifier\\keypoint_classifier.hdf5\n",
            "92/92 [==============================] - 0s 1ms/step - loss: 1.5525 - accuracy: 0.4620 - val_loss: 1.0188 - val_accuracy: 0.7555\n",
            "Epoch 113/1000\n",
            "52/92 [===============>..............] - ETA: 0s - loss: 1.5494 - accuracy: 0.4721\n",
            "Epoch 00113: saving model to model/keypoint_classifier\\keypoint_classifier.hdf5\n",
            "92/92 [==============================] - 0s 1ms/step - loss: 1.5424 - accuracy: 0.4701 - val_loss: 1.0313 - val_accuracy: 0.7655\n",
            "Epoch 114/1000\n",
            "52/92 [===============>..............] - ETA: 0s - loss: 1.5715 - accuracy: 0.4540\n",
            "Epoch 00114: saving model to model/keypoint_classifier\\keypoint_classifier.hdf5\n",
            "92/92 [==============================] - 0s 1ms/step - loss: 1.5732 - accuracy: 0.4534 - val_loss: 1.0245 - val_accuracy: 0.7555\n",
            "Epoch 115/1000\n",
            "51/92 [===============>..............] - ETA: 0s - loss: 1.5311 - accuracy: 0.4727\n",
            "Epoch 00115: saving model to model/keypoint_classifier\\keypoint_classifier.hdf5\n",
            "92/92 [==============================] - 0s 1ms/step - loss: 1.5506 - accuracy: 0.4683 - val_loss: 1.0399 - val_accuracy: 0.7470\n",
            "Epoch 116/1000\n",
            "50/92 [===============>..............] - ETA: 0s - loss: 1.5384 - accuracy: 0.4669\n",
            "Epoch 00116: saving model to model/keypoint_classifier\\keypoint_classifier.hdf5\n",
            "92/92 [==============================] - 0s 1ms/step - loss: 1.5539 - accuracy: 0.4682 - val_loss: 1.0064 - val_accuracy: 0.7801\n",
            "Epoch 117/1000\n",
            "51/92 [===============>..............] - ETA: 0s - loss: 1.5772 - accuracy: 0.4519\n",
            "Epoch 00117: saving model to model/keypoint_classifier\\keypoint_classifier.hdf5\n",
            "92/92 [==============================] - 0s 1ms/step - loss: 1.5534 - accuracy: 0.4616 - val_loss: 1.0247 - val_accuracy: 0.7652\n",
            "Epoch 118/1000\n",
            "52/92 [===============>..............] - ETA: 0s - loss: 1.5612 - accuracy: 0.4648\n",
            "Epoch 00118: saving model to model/keypoint_classifier\\keypoint_classifier.hdf5\n",
            "92/92 [==============================] - 0s 1ms/step - loss: 1.5440 - accuracy: 0.4692 - val_loss: 1.0137 - val_accuracy: 0.7698\n",
            "Epoch 119/1000\n",
            "50/92 [===============>..............] - ETA: 0s - loss: 1.5594 - accuracy: 0.4597\n",
            "Epoch 00119: saving model to model/keypoint_classifier\\keypoint_classifier.hdf5\n",
            "92/92 [==============================] - 0s 1ms/step - loss: 1.5555 - accuracy: 0.4618 - val_loss: 1.0237 - val_accuracy: 0.7549\n",
            "Epoch 120/1000\n",
            "52/92 [===============>..............] - ETA: 0s - loss: 1.5439 - accuracy: 0.4706\n",
            "Epoch 00120: saving model to model/keypoint_classifier\\keypoint_classifier.hdf5\n",
            "92/92 [==============================] - 0s 1ms/step - loss: 1.5454 - accuracy: 0.4658 - val_loss: 1.0048 - val_accuracy: 0.7621\n",
            "Epoch 121/1000\n",
            "52/92 [===============>..............] - ETA: 0s - loss: 1.5133 - accuracy: 0.4796\n",
            "Epoch 00121: saving model to model/keypoint_classifier\\keypoint_classifier.hdf5\n",
            "92/92 [==============================] - 0s 1ms/step - loss: 1.5268 - accuracy: 0.4743 - val_loss: 1.0136 - val_accuracy: 0.7673\n",
            "Epoch 122/1000\n",
            "50/92 [===============>..............] - ETA: 0s - loss: 1.5474 - accuracy: 0.4683\n",
            "Epoch 00122: saving model to model/keypoint_classifier\\keypoint_classifier.hdf5\n",
            "92/92 [==============================] - 0s 1ms/step - loss: 1.5471 - accuracy: 0.4684 - val_loss: 1.0068 - val_accuracy: 0.7839\n",
            "Epoch 123/1000\n",
            "40/92 [============>.................] - ETA: 0s - loss: 1.5406 - accuracy: 0.4666\n",
            "Epoch 00123: saving model to model/keypoint_classifier\\keypoint_classifier.hdf5\n",
            "92/92 [==============================] - 0s 2ms/step - loss: 1.5298 - accuracy: 0.4693 - val_loss: 1.0082 - val_accuracy: 0.7770\n",
            "Epoch 00123: early stopping\n"
          ]
        },
        {
          "data": {
            "text/plain": [
              "<tensorflow.python.keras.callbacks.History at 0x1c7c8b07f98>"
            ]
          },
          "execution_count": 11,
          "metadata": {},
          "output_type": "execute_result"
        }
      ],
      "source": [
        "model.fit(\n",
        "    X_train,\n",
        "    y_train,\n",
        "    epochs=1000,\n",
        "    batch_size=128,\n",
        "    validation_data=(X_test, y_test),\n",
        "    callbacks=[cp_callback, es_callback]\n",
        ")"
      ]
    },
    {
      "cell_type": "code",
      "execution_count": 12,
      "metadata": {
        "colab": {
          "base_uri": "https://localhost:8080/"
        },
        "id": "pxvb2Y299hE3",
        "outputId": "59eb3185-2e37-4b9e-bc9d-ab1b8ac29b7f"
      },
      "outputs": [
        {
          "name": "stdout",
          "output_type": "stream",
          "text": [
            " 1/31 [..............................] - ETA: 0s - loss: 0.9601 - accuracy: 0.7656WARNING:tensorflow:Callbacks method `on_test_batch_end` is slow compared to the batch time (batch time: 0.0000s vs `on_test_batch_end` time: 0.0010s). Check your callbacks.\n",
            "31/31 [==============================] - 0s 678us/step - loss: 1.0082 - accuracy: 0.7770\n"
          ]
        }
      ],
      "source": [
        "# Model evaluation\n",
        "val_loss, val_acc = model.evaluate(X_test, y_test, batch_size=128)"
      ]
    },
    {
      "cell_type": "code",
      "execution_count": 13,
      "metadata": {
        "id": "RBkmDeUW9hE4"
      },
      "outputs": [],
      "source": [
        "# Loading the saved model\n",
        "model = tf.keras.models.load_model(model_save_path)"
      ]
    },
    {
      "cell_type": "code",
      "execution_count": 14,
      "metadata": {
        "colab": {
          "base_uri": "https://localhost:8080/"
        },
        "id": "tFz9Tb0I9hE4",
        "outputId": "1c3b3528-54ae-4ee2-ab04-77429211cbef"
      },
      "outputs": [
        {
          "name": "stdout",
          "output_type": "stream",
          "text": [
            "[9.43264109e-04 3.28958011e-03 1.71061931e-03 9.53575596e-02\n",
            " 1.10778816e-01 6.49232194e-02 4.95099521e-04 1.42674997e-01\n",
            " 3.86982465e-05 1.56217609e-02 4.09062356e-02 8.05984484e-04\n",
            " 1.83295720e-04 1.39427336e-03 1.17687485e-03 4.61270809e-01\n",
            " 5.79857951e-05 1.44702999e-05 4.97985020e-05 9.69641667e-04\n",
            " 4.05505253e-03 6.36046316e-05 3.66453678e-05 2.70339006e-05\n",
            " 3.75956409e-02 3.18642799e-03 1.23725552e-02]\n",
            "15\n"
          ]
        }
      ],
      "source": [
        "# Inference test\n",
        "predict_result = model.predict(np.array([X_test[0]]))\n",
        "print(np.squeeze(predict_result))\n",
        "print(np.argmax(np.squeeze(predict_result)))"
      ]
    },
    {
      "cell_type": "markdown",
      "metadata": {
        "id": "S3U4yNWx9hE4"
      },
      "source": [
        "# Confusion matrix"
      ]
    },
    {
      "cell_type": "code",
      "execution_count": 15,
      "metadata": {
        "colab": {
          "base_uri": "https://localhost:8080/",
          "height": 582
        },
        "id": "AP1V6SCk9hE5",
        "outputId": "08e41a80-7a4a-4619-8125-ecc371368d19"
      },
      "outputs": [
        {
          "data": {
            "image/png": "[encoded data removed]",
            "text/plain": [
              "<Figure size 504x432 with 2 Axes>"
            ]
          },
          "metadata": {
            "needs_background": "light"
          },
          "output_type": "display_data"
        },
        {
          "name": "stdout",
          "output_type": "stream",
          "text": [
            "Classification Report\n",
            "              precision    recall  f1-score   support\n",
            "\n",
            "           0       0.92      0.89      0.91        93\n",
            "           1       0.92      0.89      0.91       133\n",
            "           2       0.79      0.76      0.77       103\n",
            "           3       0.85      0.81      0.83       100\n",
            "           4       0.72      0.91      0.80       131\n",
            "           5       0.63      0.44      0.52       185\n",
            "           6       1.00      0.34      0.51        53\n",
            "           7       0.89      0.85      0.87       136\n",
            "           8       0.81      0.85      0.83        72\n",
            "           9       0.96      0.67      0.79       141\n",
            "          10       0.93      0.78      0.85        97\n",
            "          11       0.97      0.87      0.92       139\n",
            "          12       1.00      0.95      0.98       150\n",
            "          13       0.56      0.31      0.40       118\n",
            "          14       0.60      0.97      0.74       128\n",
            "          15       0.86      0.79      0.82        89\n",
            "          16       0.98      0.87      0.92       178\n",
            "          17       0.86      0.99      0.92       212\n",
            "          18       0.87      0.46      0.60       201\n",
            "          19       0.58      0.84      0.69       230\n",
            "          20       0.64      0.98      0.78       133\n",
            "          21       0.58      0.67      0.62       212\n",
            "          22       0.56      0.77      0.65       188\n",
            "          23       0.98      0.98      0.98        93\n",
            "          24       0.79      0.25      0.38       109\n",
            "          25       0.99      0.95      0.97       112\n",
            "          26       0.81      0.88      0.84       361\n",
            "\n",
            "    accuracy                           0.78      3897\n",
            "   macro avg       0.82      0.77      0.77      3897\n",
            "weighted avg       0.80      0.78      0.77      3897\n",
            "\n"
          ]
        }
      ],
      "source": [
        "import pandas as pd\n",
        "import seaborn as sns\n",
        "import matplotlib.pyplot as plt\n",
        "from sklearn.metrics import confusion_matrix, classification_report\n",
        "\n",
        "def print_confusion_matrix(y_true, y_pred, report=True):\n",
        "    labels = sorted(list(set(y_true)))\n",
        "    cmx_data = confusion_matrix(y_true, y_pred, labels=labels)\n",
        "    \n",
        "    df_cmx = pd.DataFrame(cmx_data, index=labels, columns=labels)\n",
        " \n",
        "    fig, ax = plt.subplots(figsize=(7, 6))\n",
        "    sns.heatmap(df_cmx, annot=True, fmt='g' ,square=False)\n",
        "    ax.set_ylim(len(set(y_true)), 0)\n",
        "    plt.show()\n",
        "    \n",
        "    if report:\n",
        "        print('Classification Report')\n",
        "        print(classification_report(y_test, y_pred))\n",
        "\n",
        "Y_pred = model.predict(X_test)\n",
        "y_pred = np.argmax(Y_pred, axis=1)\n",
        "\n",
        "print_confusion_matrix(y_test, y_pred)"
      ]
    },
    {
      "cell_type": "markdown",
      "metadata": {
        "id": "FNP6aqzc9hE5"
      },
      "source": [
        "# Convert to model for Tensorflow-Lite"
      ]
    },
    {
      "cell_type": "code",
      "execution_count": 16,
      "metadata": {
        "id": "ODjnYyld9hE6"
      },
      "outputs": [],
      "source": [
        "# Save as a model dedicated to inference\n",
        "model.save(model_save_path, include_optimizer=False)"
      ]
    },
    {
      "cell_type": "code",
      "execution_count": 17,
      "metadata": {
        "colab": {
          "base_uri": "https://localhost:8080/"
        },
        "id": "zRfuK8Y59hE6",
        "outputId": "a4ca585c-b5d5-4244-8291-8674063209bb"
      },
      "outputs": [
        {
          "name": "stdout",
          "output_type": "stream",
          "text": [
            "WARNING:tensorflow:From d:\\Coding\\Z Project\\hand-gesture-sign-recognition\\.venv\\lib\\site-packages\\tensorflow\\python\\training\\tracking\\tracking.py:111: Model.state_updates (from tensorflow.python.keras.engine.training) is deprecated and will be removed in a future version.\n",
            "Instructions for updating:\n",
            "This property should not be used in TensorFlow 2.0, as updates are applied automatically.\n",
            "WARNING:tensorflow:From d:\\Coding\\Z Project\\hand-gesture-sign-recognition\\.venv\\lib\\site-packages\\tensorflow\\python\\training\\tracking\\tracking.py:111: Layer.updates (from tensorflow.python.keras.engine.base_layer) is deprecated and will be removed in a future version.\n",
            "Instructions for updating:\n",
            "This property should not be used in TensorFlow 2.0, as updates are applied automatically.\n",
            "INFO:tensorflow:Assets written to: C:\\Users\\WONGCH~1\\AppData\\Local\\Temp\\tmp79zb244q\\assets\n"
          ]
        },
        {
          "data": {
            "text/plain": [
              "7280"
            ]
          },
          "execution_count": 17,
          "metadata": {},
          "output_type": "execute_result"
        }
      ],
      "source": [
        "# Transform model (quantization)\n",
        "\n",
        "converter = tf.lite.TFLiteConverter.from_keras_model(model)\n",
        "converter.optimizations = [tf.lite.Optimize.DEFAULT]\n",
        "tflite_quantized_model = converter.convert()\n",
        "\n",
        "open(tflite_save_path, 'wb').write(tflite_quantized_model)"
      ]
    },
    {
      "cell_type": "markdown",
      "metadata": {
        "id": "CHBPBXdx9hE6"
      },
      "source": [
        "# Inference test"
      ]
    },
    {
      "cell_type": "code",
      "execution_count": 18,
      "metadata": {
        "id": "mGAzLocO9hE7"
      },
      "outputs": [],
      "source": [
        "interpreter = tf.lite.Interpreter(model_path=tflite_save_path)\n",
        "interpreter.allocate_tensors()"
      ]
    },
    {
      "cell_type": "code",
      "execution_count": 19,
      "metadata": {
        "id": "oQuDK8YS9hE7"
      },
      "outputs": [],
      "source": [
        "# Get I / O tensor\n",
        "input_details = interpreter.get_input_details()\n",
        "output_details = interpreter.get_output_details()"
      ]
    },
    {
      "cell_type": "code",
      "execution_count": 20,
      "metadata": {
        "id": "2_ixAf_l9hE7"
      },
      "outputs": [],
      "source": [
        "interpreter.set_tensor(input_details[0]['index'], np.array([X_test[0]]))"
      ]
    },
    {
      "cell_type": "code",
      "execution_count": 21,
      "metadata": {
        "colab": {
          "base_uri": "https://localhost:8080/"
        },
        "id": "s4FoAnuc9hE7",
        "outputId": "91f18257-8d8b-4ef3-c558-e9b5f94fabbf",
        "scrolled": true
      },
      "outputs": [
        {
          "name": "stdout",
          "output_type": "stream",
          "text": [
            "Wall time: 0 ns\n"
          ]
        }
      ],
      "source": [
        "%%time\n",
        "# Inference implementation\n",
        "interpreter.invoke()\n",
        "tflite_results = interpreter.get_tensor(output_details[0]['index'])"
      ]
    },
    {
      "cell_type": "code",
      "execution_count": 22,
      "metadata": {
        "colab": {
          "base_uri": "https://localhost:8080/"
        },
        "id": "vONjp19J9hE8",
        "outputId": "77205e24-fd00-42c4-f7b6-e06e527c2cba"
      },
      "outputs": [
        {
          "name": "stdout",
          "output_type": "stream",
          "text": [
            "[9.4326289e-04 3.2895776e-03 1.7106188e-03 9.5357515e-02 1.1077870e-01\n",
            " 6.4923204e-02 4.9509888e-04 1.4267501e-01 3.8698199e-05 1.5621756e-02\n",
            " 4.0906232e-02 8.0598344e-04 1.8329566e-04 1.3942729e-03 1.1768746e-03\n",
            " 4.6127111e-01 5.7985715e-05 1.4470296e-05 4.9798389e-05 9.6963951e-04\n",
            " 4.0550493e-03 6.3604544e-05 3.6645288e-05 2.7033866e-05 3.7595619e-02\n",
            " 3.1864301e-03 1.2372552e-02]\n",
            "15\n"
          ]
        }
      ],
      "source": [
        "print(np.squeeze(tflite_results))\n",
        "print(np.argmax(np.squeeze(tflite_results)))"
      ]
    }
  ],
  "metadata": {
    "accelerator": "GPU",
    "colab": {
      "collapsed_sections": [],
      "name": "keypoint_classification_EN.ipynb",
      "provenance": [],
      "toc_visible": true
    },
    "kernelspec": {
      "display_name": "Python 3",
      "language": "python",
      "name": "python3"
    },
    "language_info": {
      "codemirror_mode": {
        "name": "ipython",
        "version": 3
      },
      "file_extension": ".py",
      "mimetype": "text/x-python",
      "name": "python",
      "nbconvert_exporter": "python",
      "pygments_lexer": "ipython3",
      "version": "3.6.8"
    }
  },
  "nbformat": 4,
  "nbformat_minor": 0
}
