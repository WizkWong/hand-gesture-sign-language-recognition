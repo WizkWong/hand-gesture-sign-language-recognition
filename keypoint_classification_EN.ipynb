{
  "cells": [
    {
      "cell_type": "code",
      "execution_count": 89,
      "metadata": {
        "id": "igMyGnjE9hEp"
      },
      "outputs": [],
      "source": [
        "import csv\n",
        "\n",
        "import numpy as np\n",
        "import tensorflow as tf\n",
        "from sklearn.model_selection import train_test_split\n",
        "\n",
        "RANDOM_SEED = 42"
      ]
    },
    {
      "cell_type": "markdown",
      "metadata": {
        "id": "t2HDvhIu9hEr"
      },
      "source": [
        "# Specify each path"
      ]
    },
    {
      "cell_type": "code",
      "execution_count": 90,
      "metadata": {
        "id": "9NvZP2Zn9hEy"
      },
      "outputs": [],
      "source": [
        "dataset = 'model/keypoint_classifier/keypoint.csv'\n",
        "model_save_path = 'model/keypoint_classifier/keypoint_classifier.hdf5'\n",
        "tflite_save_path = 'model/keypoint_classifier/keypoint_classifier.tflite'"
      ]
    },
    {
      "cell_type": "markdown",
      "metadata": {
        "id": "s5oMH7x19hEz"
      },
      "source": [
        "# Set number of classes"
      ]
    },
    {
      "cell_type": "code",
      "execution_count": 91,
      "metadata": {
        "id": "du4kodXL9hEz"
      },
      "outputs": [],
      "source": [
        "NUM_CLASSES = 27"
      ]
    },
    {
      "cell_type": "markdown",
      "metadata": {
        "id": "XjnL0uso9hEz"
      },
      "source": [
        "# Dataset reading"
      ]
    },
    {
      "cell_type": "code",
      "execution_count": 92,
      "metadata": {
        "id": "QT5ZqtEz9hE0"
      },
      "outputs": [],
      "source": [
        "X_dataset = np.loadtxt(dataset, delimiter=',', dtype='float32', usecols=list(range(1, (21 * 2) + 1)))"
      ]
    },
    {
      "cell_type": "code",
      "execution_count": 93,
      "metadata": {
        "id": "QmoKFsp49hE0"
      },
      "outputs": [],
      "source": [
        "y_dataset = np.loadtxt(dataset, delimiter=',', dtype='int32', usecols=(0))"
      ]
    },
    {
      "cell_type": "code",
      "execution_count": 94,
      "metadata": {
        "id": "xQU7JTZ_9hE0"
      },
      "outputs": [],
      "source": [
        "X_train, X_test, y_train, y_test = train_test_split(X_dataset, y_dataset, train_size=0.75, random_state=RANDOM_SEED)"
      ]
    },
    {
      "cell_type": "markdown",
      "metadata": {
        "id": "mxK_lETT9hE0"
      },
      "source": [
        "# Model building"
      ]
    },
    {
      "cell_type": "code",
      "execution_count": 95,
      "metadata": {
        "id": "vHBmUf1t9hE1"
      },
      "outputs": [],
      "source": [
        "model = tf.keras.models.Sequential([\n",
        "    tf.keras.layers.Input((21 * 2, )),\n",
        "    tf.keras.layers.Dropout(0.2),\n",
        "    tf.keras.layers.Dense(20, activation='relu'),\n",
        "    tf.keras.layers.Dropout(0.4),\n",
        "    tf.keras.layers.Dense(10, activation='relu'),\n",
        "    tf.keras.layers.Dense(NUM_CLASSES, activation='softmax')\n",
        "])"
      ]
    },
    {
      "cell_type": "code",
      "execution_count": 96,
      "metadata": {
        "colab": {
          "base_uri": "https://localhost:8080/"
        },
        "id": "ypqky9tc9hE1",
        "outputId": "5db082bb-30e3-4110-bf63-a1ee777ecd46"
      },
      "outputs": [
        {
          "name": "stdout",
          "output_type": "stream",
          "text": [
            "Model: \"sequential_4\"\n",
            "_________________________________________________________________\n",
            "Layer (type)                 Output Shape              Param #   \n",
            "=================================================================\n",
            "dropout_8 (Dropout)          (None, 42)                0         \n",
            "_________________________________________________________________\n",
            "dense_12 (Dense)             (None, 20)                860       \n",
            "_________________________________________________________________\n",
            "dropout_9 (Dropout)          (None, 20)                0         \n",
            "_________________________________________________________________\n",
            "dense_13 (Dense)             (None, 10)                210       \n",
            "_________________________________________________________________\n",
            "dense_14 (Dense)             (None, 27)                297       \n",
            "=================================================================\n",
            "Total params: 1,367\n",
            "Trainable params: 1,367\n",
            "Non-trainable params: 0\n",
            "_________________________________________________________________\n"
          ]
        }
      ],
      "source": [
        "model.summary()  # tf.keras.utils.plot_model(model, show_shapes=True)"
      ]
    },
    {
      "cell_type": "code",
      "execution_count": 97,
      "metadata": {
        "id": "MbMjOflQ9hE1"
      },
      "outputs": [],
      "source": [
        "# Model checkpoint callback\n",
        "cp_callback = tf.keras.callbacks.ModelCheckpoint(\n",
        "    model_save_path, verbose=1, save_weights_only=False)\n",
        "# Callback for early stopping\n",
        "es_callback = tf.keras.callbacks.EarlyStopping(patience=20, verbose=1)"
      ]
    },
    {
      "cell_type": "code",
      "execution_count": 98,
      "metadata": {
        "id": "c3Dac0M_9hE2"
      },
      "outputs": [],
      "source": [
        "# Model compilation\n",
        "model.compile(\n",
        "    optimizer='adam',\n",
        "    loss='sparse_categorical_crossentropy',\n",
        "    metrics=['accuracy']\n",
        ")"
      ]
    },
    {
      "cell_type": "markdown",
      "metadata": {
        "id": "7XI0j1Iu9hE2"
      },
      "source": [
        "# Model training"
      ]
    },
    {
      "cell_type": "code",
      "execution_count": 99,
      "metadata": {
        "colab": {
          "base_uri": "https://localhost:8080/"
        },
        "id": "WirBl-JE9hE3",
        "outputId": "71b30ca2-8294-4d9d-8aa2-800d90d399de",
        "scrolled": true
      },
      "outputs": [
        {
          "name": "stdout",
          "output_type": "stream",
          "text": [
            "Epoch 1/1000\n",
            "85/95 [=========================>....] - ETA: 0s - loss: 3.2525 - accuracy: 0.0654\n",
            "Epoch 00001: saving model to model/keypoint_classifier\\keypoint_classifier.hdf5\n",
            "95/95 [==============================] - 0s 3ms/step - loss: 3.2430 - accuracy: 0.0698 - val_loss: 3.1157 - val_accuracy: 0.1602\n",
            "Epoch 2/1000\n",
            "86/95 [==========================>...] - ETA: 0s - loss: 3.0112 - accuracy: 0.1453\n",
            "Epoch 00002: saving model to model/keypoint_classifier\\keypoint_classifier.hdf5\n",
            "95/95 [==============================] - 0s 2ms/step - loss: 2.9987 - accuracy: 0.1476 - val_loss: 2.8236 - val_accuracy: 0.1768\n",
            "Epoch 3/1000\n",
            "89/95 [===========================>..] - ETA: 0s - loss: 2.8403 - accuracy: 0.1728\n",
            "Epoch 00003: saving model to model/keypoint_classifier\\keypoint_classifier.hdf5\n",
            "95/95 [==============================] - 0s 2ms/step - loss: 2.8353 - accuracy: 0.1738 - val_loss: 2.6565 - val_accuracy: 0.2162\n",
            "Epoch 4/1000\n",
            "86/95 [==========================>...] - ETA: 0s - loss: 2.7259 - accuracy: 0.1845\n",
            "Epoch 00004: saving model to model/keypoint_classifier\\keypoint_classifier.hdf5\n",
            "95/95 [==============================] - 0s 2ms/step - loss: 2.7199 - accuracy: 0.1869 - val_loss: 2.5027 - val_accuracy: 0.2542\n",
            "Epoch 5/1000\n",
            "87/95 [==========================>...] - ETA: 0s - loss: 2.6043 - accuracy: 0.2117\n",
            "Epoch 00005: saving model to model/keypoint_classifier\\keypoint_classifier.hdf5\n",
            "95/95 [==============================] - 0s 2ms/step - loss: 2.6040 - accuracy: 0.2111 - val_loss: 2.3516 - val_accuracy: 0.2725\n",
            "Epoch 6/1000\n",
            "87/95 [==========================>...] - ETA: 0s - loss: 2.5132 - accuracy: 0.2227\n",
            "Epoch 00006: saving model to model/keypoint_classifier\\keypoint_classifier.hdf5\n",
            "95/95 [==============================] - 0s 2ms/step - loss: 2.5084 - accuracy: 0.2244 - val_loss: 2.2126 - val_accuracy: 0.2968\n",
            "Epoch 7/1000\n",
            "88/95 [==========================>...] - ETA: 0s - loss: 2.4366 - accuracy: 0.2345\n",
            "Epoch 00007: saving model to model/keypoint_classifier\\keypoint_classifier.hdf5\n",
            "95/95 [==============================] - 0s 2ms/step - loss: 2.4321 - accuracy: 0.2348 - val_loss: 2.1033 - val_accuracy: 0.3174\n",
            "Epoch 8/1000\n",
            "77/95 [=======================>......] - ETA: 0s - loss: 2.3467 - accuracy: 0.2524\n",
            "Epoch 00008: saving model to model/keypoint_classifier\\keypoint_classifier.hdf5\n",
            "95/95 [==============================] - 0s 2ms/step - loss: 2.3396 - accuracy: 0.2550 - val_loss: 1.9826 - val_accuracy: 0.3707\n",
            "Epoch 9/1000\n",
            "86/95 [==========================>...] - ETA: 0s - loss: 2.2833 - accuracy: 0.2584\n",
            "Epoch 00009: saving model to model/keypoint_classifier\\keypoint_classifier.hdf5\n",
            "95/95 [==============================] - 0s 2ms/step - loss: 2.2840 - accuracy: 0.2590 - val_loss: 1.8978 - val_accuracy: 0.4128\n",
            "Epoch 10/1000\n",
            "85/95 [=========================>....] - ETA: 0s - loss: 2.2145 - accuracy: 0.2729\n",
            "Epoch 00010: saving model to model/keypoint_classifier\\keypoint_classifier.hdf5\n",
            "95/95 [==============================] - 0s 2ms/step - loss: 2.2120 - accuracy: 0.2742 - val_loss: 1.7879 - val_accuracy: 0.4471\n",
            "Epoch 11/1000\n",
            "87/95 [==========================>...] - ETA: 0s - loss: 2.1778 - accuracy: 0.2850\n",
            "Epoch 00011: saving model to model/keypoint_classifier\\keypoint_classifier.hdf5\n",
            "95/95 [==============================] - 0s 2ms/step - loss: 2.1747 - accuracy: 0.2859 - val_loss: 1.7000 - val_accuracy: 0.4902\n",
            "Epoch 12/1000\n",
            "84/95 [=========================>....] - ETA: 0s - loss: 2.1397 - accuracy: 0.2985\n",
            "Epoch 00012: saving model to model/keypoint_classifier\\keypoint_classifier.hdf5\n",
            "95/95 [==============================] - 0s 2ms/step - loss: 2.1393 - accuracy: 0.2973 - val_loss: 1.6421 - val_accuracy: 0.5197\n",
            "Epoch 13/1000\n",
            "86/95 [==========================>...] - ETA: 0s - loss: 2.0691 - accuracy: 0.3065\n",
            "Epoch 00013: saving model to model/keypoint_classifier\\keypoint_classifier.hdf5\n",
            "95/95 [==============================] - 0s 2ms/step - loss: 2.0737 - accuracy: 0.3045 - val_loss: 1.5738 - val_accuracy: 0.5428\n",
            "Epoch 14/1000\n",
            "88/95 [==========================>...] - ETA: 0s - loss: 2.0551 - accuracy: 0.3105\n",
            "Epoch 00014: saving model to model/keypoint_classifier\\keypoint_classifier.hdf5\n",
            "95/95 [==============================] - 0s 2ms/step - loss: 2.0521 - accuracy: 0.3098 - val_loss: 1.5302 - val_accuracy: 0.5383\n",
            "Epoch 15/1000\n",
            "81/95 [========================>.....] - ETA: 0s - loss: 2.0251 - accuracy: 0.3184\n",
            "Epoch 00015: saving model to model/keypoint_classifier\\keypoint_classifier.hdf5\n",
            "95/95 [==============================] - 0s 2ms/step - loss: 2.0257 - accuracy: 0.3177 - val_loss: 1.4958 - val_accuracy: 0.5718\n",
            "Epoch 16/1000\n",
            "85/95 [=========================>....] - ETA: 0s - loss: 1.9994 - accuracy: 0.3237\n",
            "Epoch 00016: saving model to model/keypoint_classifier\\keypoint_classifier.hdf5\n",
            "95/95 [==============================] - 0s 2ms/step - loss: 1.9981 - accuracy: 0.3236 - val_loss: 1.4617 - val_accuracy: 0.5782\n",
            "Epoch 17/1000\n",
            "85/95 [=========================>....] - ETA: 0s - loss: 1.9925 - accuracy: 0.3313\n",
            "Epoch 00017: saving model to model/keypoint_classifier\\keypoint_classifier.hdf5\n",
            "95/95 [==============================] - 0s 2ms/step - loss: 1.9956 - accuracy: 0.3309 - val_loss: 1.4350 - val_accuracy: 0.5710\n",
            "Epoch 18/1000\n",
            "84/95 [=========================>....] - ETA: 0s - loss: 1.9660 - accuracy: 0.3354\n",
            "Epoch 00018: saving model to model/keypoint_classifier\\keypoint_classifier.hdf5\n",
            "95/95 [==============================] - 0s 2ms/step - loss: 1.9667 - accuracy: 0.3346 - val_loss: 1.4161 - val_accuracy: 0.5839\n",
            "Epoch 19/1000\n",
            "85/95 [=========================>....] - ETA: 0s - loss: 1.9493 - accuracy: 0.3370\n",
            "Epoch 00019: saving model to model/keypoint_classifier\\keypoint_classifier.hdf5\n",
            "95/95 [==============================] - 0s 2ms/step - loss: 1.9496 - accuracy: 0.3374 - val_loss: 1.3826 - val_accuracy: 0.6124\n",
            "Epoch 20/1000\n",
            "87/95 [==========================>...] - ETA: 0s - loss: 1.9396 - accuracy: 0.3394\n",
            "Epoch 00020: saving model to model/keypoint_classifier\\keypoint_classifier.hdf5\n",
            "95/95 [==============================] - 0s 2ms/step - loss: 1.9395 - accuracy: 0.3392 - val_loss: 1.3684 - val_accuracy: 0.5941\n",
            "Epoch 21/1000\n",
            "84/95 [=========================>....] - ETA: 0s - loss: 1.9361 - accuracy: 0.3433\n",
            "Epoch 00021: saving model to model/keypoint_classifier\\keypoint_classifier.hdf5\n",
            "95/95 [==============================] - 0s 2ms/step - loss: 1.9353 - accuracy: 0.3442 - val_loss: 1.3506 - val_accuracy: 0.6038\n",
            "Epoch 22/1000\n",
            "85/95 [=========================>....] - ETA: 0s - loss: 1.9122 - accuracy: 0.3437\n",
            "Epoch 00022: saving model to model/keypoint_classifier\\keypoint_classifier.hdf5\n",
            "95/95 [==============================] - 0s 2ms/step - loss: 1.9119 - accuracy: 0.3439 - val_loss: 1.3207 - val_accuracy: 0.6144\n",
            "Epoch 23/1000\n",
            "88/95 [==========================>...] - ETA: 0s - loss: 1.9056 - accuracy: 0.3456\n",
            "Epoch 00023: saving model to model/keypoint_classifier\\keypoint_classifier.hdf5\n",
            "95/95 [==============================] - 0s 2ms/step - loss: 1.9065 - accuracy: 0.3448 - val_loss: 1.3025 - val_accuracy: 0.6248\n",
            "Epoch 24/1000\n",
            "88/95 [==========================>...] - ETA: 0s - loss: 1.9043 - accuracy: 0.3496\n",
            "Epoch 00024: saving model to model/keypoint_classifier\\keypoint_classifier.hdf5\n",
            "95/95 [==============================] - 0s 2ms/step - loss: 1.9052 - accuracy: 0.3489 - val_loss: 1.3025 - val_accuracy: 0.6303\n",
            "Epoch 25/1000\n",
            "87/95 [==========================>...] - ETA: 0s - loss: 1.8769 - accuracy: 0.3591\n",
            "Epoch 00025: saving model to model/keypoint_classifier\\keypoint_classifier.hdf5\n",
            "95/95 [==============================] - 0s 2ms/step - loss: 1.8765 - accuracy: 0.3576 - val_loss: 1.2716 - val_accuracy: 0.6214\n",
            "Epoch 26/1000\n",
            "87/95 [==========================>...] - ETA: 0s - loss: 1.8598 - accuracy: 0.3631\n",
            "Epoch 00026: saving model to model/keypoint_classifier\\keypoint_classifier.hdf5\n",
            "95/95 [==============================] - 0s 2ms/step - loss: 1.8643 - accuracy: 0.3608 - val_loss: 1.2619 - val_accuracy: 0.6534\n",
            "Epoch 27/1000\n",
            "88/95 [==========================>...] - ETA: 0s - loss: 1.8637 - accuracy: 0.3577\n",
            "Epoch 00027: saving model to model/keypoint_classifier\\keypoint_classifier.hdf5\n",
            "95/95 [==============================] - 0s 2ms/step - loss: 1.8604 - accuracy: 0.3590 - val_loss: 1.2567 - val_accuracy: 0.6429\n",
            "Epoch 28/1000\n",
            "83/95 [=========================>....] - ETA: 0s - loss: 1.8517 - accuracy: 0.3667\n",
            "Epoch 00028: saving model to model/keypoint_classifier\\keypoint_classifier.hdf5\n",
            "95/95 [==============================] - 0s 2ms/step - loss: 1.8502 - accuracy: 0.3661 - val_loss: 1.2342 - val_accuracy: 0.6633\n",
            "Epoch 29/1000\n",
            "90/95 [===========================>..] - ETA: 0s - loss: 1.8429 - accuracy: 0.3686\n",
            "Epoch 00029: saving model to model/keypoint_classifier\\keypoint_classifier.hdf5\n",
            "95/95 [==============================] - 0s 2ms/step - loss: 1.8436 - accuracy: 0.3695 - val_loss: 1.2339 - val_accuracy: 0.6551\n",
            "Epoch 30/1000\n",
            "89/95 [===========================>..] - ETA: 0s - loss: 1.8503 - accuracy: 0.3638\n",
            "Epoch 00030: saving model to model/keypoint_classifier\\keypoint_classifier.hdf5\n",
            "95/95 [==============================] - 0s 2ms/step - loss: 1.8485 - accuracy: 0.3663 - val_loss: 1.2108 - val_accuracy: 0.6615\n",
            "Epoch 31/1000\n",
            "67/95 [====================>.........] - ETA: 0s - loss: 1.8357 - accuracy: 0.3657\n",
            "Epoch 00031: saving model to model/keypoint_classifier\\keypoint_classifier.hdf5\n",
            "95/95 [==============================] - 0s 2ms/step - loss: 1.8389 - accuracy: 0.3655 - val_loss: 1.2063 - val_accuracy: 0.6648\n",
            "Epoch 32/1000\n",
            "84/95 [=========================>....] - ETA: 0s - loss: 1.8112 - accuracy: 0.3781\n",
            "Epoch 00032: saving model to model/keypoint_classifier\\keypoint_classifier.hdf5\n",
            "95/95 [==============================] - 0s 2ms/step - loss: 1.8147 - accuracy: 0.3769 - val_loss: 1.2030 - val_accuracy: 0.6660\n",
            "Epoch 33/1000\n",
            "88/95 [==========================>...] - ETA: 0s - loss: 1.8236 - accuracy: 0.3798\n",
            "Epoch 00033: saving model to model/keypoint_classifier\\keypoint_classifier.hdf5\n",
            "95/95 [==============================] - 0s 2ms/step - loss: 1.8243 - accuracy: 0.3791 - val_loss: 1.1939 - val_accuracy: 0.6888\n",
            "Epoch 34/1000\n",
            "87/95 [==========================>...] - ETA: 0s - loss: 1.7811 - accuracy: 0.38 - ETA: 0s - loss: 1.8056 - accuracy: 0.3816\n",
            "Epoch 00034: saving model to model/keypoint_classifier\\keypoint_classifier.hdf5\n",
            "95/95 [==============================] - 0s 2ms/step - loss: 1.8083 - accuracy: 0.3800 - val_loss: 1.1805 - val_accuracy: 0.6606\n",
            "Epoch 35/1000\n",
            "87/95 [==========================>...] - ETA: 0s - loss: 1.8219 - accuracy: 0.3764\n",
            "Epoch 00035: saving model to model/keypoint_classifier\\keypoint_classifier.hdf5\n",
            "95/95 [==============================] - 0s 2ms/step - loss: 1.8220 - accuracy: 0.3763 - val_loss: 1.1690 - val_accuracy: 0.6742\n",
            "Epoch 36/1000\n",
            "83/95 [=========================>....] - ETA: 0s - loss: 1.8134 - accuracy: 0.3863\n",
            "Epoch 00036: saving model to model/keypoint_classifier\\keypoint_classifier.hdf5\n",
            "95/95 [==============================] - 0s 2ms/step - loss: 1.8094 - accuracy: 0.3843 - val_loss: 1.1744 - val_accuracy: 0.6667\n",
            "Epoch 37/1000\n",
            "76/95 [=======================>......] - ETA: 0s - loss: 1.7960 - accuracy: 0.3826\n",
            "Epoch 00037: saving model to model/keypoint_classifier\\keypoint_classifier.hdf5\n",
            "95/95 [==============================] - 0s 2ms/step - loss: 1.7992 - accuracy: 0.3815 - val_loss: 1.1497 - val_accuracy: 0.6868\n",
            "Epoch 38/1000\n",
            "89/95 [===========================>..] - ETA: 0s - loss: 1.7923 - accuracy: 0.3818\n",
            "Epoch 00038: saving model to model/keypoint_classifier\\keypoint_classifier.hdf5\n",
            "95/95 [==============================] - 0s 2ms/step - loss: 1.7936 - accuracy: 0.3814 - val_loss: 1.1531 - val_accuracy: 0.7022\n",
            "Epoch 39/1000\n",
            "88/95 [==========================>...] - ETA: 0s - loss: 1.7897 - accuracy: 0.3825\n",
            "Epoch 00039: saving model to model/keypoint_classifier\\keypoint_classifier.hdf5\n",
            "95/95 [==============================] - 0s 2ms/step - loss: 1.7864 - accuracy: 0.3821 - val_loss: 1.1438 - val_accuracy: 0.6992\n",
            "Epoch 40/1000\n",
            "88/95 [==========================>...] - ETA: 0s - loss: 1.7838 - accuracy: 0.3910\n",
            "Epoch 00040: saving model to model/keypoint_classifier\\keypoint_classifier.hdf5\n",
            "95/95 [==============================] - 0s 2ms/step - loss: 1.7827 - accuracy: 0.3924 - val_loss: 1.1309 - val_accuracy: 0.6972\n",
            "Epoch 41/1000\n",
            "88/95 [==========================>...] - ETA: 0s - loss: 1.7842 - accuracy: 0.3878\n",
            "Epoch 00041: saving model to model/keypoint_classifier\\keypoint_classifier.hdf5\n",
            "95/95 [==============================] - 0s 2ms/step - loss: 1.7826 - accuracy: 0.3886 - val_loss: 1.1376 - val_accuracy: 0.6923\n",
            "Epoch 42/1000\n",
            "86/95 [==========================>...] - ETA: 0s - loss: 1.7781 - accuracy: 0.3812\n",
            "Epoch 00042: saving model to model/keypoint_classifier\\keypoint_classifier.hdf5\n",
            "95/95 [==============================] - 0s 2ms/step - loss: 1.7800 - accuracy: 0.3814 - val_loss: 1.1196 - val_accuracy: 0.6690\n",
            "Epoch 43/1000\n",
            "79/95 [=======================>......] - ETA: 0s - loss: 1.7782 - accuracy: 0.3879\n",
            "Epoch 00043: saving model to model/keypoint_classifier\\keypoint_classifier.hdf5\n",
            "95/95 [==============================] - 0s 2ms/step - loss: 1.7766 - accuracy: 0.3881 - val_loss: 1.1241 - val_accuracy: 0.7191\n",
            "Epoch 44/1000\n",
            "89/95 [===========================>..] - ETA: 0s - loss: 1.7670 - accuracy: 0.3908\n",
            "Epoch 00044: saving model to model/keypoint_classifier\\keypoint_classifier.hdf5\n",
            "95/95 [==============================] - 0s 2ms/step - loss: 1.7713 - accuracy: 0.3895 - val_loss: 1.1222 - val_accuracy: 0.6804\n",
            "Epoch 45/1000\n",
            "89/95 [===========================>..] - ETA: 0s - loss: 1.7789 - accuracy: 0.3856\n",
            "Epoch 00045: saving model to model/keypoint_classifier\\keypoint_classifier.hdf5\n",
            "95/95 [==============================] - 0s 2ms/step - loss: 1.7794 - accuracy: 0.3842 - val_loss: 1.1140 - val_accuracy: 0.7037\n",
            "Epoch 46/1000\n",
            "90/95 [===========================>..] - ETA: 0s - loss: 1.7577 - accuracy: 0.3918\n",
            "Epoch 00046: saving model to model/keypoint_classifier\\keypoint_classifier.hdf5\n",
            "95/95 [==============================] - 0s 2ms/step - loss: 1.7584 - accuracy: 0.3915 - val_loss: 1.1119 - val_accuracy: 0.7176\n",
            "Epoch 47/1000\n",
            "86/95 [==========================>...] - ETA: 0s - loss: 1.7567 - accuracy: 0.3895\n",
            "Epoch 00047: saving model to model/keypoint_classifier\\keypoint_classifier.hdf5\n",
            "95/95 [==============================] - 0s 2ms/step - loss: 1.7527 - accuracy: 0.3925 - val_loss: 1.1064 - val_accuracy: 0.7082\n",
            "Epoch 48/1000\n",
            "86/95 [==========================>...] - ETA: 0s - loss: 1.7326 - accuracy: 0.4041\n",
            "Epoch 00048: saving model to model/keypoint_classifier\\keypoint_classifier.hdf5\n",
            "95/95 [==============================] - 0s 2ms/step - loss: 1.7366 - accuracy: 0.4020 - val_loss: 1.0855 - val_accuracy: 0.7218\n",
            "Epoch 49/1000\n",
            "91/95 [===========================>..] - ETA: 0s - loss: 1.7472 - accuracy: 0.3989\n",
            "Epoch 00049: saving model to model/keypoint_classifier\\keypoint_classifier.hdf5\n",
            "95/95 [==============================] - 0s 2ms/step - loss: 1.7485 - accuracy: 0.3990 - val_loss: 1.0966 - val_accuracy: 0.7451\n",
            "Epoch 50/1000\n",
            "90/95 [===========================>..] - ETA: 0s - loss: 1.7419 - accuracy: 0.3960\n",
            "Epoch 00050: saving model to model/keypoint_classifier\\keypoint_classifier.hdf5\n",
            "95/95 [==============================] - 0s 2ms/step - loss: 1.7470 - accuracy: 0.3962 - val_loss: 1.0951 - val_accuracy: 0.7206\n",
            "Epoch 51/1000\n",
            "80/95 [========================>.....] - ETA: 0s - loss: 1.7479 - accuracy: 0.3979\n",
            "Epoch 00051: saving model to model/keypoint_classifier\\keypoint_classifier.hdf5\n",
            "95/95 [==============================] - 0s 2ms/step - loss: 1.7455 - accuracy: 0.3967 - val_loss: 1.0857 - val_accuracy: 0.7027\n",
            "Epoch 52/1000\n",
            "85/95 [=========================>....] - ETA: 0s - loss: 1.7473 - accuracy: 0.4009\n",
            "Epoch 00052: saving model to model/keypoint_classifier\\keypoint_classifier.hdf5\n",
            "95/95 [==============================] - 0s 2ms/step - loss: 1.7486 - accuracy: 0.3990 - val_loss: 1.0793 - val_accuracy: 0.7275\n",
            "Epoch 53/1000\n",
            "86/95 [==========================>...] - ETA: 0s - loss: 1.7429 - accuracy: 0.3962\n",
            "Epoch 00053: saving model to model/keypoint_classifier\\keypoint_classifier.hdf5\n",
            "95/95 [==============================] - 0s 2ms/step - loss: 1.7417 - accuracy: 0.3972 - val_loss: 1.0801 - val_accuracy: 0.7106\n",
            "Epoch 54/1000\n",
            "89/95 [===========================>..] - ETA: 0s - loss: 1.7398 - accuracy: 0.4006\n",
            "Epoch 00054: saving model to model/keypoint_classifier\\keypoint_classifier.hdf5\n",
            "95/95 [==============================] - 0s 2ms/step - loss: 1.7373 - accuracy: 0.4006 - val_loss: 1.0788 - val_accuracy: 0.7077\n",
            "Epoch 55/1000\n",
            "84/95 [=========================>....] - ETA: 0s - loss: 1.7484 - accuracy: 0.3994\n",
            "Epoch 00055: saving model to model/keypoint_classifier\\keypoint_classifier.hdf5\n",
            "95/95 [==============================] - 0s 2ms/step - loss: 1.7433 - accuracy: 0.3996 - val_loss: 1.0696 - val_accuracy: 0.7091\n",
            "Epoch 56/1000\n",
            "88/95 [==========================>...] - ETA: 0s - loss: 1.7134 - accuracy: 0.4060\n",
            "Epoch 00056: saving model to model/keypoint_classifier\\keypoint_classifier.hdf5\n",
            "95/95 [==============================] - 0s 2ms/step - loss: 1.7151 - accuracy: 0.4053 - val_loss: 1.0722 - val_accuracy: 0.6910\n",
            "Epoch 57/1000\n",
            "88/95 [==========================>...] - ETA: 0s - loss: 1.7105 - accuracy: 0.4125\n",
            "Epoch 00057: saving model to model/keypoint_classifier\\keypoint_classifier.hdf5\n",
            "95/95 [==============================] - 0s 2ms/step - loss: 1.7127 - accuracy: 0.4123 - val_loss: 1.0594 - val_accuracy: 0.7421\n",
            "Epoch 58/1000\n",
            "86/95 [==========================>...] - ETA: 0s - loss: 1.7169 - accuracy: 0.4036\n",
            "Epoch 00058: saving model to model/keypoint_classifier\\keypoint_classifier.hdf5\n",
            "95/95 [==============================] - 0s 2ms/step - loss: 1.7187 - accuracy: 0.4015 - val_loss: 1.0530 - val_accuracy: 0.7481\n",
            "Epoch 59/1000\n",
            "88/95 [==========================>...] - ETA: 0s - loss: 1.7244 - accuracy: 0.4070\n",
            "Epoch 00059: saving model to model/keypoint_classifier\\keypoint_classifier.hdf5\n",
            "95/95 [==============================] - 0s 2ms/step - loss: 1.7247 - accuracy: 0.4058 - val_loss: 1.0684 - val_accuracy: 0.7297\n",
            "Epoch 60/1000\n",
            "88/95 [==========================>...] - ETA: 0s - loss: 1.7078 - accuracy: 0.4149\n",
            "Epoch 00060: saving model to model/keypoint_classifier\\keypoint_classifier.hdf5\n",
            "95/95 [==============================] - 0s 2ms/step - loss: 1.7089 - accuracy: 0.4126 - val_loss: 1.0621 - val_accuracy: 0.7084\n",
            "Epoch 61/1000\n",
            "88/95 [==========================>...] - ETA: 0s - loss: 1.7040 - accuracy: 0.4168\n",
            "Epoch 00061: saving model to model/keypoint_classifier\\keypoint_classifier.hdf5\n",
            "95/95 [==============================] - 0s 2ms/step - loss: 1.6966 - accuracy: 0.4196 - val_loss: 1.0478 - val_accuracy: 0.7568\n",
            "Epoch 62/1000\n",
            "86/95 [==========================>...] - ETA: 0s - loss: 1.6964 - accuracy: 0.4147\n",
            "Epoch 00062: saving model to model/keypoint_classifier\\keypoint_classifier.hdf5\n",
            "95/95 [==============================] - 0s 2ms/step - loss: 1.6970 - accuracy: 0.4115 - val_loss: 1.0427 - val_accuracy: 0.7188\n",
            "Epoch 63/1000\n",
            "86/95 [==========================>...] - ETA: 0s - loss: 1.7037 - accuracy: 0.4076\n",
            "Epoch 00063: saving model to model/keypoint_classifier\\keypoint_classifier.hdf5\n",
            "95/95 [==============================] - 0s 2ms/step - loss: 1.7004 - accuracy: 0.4085 - val_loss: 1.0383 - val_accuracy: 0.7523\n",
            "Epoch 64/1000\n",
            "86/95 [==========================>...] - ETA: 0s - loss: 1.7061 - accuracy: 0.4121\n",
            "Epoch 00064: saving model to model/keypoint_classifier\\keypoint_classifier.hdf5\n",
            "95/95 [==============================] - 0s 2ms/step - loss: 1.7043 - accuracy: 0.4130 - val_loss: 1.0363 - val_accuracy: 0.7498\n",
            "Epoch 65/1000\n",
            "89/95 [===========================>..] - ETA: 0s - loss: 1.6910 - accuracy: 0.4187\n",
            "Epoch 00065: saving model to model/keypoint_classifier\\keypoint_classifier.hdf5\n",
            "95/95 [==============================] - 0s 2ms/step - loss: 1.6931 - accuracy: 0.4163 - val_loss: 1.0303 - val_accuracy: 0.7530\n",
            "Epoch 66/1000\n",
            "85/95 [=========================>....] - ETA: 0s - loss: 1.6980 - accuracy: 0.4128\n",
            "Epoch 00066: saving model to model/keypoint_classifier\\keypoint_classifier.hdf5\n",
            "95/95 [==============================] - 0s 2ms/step - loss: 1.6944 - accuracy: 0.4136 - val_loss: 1.0457 - val_accuracy: 0.7637\n",
            "Epoch 67/1000\n",
            "87/95 [==========================>...] - ETA: 0s - loss: 1.6798 - accuracy: 0.4157\n",
            "Epoch 00067: saving model to model/keypoint_classifier\\keypoint_classifier.hdf5\n",
            "95/95 [==============================] - 0s 2ms/step - loss: 1.6827 - accuracy: 0.4161 - val_loss: 1.0257 - val_accuracy: 0.7394\n",
            "Epoch 68/1000\n",
            "89/95 [===========================>..] - ETA: 0s - loss: 1.6817 - accuracy: 0.4149\n",
            "Epoch 00068: saving model to model/keypoint_classifier\\keypoint_classifier.hdf5\n",
            "95/95 [==============================] - 0s 2ms/step - loss: 1.6817 - accuracy: 0.4149 - val_loss: 1.0265 - val_accuracy: 0.7597\n",
            "Epoch 69/1000\n",
            "85/95 [=========================>....] - ETA: 0s - loss: 1.6835 - accuracy: 0.4155\n",
            "Epoch 00069: saving model to model/keypoint_classifier\\keypoint_classifier.hdf5\n",
            "95/95 [==============================] - 0s 2ms/step - loss: 1.6875 - accuracy: 0.4141 - val_loss: 1.0367 - val_accuracy: 0.7612\n",
            "Epoch 70/1000\n",
            "87/95 [==========================>...] - ETA: 0s - loss: 1.6854 - accuracy: 0.4203\n",
            "Epoch 00070: saving model to model/keypoint_classifier\\keypoint_classifier.hdf5\n",
            "95/95 [==============================] - 0s 2ms/step - loss: 1.6871 - accuracy: 0.4183 - val_loss: 1.0259 - val_accuracy: 0.7639\n",
            "Epoch 71/1000\n",
            "90/95 [===========================>..] - ETA: 0s - loss: 1.6621 - accuracy: 0.4260\n",
            "Epoch 00071: saving model to model/keypoint_classifier\\keypoint_classifier.hdf5\n",
            "95/95 [==============================] - 0s 2ms/step - loss: 1.6653 - accuracy: 0.4259 - val_loss: 1.0193 - val_accuracy: 0.7533\n",
            "Epoch 72/1000\n",
            "89/95 [===========================>..] - ETA: 0s - loss: 1.6769 - accuracy: 0.4228\n",
            "Epoch 00072: saving model to model/keypoint_classifier\\keypoint_classifier.hdf5\n",
            "95/95 [==============================] - 0s 2ms/step - loss: 1.6778 - accuracy: 0.4226 - val_loss: 1.0187 - val_accuracy: 0.7622\n",
            "Epoch 73/1000\n",
            "87/95 [==========================>...] - ETA: 0s - loss: 1.6623 - accuracy: 0.4240\n",
            "Epoch 00073: saving model to model/keypoint_classifier\\keypoint_classifier.hdf5\n",
            "95/95 [==============================] - 0s 2ms/step - loss: 1.6550 - accuracy: 0.4263 - val_loss: 1.0176 - val_accuracy: 0.7630\n",
            "Epoch 74/1000\n",
            "90/95 [===========================>..] - ETA: 0s - loss: 1.6637 - accuracy: 0.4237\n",
            "Epoch 00074: saving model to model/keypoint_classifier\\keypoint_classifier.hdf5\n",
            "95/95 [==============================] - 0s 2ms/step - loss: 1.6632 - accuracy: 0.4230 - val_loss: 1.0188 - val_accuracy: 0.7384\n",
            "Epoch 75/1000\n",
            "88/95 [==========================>...] - ETA: 0s - loss: 1.6805 - accuracy: 0.4135\n",
            "Epoch 00075: saving model to model/keypoint_classifier\\keypoint_classifier.hdf5\n",
            "95/95 [==============================] - 0s 2ms/step - loss: 1.6821 - accuracy: 0.4135 - val_loss: 1.0191 - val_accuracy: 0.7573\n",
            "Epoch 76/1000\n",
            "86/95 [==========================>...] - ETA: 0s - loss: 1.6512 - accuracy: 0.4308\n",
            "Epoch 00076: saving model to model/keypoint_classifier\\keypoint_classifier.hdf5\n",
            "95/95 [==============================] - 0s 2ms/step - loss: 1.6531 - accuracy: 0.4288 - val_loss: 1.0163 - val_accuracy: 0.7699\n",
            "Epoch 77/1000\n",
            "90/95 [===========================>..] - ETA: 0s - loss: 1.6556 - accuracy: 0.4273\n",
            "Epoch 00077: saving model to model/keypoint_classifier\\keypoint_classifier.hdf5\n",
            "95/95 [==============================] - 0s 2ms/step - loss: 1.6537 - accuracy: 0.4278 - val_loss: 1.0093 - val_accuracy: 0.7486\n",
            "Epoch 78/1000\n",
            "85/95 [=========================>....] - ETA: 0s - loss: 1.6583 - accuracy: 0.4281\n",
            "Epoch 00078: saving model to model/keypoint_classifier\\keypoint_classifier.hdf5\n",
            "95/95 [==============================] - 0s 2ms/step - loss: 1.6555 - accuracy: 0.4290 - val_loss: 1.0138 - val_accuracy: 0.7635\n",
            "Epoch 79/1000\n",
            "88/95 [==========================>...] - ETA: 0s - loss: 1.6518 - accuracy: 0.4257\n",
            "Epoch 00079: saving model to model/keypoint_classifier\\keypoint_classifier.hdf5\n",
            "95/95 [==============================] - 0s 2ms/step - loss: 1.6506 - accuracy: 0.4272 - val_loss: 1.0023 - val_accuracy: 0.7317\n",
            "Epoch 80/1000\n",
            "91/95 [===========================>..] - ETA: 0s - loss: 1.6474 - accuracy: 0.4237\n",
            "Epoch 00080: saving model to model/keypoint_classifier\\keypoint_classifier.hdf5\n",
            "95/95 [==============================] - 0s 2ms/step - loss: 1.6486 - accuracy: 0.4232 - val_loss: 1.0098 - val_accuracy: 0.7736\n",
            "Epoch 81/1000\n",
            "90/95 [===========================>..] - ETA: 0s - loss: 1.6535 - accuracy: 0.4207\n",
            "Epoch 00081: saving model to model/keypoint_classifier\\keypoint_classifier.hdf5\n",
            "95/95 [==============================] - 0s 2ms/step - loss: 1.6542 - accuracy: 0.4215 - val_loss: 1.0171 - val_accuracy: 0.7684\n",
            "Epoch 82/1000\n",
            "88/95 [==========================>...] - ETA: 0s - loss: 1.6488 - accuracy: 0.4300\n",
            "Epoch 00082: saving model to model/keypoint_classifier\\keypoint_classifier.hdf5\n",
            "95/95 [==============================] - 0s 2ms/step - loss: 1.6486 - accuracy: 0.4288 - val_loss: 1.0103 - val_accuracy: 0.7796\n",
            "Epoch 83/1000\n",
            "90/95 [===========================>..] - ETA: 0s - loss: 1.6535 - accuracy: 0.4247\n",
            "Epoch 00083: saving model to model/keypoint_classifier\\keypoint_classifier.hdf5\n",
            "95/95 [==============================] - 0s 2ms/step - loss: 1.6529 - accuracy: 0.4250 - val_loss: 1.0184 - val_accuracy: 0.7642\n",
            "Epoch 84/1000\n",
            "86/95 [==========================>...] - ETA: 0s - loss: 1.6322 - accuracy: 0.4330\n",
            "Epoch 00084: saving model to model/keypoint_classifier\\keypoint_classifier.hdf5\n",
            "95/95 [==============================] - 0s 2ms/step - loss: 1.6292 - accuracy: 0.4340 - val_loss: 0.9958 - val_accuracy: 0.7540\n",
            "Epoch 85/1000\n",
            "91/95 [===========================>..] - ETA: 0s - loss: 1.6608 - accuracy: 0.4224\n",
            "Epoch 00085: saving model to model/keypoint_classifier\\keypoint_classifier.hdf5\n",
            "95/95 [==============================] - 0s 2ms/step - loss: 1.6594 - accuracy: 0.4222 - val_loss: 1.0140 - val_accuracy: 0.7734\n",
            "Epoch 86/1000\n",
            "81/95 [========================>.....] - ETA: 0s - loss: 1.6405 - accuracy: 0.4247\n",
            "Epoch 00086: saving model to model/keypoint_classifier\\keypoint_classifier.hdf5\n",
            "95/95 [==============================] - 0s 2ms/step - loss: 1.6382 - accuracy: 0.4248 - val_loss: 1.0001 - val_accuracy: 0.7553\n",
            "Epoch 87/1000\n",
            "89/95 [===========================>..] - ETA: 0s - loss: 1.6104 - accuracy: 0.4342\n",
            "Epoch 00087: saving model to model/keypoint_classifier\\keypoint_classifier.hdf5\n",
            "95/95 [==============================] - 0s 2ms/step - loss: 1.6131 - accuracy: 0.4325 - val_loss: 0.9973 - val_accuracy: 0.7744\n",
            "Epoch 88/1000\n",
            "86/95 [==========================>...] - ETA: 0s - loss: 1.6186 - accuracy: 0.4296\n",
            "Epoch 00088: saving model to model/keypoint_classifier\\keypoint_classifier.hdf5\n",
            "95/95 [==============================] - 0s 2ms/step - loss: 1.6161 - accuracy: 0.4312 - val_loss: 0.9998 - val_accuracy: 0.7550\n",
            "Epoch 89/1000\n",
            "88/95 [==========================>...] - ETA: 0s - loss: 1.6334 - accuracy: 0.4339\n",
            "Epoch 00089: saving model to model/keypoint_classifier\\keypoint_classifier.hdf5\n",
            "95/95 [==============================] - 0s 2ms/step - loss: 1.6284 - accuracy: 0.4347 - val_loss: 0.9912 - val_accuracy: 0.7749\n",
            "Epoch 90/1000\n",
            "89/95 [===========================>..] - ETA: 0s - loss: 1.6088 - accuracy: 0.4323\n",
            "Epoch 00090: saving model to model/keypoint_classifier\\keypoint_classifier.hdf5\n",
            "95/95 [==============================] - 0s 2ms/step - loss: 1.6085 - accuracy: 0.4315 - val_loss: 0.9919 - val_accuracy: 0.7771\n",
            "Epoch 91/1000\n",
            "88/95 [==========================>...] - ETA: 0s - loss: 1.6172 - accuracy: 0.4341\n",
            "Epoch 00091: saving model to model/keypoint_classifier\\keypoint_classifier.hdf5\n",
            "95/95 [==============================] - 0s 2ms/step - loss: 1.6133 - accuracy: 0.4359 - val_loss: 1.0051 - val_accuracy: 0.7592\n",
            "Epoch 92/1000\n",
            "88/95 [==========================>...] - ETA: 0s - loss: 1.6082 - accuracy: 0.4378\n",
            "Epoch 00092: saving model to model/keypoint_classifier\\keypoint_classifier.hdf5\n",
            "95/95 [==============================] - 0s 2ms/step - loss: 1.6107 - accuracy: 0.4381 - val_loss: 0.9969 - val_accuracy: 0.7741\n",
            "Epoch 93/1000\n",
            "88/95 [==========================>...] - ETA: 0s - loss: 1.6101 - accuracy: 0.4367\n",
            "Epoch 00093: saving model to model/keypoint_classifier\\keypoint_classifier.hdf5\n",
            "95/95 [==============================] - 0s 2ms/step - loss: 1.6129 - accuracy: 0.4365 - val_loss: 0.9980 - val_accuracy: 0.7892\n",
            "Epoch 94/1000\n",
            "88/95 [==========================>...] - ETA: 0s - loss: 1.6109 - accuracy: 0.4371\n",
            "Epoch 00094: saving model to model/keypoint_classifier\\keypoint_classifier.hdf5\n",
            "95/95 [==============================] - 0s 2ms/step - loss: 1.6085 - accuracy: 0.4387 - val_loss: 0.9909 - val_accuracy: 0.7471\n",
            "Epoch 95/1000\n",
            "87/95 [==========================>...] - ETA: 0s - loss: 1.6037 - accuracy: 0.4404\n",
            "Epoch 00095: saving model to model/keypoint_classifier\\keypoint_classifier.hdf5\n",
            "95/95 [==============================] - 0s 2ms/step - loss: 1.6075 - accuracy: 0.4398 - val_loss: 0.9970 - val_accuracy: 0.7716\n",
            "Epoch 96/1000\n",
            "86/95 [==========================>...] - ETA: 0s - loss: 1.6024 - accuracy: 0.4415\n",
            "Epoch 00096: saving model to model/keypoint_classifier\\keypoint_classifier.hdf5\n",
            "95/95 [==============================] - 0s 2ms/step - loss: 1.6035 - accuracy: 0.4419 - val_loss: 1.0006 - val_accuracy: 0.7409\n",
            "Epoch 97/1000\n",
            "90/95 [===========================>..] - ETA: 0s - loss: 1.5901 - accuracy: 0.4426\n",
            "Epoch 00097: saving model to model/keypoint_classifier\\keypoint_classifier.hdf5\n",
            "95/95 [==============================] - 0s 2ms/step - loss: 1.5873 - accuracy: 0.4440 - val_loss: 0.9857 - val_accuracy: 0.7684\n",
            "Epoch 98/1000\n",
            "86/95 [==========================>...] - ETA: 0s - loss: 1.6027 - accuracy: 0.4527\n",
            "Epoch 00098: saving model to model/keypoint_classifier\\keypoint_classifier.hdf5\n",
            "95/95 [==============================] - 0s 2ms/step - loss: 1.6004 - accuracy: 0.4536 - val_loss: 0.9846 - val_accuracy: 0.7803\n",
            "Epoch 99/1000\n",
            "89/95 [===========================>..] - ETA: 0s - loss: 1.6017 - accuracy: 0.4349\n",
            "Epoch 00099: saving model to model/keypoint_classifier\\keypoint_classifier.hdf5\n",
            "95/95 [==============================] - 0s 2ms/step - loss: 1.6027 - accuracy: 0.4352 - val_loss: 0.9761 - val_accuracy: 0.7816\n",
            "Epoch 100/1000\n",
            "89/95 [===========================>..] - ETA: 0s - loss: 1.5963 - accuracy: 0.4439\n",
            "Epoch 00100: saving model to model/keypoint_classifier\\keypoint_classifier.hdf5\n",
            "95/95 [==============================] - 0s 2ms/step - loss: 1.5921 - accuracy: 0.4441 - val_loss: 0.9923 - val_accuracy: 0.7545\n",
            "Epoch 101/1000\n",
            "91/95 [===========================>..] - ETA: 0s - loss: 1.6161 - accuracy: 0.4393\n",
            "Epoch 00101: saving model to model/keypoint_classifier\\keypoint_classifier.hdf5\n",
            "95/95 [==============================] - 0s 2ms/step - loss: 1.6152 - accuracy: 0.4400 - val_loss: 0.9895 - val_accuracy: 0.7701\n",
            "Epoch 102/1000\n",
            "88/95 [==========================>...] - ETA: 0s - loss: 1.5773 - accuracy: 0.4489\n",
            "Epoch 00102: saving model to model/keypoint_classifier\\keypoint_classifier.hdf5\n",
            "95/95 [==============================] - 0s 2ms/step - loss: 1.5778 - accuracy: 0.4482 - val_loss: 0.9885 - val_accuracy: 0.7870\n",
            "Epoch 103/1000\n",
            "73/95 [======================>.......] - ETA: 0s - loss: 1.5885 - accuracy: 0.4461\n",
            "Epoch 00103: saving model to model/keypoint_classifier\\keypoint_classifier.hdf5\n",
            "95/95 [==============================] - 0s 2ms/step - loss: 1.5911 - accuracy: 0.4458 - val_loss: 0.9849 - val_accuracy: 0.7754\n",
            "Epoch 104/1000\n",
            "88/95 [==========================>...] - ETA: 0s - loss: 1.6028 - accuracy: 0.4442\n",
            "Epoch 00104: saving model to model/keypoint_classifier\\keypoint_classifier.hdf5\n",
            "95/95 [==============================] - 0s 2ms/step - loss: 1.6040 - accuracy: 0.4436 - val_loss: 0.9977 - val_accuracy: 0.7652\n",
            "Epoch 105/1000\n",
            "86/95 [==========================>...] - ETA: 0s - loss: 1.5911 - accuracy: 0.4453\n",
            "Epoch 00105: saving model to model/keypoint_classifier\\keypoint_classifier.hdf5\n",
            "95/95 [==============================] - 0s 2ms/step - loss: 1.5911 - accuracy: 0.4440 - val_loss: 0.9840 - val_accuracy: 0.7726\n",
            "Epoch 106/1000\n",
            "73/95 [======================>.......] - ETA: 0s - loss: 1.5852 - accuracy: 0.4458\n",
            "Epoch 00106: saving model to model/keypoint_classifier\\keypoint_classifier.hdf5\n",
            "95/95 [==============================] - 0s 2ms/step - loss: 1.5803 - accuracy: 0.4458 - val_loss: 0.9770 - val_accuracy: 0.7555\n",
            "Epoch 107/1000\n",
            "84/95 [=========================>....] - ETA: 0s - loss: 1.5976 - accuracy: 0.4438\n",
            "Epoch 00107: saving model to model/keypoint_classifier\\keypoint_classifier.hdf5\n",
            "95/95 [==============================] - 0s 2ms/step - loss: 1.5970 - accuracy: 0.4444 - val_loss: 0.9928 - val_accuracy: 0.7501\n",
            "Epoch 108/1000\n",
            "84/95 [=========================>....] - ETA: 0s - loss: 1.5761 - accuracy: 0.4495\n",
            "Epoch 00108: saving model to model/keypoint_classifier\\keypoint_classifier.hdf5\n",
            "95/95 [==============================] - 0s 2ms/step - loss: 1.5760 - accuracy: 0.4487 - val_loss: 0.9853 - val_accuracy: 0.7761\n",
            "Epoch 109/1000\n",
            "88/95 [==========================>...] - ETA: 0s - loss: 1.5990 - accuracy: 0.4432\n",
            "Epoch 00109: saving model to model/keypoint_classifier\\keypoint_classifier.hdf5\n",
            "95/95 [==============================] - 0s 2ms/step - loss: 1.6001 - accuracy: 0.4416 - val_loss: 0.9903 - val_accuracy: 0.7582\n",
            "Epoch 110/1000\n",
            "70/95 [=====================>........] - ETA: 0s - loss: 1.5669 - accuracy: 0.4507\n",
            "Epoch 00110: saving model to model/keypoint_classifier\\keypoint_classifier.hdf5\n",
            "95/95 [==============================] - 0s 2ms/step - loss: 1.5665 - accuracy: 0.4479 - val_loss: 0.9720 - val_accuracy: 0.7848\n",
            "Epoch 111/1000\n",
            "83/95 [=========================>....] - ETA: 0s - loss: 1.5739 - accuracy: 0.4515\n",
            "Epoch 00111: saving model to model/keypoint_classifier\\keypoint_classifier.hdf5\n",
            "95/95 [==============================] - 0s 2ms/step - loss: 1.5736 - accuracy: 0.4513 - val_loss: 0.9646 - val_accuracy: 0.7897\n",
            "Epoch 112/1000\n",
            "84/95 [=========================>....] - ETA: 0s - loss: 1.5809 - accuracy: 0.4471\n",
            "Epoch 00112: saving model to model/keypoint_classifier\\keypoint_classifier.hdf5\n",
            "95/95 [==============================] - 0s 2ms/step - loss: 1.5808 - accuracy: 0.4475 - val_loss: 0.9857 - val_accuracy: 0.7818\n",
            "Epoch 113/1000\n",
            "83/95 [=========================>....] - ETA: 0s - loss: 1.5684 - accuracy: 0.4578\n",
            "Epoch 00113: saving model to model/keypoint_classifier\\keypoint_classifier.hdf5\n",
            "95/95 [==============================] - 0s 2ms/step - loss: 1.5757 - accuracy: 0.4546 - val_loss: 0.9694 - val_accuracy: 0.7828\n",
            "Epoch 114/1000\n",
            "85/95 [=========================>....] - ETA: 0s - loss: 1.5745 - accuracy: 0.4487\n",
            "Epoch 00114: saving model to model/keypoint_classifier\\keypoint_classifier.hdf5\n",
            "95/95 [==============================] - 0s 2ms/step - loss: 1.5706 - accuracy: 0.4497 - val_loss: 0.9811 - val_accuracy: 0.7483\n",
            "Epoch 115/1000\n",
            "70/95 [=====================>........] - ETA: 0s - loss: 1.5759 - accuracy: 0.4540\n",
            "Epoch 00115: saving model to model/keypoint_classifier\\keypoint_classifier.hdf5\n",
            "95/95 [==============================] - 0s 2ms/step - loss: 1.5671 - accuracy: 0.4550 - val_loss: 0.9964 - val_accuracy: 0.7644\n",
            "Epoch 116/1000\n",
            "82/95 [========================>.....] - ETA: 0s - loss: 1.5759 - accuracy: 0.4515\n",
            "Epoch 00116: saving model to model/keypoint_classifier\\keypoint_classifier.hdf5\n",
            "95/95 [==============================] - 0s 2ms/step - loss: 1.5740 - accuracy: 0.4533 - val_loss: 0.9781 - val_accuracy: 0.7736\n",
            "Epoch 117/1000\n",
            "86/95 [==========================>...] - ETA: 0s - loss: 1.5760 - accuracy: 0.4513\n",
            "Epoch 00117: saving model to model/keypoint_classifier\\keypoint_classifier.hdf5\n",
            "95/95 [==============================] - 0s 2ms/step - loss: 1.5755 - accuracy: 0.4516 - val_loss: 0.9866 - val_accuracy: 0.7577\n",
            "Epoch 118/1000\n",
            "86/95 [==========================>...] - ETA: 0s - loss: 1.5542 - accuracy: 0.4590\n",
            "Epoch 00118: saving model to model/keypoint_classifier\\keypoint_classifier.hdf5\n",
            "95/95 [==============================] - 0s 2ms/step - loss: 1.5586 - accuracy: 0.4572 - val_loss: 0.9820 - val_accuracy: 0.7657\n",
            "Epoch 119/1000\n",
            "84/95 [=========================>....] - ETA: 0s - loss: 1.5708 - accuracy: 0.4536\n",
            "Epoch 00119: saving model to model/keypoint_classifier\\keypoint_classifier.hdf5\n",
            "95/95 [==============================] - 0s 2ms/step - loss: 1.5717 - accuracy: 0.4549 - val_loss: 0.9735 - val_accuracy: 0.7828\n",
            "Epoch 120/1000\n",
            "82/95 [========================>.....] - ETA: 0s - loss: 1.5643 - accuracy: 0.4554\n",
            "Epoch 00120: saving model to model/keypoint_classifier\\keypoint_classifier.hdf5\n",
            "95/95 [==============================] - 0s 2ms/step - loss: 1.5605 - accuracy: 0.4539 - val_loss: 0.9813 - val_accuracy: 0.7684\n",
            "Epoch 121/1000\n",
            "80/95 [========================>.....] - ETA: 0s - loss: 1.5621 - accuracy: 0.4477\n",
            "Epoch 00121: saving model to model/keypoint_classifier\\keypoint_classifier.hdf5\n",
            "95/95 [==============================] - 0s 2ms/step - loss: 1.5656 - accuracy: 0.4469 - val_loss: 0.9682 - val_accuracy: 0.7682\n",
            "Epoch 122/1000\n",
            "79/95 [=======================>......] - ETA: 0s - loss: 1.5492 - accuracy: 0.4587\n",
            "Epoch 00122: saving model to model/keypoint_classifier\\keypoint_classifier.hdf5\n",
            "95/95 [==============================] - 0s 2ms/step - loss: 1.5539 - accuracy: 0.4576 - val_loss: 0.9615 - val_accuracy: 0.7942\n",
            "Epoch 123/1000\n",
            "83/95 [=========================>....] - ETA: 0s - loss: 1.5622 - accuracy: 0.4516\n",
            "Epoch 00123: saving model to model/keypoint_classifier\\keypoint_classifier.hdf5\n",
            "95/95 [==============================] - 0s 2ms/step - loss: 1.5644 - accuracy: 0.4494 - val_loss: 0.9927 - val_accuracy: 0.7863\n",
            "Epoch 124/1000\n",
            "83/95 [=========================>....] - ETA: 0s - loss: 1.5380 - accuracy: 0.4531\n",
            "Epoch 00124: saving model to model/keypoint_classifier\\keypoint_classifier.hdf5\n",
            "95/95 [==============================] - 0s 2ms/step - loss: 1.5384 - accuracy: 0.4550 - val_loss: 0.9744 - val_accuracy: 0.7672\n",
            "Epoch 125/1000\n",
            "82/95 [========================>.....] - ETA: 0s - loss: 1.5426 - accuracy: 0.4631\n",
            "Epoch 00125: saving model to model/keypoint_classifier\\keypoint_classifier.hdf5\n",
            "95/95 [==============================] - 0s 2ms/step - loss: 1.5495 - accuracy: 0.4618 - val_loss: 0.9650 - val_accuracy: 0.7848\n",
            "Epoch 126/1000\n",
            "82/95 [========================>.....] - ETA: 0s - loss: 1.5490 - accuracy: 0.4511\n",
            "Epoch 00126: saving model to model/keypoint_classifier\\keypoint_classifier.hdf5\n",
            "95/95 [==============================] - 0s 2ms/step - loss: 1.5507 - accuracy: 0.4536 - val_loss: 0.9699 - val_accuracy: 0.7882\n",
            "Epoch 127/1000\n",
            "81/95 [========================>.....] - ETA: 0s - loss: 1.5499 - accuracy: 0.4570\n",
            "Epoch 00127: saving model to model/keypoint_classifier\\keypoint_classifier.hdf5\n",
            "95/95 [==============================] - 0s 2ms/step - loss: 1.5471 - accuracy: 0.4579 - val_loss: 0.9832 - val_accuracy: 0.7773\n",
            "Epoch 128/1000\n",
            "83/95 [=========================>....] - ETA: 0s - loss: 1.5644 - accuracy: 0.4451\n",
            "Epoch 00128: saving model to model/keypoint_classifier\\keypoint_classifier.hdf5\n",
            "95/95 [==============================] - 0s 2ms/step - loss: 1.5603 - accuracy: 0.4459 - val_loss: 0.9778 - val_accuracy: 0.7878\n",
            "Epoch 129/1000\n",
            "82/95 [========================>.....] - ETA: 0s - loss: 1.5412 - accuracy: 0.4629\n",
            "Epoch 00129: saving model to model/keypoint_classifier\\keypoint_classifier.hdf5\n",
            "95/95 [==============================] - 0s 2ms/step - loss: 1.5427 - accuracy: 0.4610 - val_loss: 0.9719 - val_accuracy: 0.7754\n",
            "Epoch 130/1000\n",
            "83/95 [=========================>....] - ETA: 0s - loss: 1.5551 - accuracy: 0.4578\n",
            "Epoch 00130: saving model to model/keypoint_classifier\\keypoint_classifier.hdf5\n",
            "95/95 [==============================] - 0s 2ms/step - loss: 1.5582 - accuracy: 0.4582 - val_loss: 1.0161 - val_accuracy: 0.7473\n",
            "Epoch 131/1000\n",
            "84/95 [=========================>....] - ETA: 0s - loss: 1.5360 - accuracy: 0.4612\n",
            "Epoch 00131: saving model to model/keypoint_classifier\\keypoint_classifier.hdf5\n",
            "95/95 [==============================] - 0s 2ms/step - loss: 1.5391 - accuracy: 0.4605 - val_loss: 0.9783 - val_accuracy: 0.7726\n",
            "Epoch 132/1000\n",
            "80/95 [========================>.....] - ETA: 0s - loss: 1.5235 - accuracy: 0.4703\n",
            "Epoch 00132: saving model to model/keypoint_classifier\\keypoint_classifier.hdf5\n",
            "95/95 [==============================] - 0s 2ms/step - loss: 1.5284 - accuracy: 0.4666 - val_loss: 0.9587 - val_accuracy: 0.7744\n",
            "Epoch 133/1000\n",
            "83/95 [=========================>....] - ETA: 0s - loss: 1.5346 - accuracy: 0.4622\n",
            "Epoch 00133: saving model to model/keypoint_classifier\\keypoint_classifier.hdf5\n",
            "95/95 [==============================] - 0s 2ms/step - loss: 1.5415 - accuracy: 0.4619 - val_loss: 0.9955 - val_accuracy: 0.7672\n",
            "Epoch 134/1000\n",
            "89/95 [===========================>..] - ETA: 0s - loss: 1.5456 - accuracy: 0.4601\n",
            "Epoch 00134: saving model to model/keypoint_classifier\\keypoint_classifier.hdf5\n",
            "95/95 [==============================] - 0s 2ms/step - loss: 1.5423 - accuracy: 0.4597 - val_loss: 0.9722 - val_accuracy: 0.7865\n",
            "Epoch 135/1000\n",
            "89/95 [===========================>..] - ETA: 0s - loss: 1.5390 - accuracy: 0.4549\n",
            "Epoch 00135: saving model to model/keypoint_classifier\\keypoint_classifier.hdf5\n",
            "95/95 [==============================] - 0s 2ms/step - loss: 1.5398 - accuracy: 0.4549 - val_loss: 0.9766 - val_accuracy: 0.7729\n",
            "Epoch 136/1000\n",
            "87/95 [==========================>...] - ETA: 0s - loss: 1.5452 - accuracy: 0.4594\n",
            "Epoch 00136: saving model to model/keypoint_classifier\\keypoint_classifier.hdf5\n",
            "95/95 [==============================] - 0s 2ms/step - loss: 1.5493 - accuracy: 0.4593 - val_loss: 0.9993 - val_accuracy: 0.7553\n",
            "Epoch 137/1000\n",
            "87/95 [==========================>...] - ETA: 0s - loss: 1.5122 - accuracy: 0.46 - ETA: 0s - loss: 1.5233 - accuracy: 0.4661\n",
            "Epoch 00137: saving model to model/keypoint_classifier\\keypoint_classifier.hdf5\n",
            "95/95 [==============================] - 0s 2ms/step - loss: 1.5308 - accuracy: 0.4640 - val_loss: 0.9831 - val_accuracy: 0.7758\n",
            "Epoch 138/1000\n",
            "87/95 [==========================>...] - ETA: 0s - loss: 1.5173 - accuracy: 0.4729\n",
            "Epoch 00138: saving model to model/keypoint_classifier\\keypoint_classifier.hdf5\n",
            "95/95 [==============================] - 0s 2ms/step - loss: 1.5206 - accuracy: 0.4714 - val_loss: 0.9890 - val_accuracy: 0.7776\n",
            "Epoch 139/1000\n",
            "91/95 [===========================>..] - ETA: 0s - loss: 1.5303 - accuracy: 0.4732\n",
            "Epoch 00139: saving model to model/keypoint_classifier\\keypoint_classifier.hdf5\n",
            "95/95 [==============================] - 0s 2ms/step - loss: 1.5322 - accuracy: 0.4732 - val_loss: 0.9872 - val_accuracy: 0.7627\n",
            "Epoch 140/1000\n",
            "91/95 [===========================>..] - ETA: 0s - loss: 1.5182 - accuracy: 0.4716\n",
            "Epoch 00140: saving model to model/keypoint_classifier\\keypoint_classifier.hdf5\n",
            "95/95 [==============================] - 0s 2ms/step - loss: 1.5192 - accuracy: 0.4702 - val_loss: 0.9976 - val_accuracy: 0.7595\n",
            "Epoch 141/1000\n",
            "88/95 [==========================>...] - ETA: 0s - loss: 1.5416 - accuracy: 0.4560\n",
            "Epoch 00141: saving model to model/keypoint_classifier\\keypoint_classifier.hdf5\n",
            "95/95 [==============================] - 0s 2ms/step - loss: 1.5438 - accuracy: 0.4557 - val_loss: 0.9680 - val_accuracy: 0.7511\n",
            "Epoch 142/1000\n",
            "88/95 [==========================>...] - ETA: 0s - loss: 1.5253 - accuracy: 0.4659\n",
            "Epoch 00142: saving model to model/keypoint_classifier\\keypoint_classifier.hdf5\n",
            "95/95 [==============================] - 0s 2ms/step - loss: 1.5193 - accuracy: 0.4686 - val_loss: 0.9711 - val_accuracy: 0.7756\n",
            "Epoch 143/1000\n",
            "91/95 [===========================>..] - ETA: 0s - loss: 1.4988 - accuracy: 0.4760\n",
            "Epoch 00143: saving model to model/keypoint_classifier\\keypoint_classifier.hdf5\n",
            "95/95 [==============================] - 0s 2ms/step - loss: 1.4964 - accuracy: 0.4776 - val_loss: 0.9735 - val_accuracy: 0.7808\n",
            "Epoch 144/1000\n",
            "90/95 [===========================>..] - ETA: 0s - loss: 1.5148 - accuracy: 0.4736\n",
            "Epoch 00144: saving model to model/keypoint_classifier\\keypoint_classifier.hdf5\n",
            "95/95 [==============================] - 0s 2ms/step - loss: 1.5149 - accuracy: 0.4739 - val_loss: 0.9838 - val_accuracy: 0.7662\n",
            "Epoch 145/1000\n",
            "90/95 [===========================>..] - ETA: 0s - loss: 1.5174 - accuracy: 0.4714\n",
            "Epoch 00145: saving model to model/keypoint_classifier\\keypoint_classifier.hdf5\n",
            "95/95 [==============================] - 0s 2ms/step - loss: 1.5179 - accuracy: 0.4726 - val_loss: 0.9734 - val_accuracy: 0.7706\n",
            "Epoch 146/1000\n",
            "92/95 [============================>.] - ETA: 0s - loss: 1.5071 - accuracy: 0.4654\n",
            "Epoch 00146: saving model to model/keypoint_classifier\\keypoint_classifier.hdf5\n",
            "95/95 [==============================] - 0s 2ms/step - loss: 1.5042 - accuracy: 0.4663 - val_loss: 0.9722 - val_accuracy: 0.7652\n",
            "Epoch 147/1000\n",
            "87/95 [==========================>...] - ETA: 0s - loss: 1.5128 - accuracy: 0.4784\n",
            "Epoch 00147: saving model to model/keypoint_classifier\\keypoint_classifier.hdf5\n",
            "95/95 [==============================] - 0s 2ms/step - loss: 1.5155 - accuracy: 0.4775 - val_loss: 0.9848 - val_accuracy: 0.7637\n",
            "Epoch 148/1000\n",
            "88/95 [==========================>...] - ETA: 0s - loss: 1.5165 - accuracy: 0.4724\n",
            "Epoch 00148: saving model to model/keypoint_classifier\\keypoint_classifier.hdf5\n",
            "95/95 [==============================] - 0s 2ms/step - loss: 1.5160 - accuracy: 0.4731 - val_loss: 0.9905 - val_accuracy: 0.7736\n",
            "Epoch 149/1000\n",
            "87/95 [==========================>...] - ETA: 0s - loss: 1.5350 - accuracy: 0.4665\n",
            "Epoch 00149: saving model to model/keypoint_classifier\\keypoint_classifier.hdf5\n",
            "95/95 [==============================] - 0s 2ms/step - loss: 1.5303 - accuracy: 0.4684 - val_loss: 0.9641 - val_accuracy: 0.7763\n",
            "Epoch 150/1000\n",
            "85/95 [=========================>....] - ETA: 0s - loss: 1.4938 - accuracy: 0.4711\n",
            "Epoch 00150: saving model to model/keypoint_classifier\\keypoint_classifier.hdf5\n",
            "95/95 [==============================] - 0s 2ms/step - loss: 1.4901 - accuracy: 0.4730 - val_loss: 0.9691 - val_accuracy: 0.7724\n",
            "Epoch 151/1000\n",
            "89/95 [===========================>..] - ETA: 0s - loss: 1.5135 - accuracy: 0.4735\n",
            "Epoch 00151: saving model to model/keypoint_classifier\\keypoint_classifier.hdf5\n",
            "95/95 [==============================] - 0s 2ms/step - loss: 1.5131 - accuracy: 0.4738 - val_loss: 0.9895 - val_accuracy: 0.7664\n",
            "Epoch 152/1000\n",
            "90/95 [===========================>..] - ETA: 0s - loss: 1.4890 - accuracy: 0.4760\n",
            "Epoch 00152: saving model to model/keypoint_classifier\\keypoint_classifier.hdf5\n",
            "95/95 [==============================] - 0s 2ms/step - loss: 1.4916 - accuracy: 0.4747 - val_loss: 0.9757 - val_accuracy: 0.7682\n",
            "Epoch 00152: early stopping\n"
          ]
        },
        {
          "data": {
            "text/plain": [
              "<tensorflow.python.keras.callbacks.History at 0x1fafe8d4e48>"
            ]
          },
          "execution_count": 99,
          "metadata": {},
          "output_type": "execute_result"
        }
      ],
      "source": [
        "model.fit(\n",
        "    X_train,\n",
        "    y_train,\n",
        "    epochs=1000,\n",
        "    batch_size=128,\n",
        "    validation_data=(X_test, y_test),\n",
        "    callbacks=[cp_callback, es_callback]\n",
        ")"
      ]
    },
    {
      "cell_type": "code",
      "execution_count": 100,
      "metadata": {
        "colab": {
          "base_uri": "https://localhost:8080/"
        },
        "id": "pxvb2Y299hE3",
        "outputId": "59eb3185-2e37-4b9e-bc9d-ab1b8ac29b7f"
      },
      "outputs": [
        {
          "name": "stdout",
          "output_type": "stream",
          "text": [
            "32/32 [==============================] - 0s 845us/step - loss: 0.9757 - accuracy: 0.7682\n"
          ]
        }
      ],
      "source": [
        "# Model evaluation\n",
        "val_loss, val_acc = model.evaluate(X_test, y_test, batch_size=128)"
      ]
    },
    {
      "cell_type": "code",
      "execution_count": 101,
      "metadata": {
        "id": "RBkmDeUW9hE4"
      },
      "outputs": [],
      "source": [
        "# Loading the saved model\n",
        "model = tf.keras.models.load_model(model_save_path)"
      ]
    },
    {
      "cell_type": "code",
      "execution_count": 102,
      "metadata": {
        "colab": {
          "base_uri": "https://localhost:8080/"
        },
        "id": "tFz9Tb0I9hE4",
        "outputId": "1c3b3528-54ae-4ee2-ab04-77429211cbef"
      },
      "outputs": [
        {
          "name": "stdout",
          "output_type": "stream",
          "text": [
            "[3.7281385e-05 6.1641564e-10 1.7077592e-21 4.5374288e-10 1.5179193e-17\n",
            " 1.6655248e-14 4.0547440e-11 3.0201043e-08 1.0432505e-04 4.7753820e-13\n",
            " 5.8031613e-08 9.2477481e-20 3.0014509e-09 7.4364819e-18 2.6643374e-16\n",
            " 1.3916991e-10 5.0776333e-01 3.6541653e-01 5.2796842e-30 4.6835593e-22\n",
            " 5.3353798e-31 8.7611786e-26 4.9809630e-23 4.9989549e-29 1.5380032e-19\n",
            " 2.3264515e-06 1.2667610e-01]\n",
            "16\n"
          ]
        }
      ],
      "source": [
        "# Inference test\n",
        "predict_result = model.predict(np.array([X_test[0]]))\n",
        "print(np.squeeze(predict_result))\n",
        "print(np.argmax(np.squeeze(predict_result)))"
      ]
    },
    {
      "cell_type": "markdown",
      "metadata": {
        "id": "S3U4yNWx9hE4"
      },
      "source": [
        "# Confusion matrix"
      ]
    },
    {
      "cell_type": "code",
      "execution_count": 103,
      "metadata": {
        "colab": {
          "base_uri": "https://localhost:8080/",
          "height": 582
        },
        "id": "AP1V6SCk9hE5",
        "outputId": "08e41a80-7a4a-4619-8125-ecc371368d19"
      },
      "outputs": [
        {
          "data": {
            "image/png": "[encoded data removed]",
            "text/plain": [
              "<Figure size 504x432 with 2 Axes>"
            ]
          },
          "metadata": {
            "needs_background": "light"
          },
          "output_type": "display_data"
        },
        {
          "name": "stdout",
          "output_type": "stream",
          "text": [
            "Classification Report\n",
            "              precision    recall  f1-score   support\n",
            "\n",
            "           0       0.97      0.93      0.95        94\n",
            "           1       0.83      0.55      0.66       131\n",
            "           2       0.96      0.89      0.93       104\n",
            "           3       0.94      0.63      0.75        99\n",
            "           4       0.70      0.93      0.80       134\n",
            "           5       0.83      0.88      0.86       179\n",
            "           6       0.92      0.95      0.93        96\n",
            "           7       0.80      0.94      0.86       124\n",
            "           8       0.79      0.69      0.74        95\n",
            "           9       0.93      0.92      0.92       153\n",
            "          10       1.00      0.72      0.84       111\n",
            "          11       0.89      0.77      0.83       128\n",
            "          12       0.96      0.94      0.95       154\n",
            "          13       0.80      0.46      0.58       102\n",
            "          14       0.50      0.92      0.65       131\n",
            "          15       0.72      0.73      0.73        89\n",
            "          16       0.97      0.81      0.88       184\n",
            "          17       0.82      0.98      0.89       213\n",
            "          18       0.40      0.88      0.55       225\n",
            "          19       0.89      0.83      0.86       214\n",
            "          20       0.96      0.98      0.97       134\n",
            "          21       0.29      0.22      0.25       202\n",
            "          22       0.64      0.16      0.25       220\n",
            "          23       0.96      0.99      0.98        99\n",
            "          24       0.85      0.71      0.78       126\n",
            "          25       0.99      0.94      0.96       116\n",
            "          26       0.82      0.77      0.80       376\n",
            "\n",
            "    accuracy                           0.77      4033\n",
            "   macro avg       0.82      0.78      0.78      4033\n",
            "weighted avg       0.80      0.77      0.76      4033\n",
            "\n"
          ]
        }
      ],
      "source": [
        "import pandas as pd\n",
        "import seaborn as sns\n",
        "import matplotlib.pyplot as plt\n",
        "from sklearn.metrics import confusion_matrix, classification_report\n",
        "\n",
        "def print_confusion_matrix(y_true, y_pred, report=True):\n",
        "    labels = sorted(list(set(y_true)))\n",
        "    cmx_data = confusion_matrix(y_true, y_pred, labels=labels)\n",
        "    \n",
        "    df_cmx = pd.DataFrame(cmx_data, index=labels, columns=labels)\n",
        " \n",
        "    fig, ax = plt.subplots(figsize=(7, 6))\n",
        "    sns.heatmap(df_cmx, annot=True, fmt='g' ,square=False)\n",
        "    ax.set_ylim(len(set(y_true)), 0)\n",
        "    plt.show()\n",
        "    \n",
        "    if report:\n",
        "        print('Classification Report')\n",
        "        print(classification_report(y_test, y_pred))\n",
        "\n",
        "Y_pred = model.predict(X_test)\n",
        "y_pred = np.argmax(Y_pred, axis=1)\n",
        "\n",
        "print_confusion_matrix(y_test, y_pred)"
      ]
    },
    {
      "cell_type": "markdown",
      "metadata": {
        "id": "FNP6aqzc9hE5"
      },
      "source": [
        "# Convert to model for Tensorflow-Lite"
      ]
    },
    {
      "cell_type": "code",
      "execution_count": 104,
      "metadata": {
        "id": "ODjnYyld9hE6"
      },
      "outputs": [],
      "source": [
        "# Save as a model dedicated to inference\n",
        "model.save(model_save_path, include_optimizer=False)"
      ]
    },
    {
      "cell_type": "code",
      "execution_count": 105,
      "metadata": {
        "colab": {
          "base_uri": "https://localhost:8080/"
        },
        "id": "zRfuK8Y59hE6",
        "outputId": "a4ca585c-b5d5-4244-8291-8674063209bb"
      },
      "outputs": [
        {
          "name": "stdout",
          "output_type": "stream",
          "text": [
            "INFO:tensorflow:Assets written to: C:\\Users\\WONGCH~1\\AppData\\Local\\Temp\\tmpnhqqnrdt\\assets\n"
          ]
        },
        {
          "name": "stderr",
          "output_type": "stream",
          "text": [
            "INFO:tensorflow:Assets written to: C:\\Users\\WONGCH~1\\AppData\\Local\\Temp\\tmpnhqqnrdt\\assets\n"
          ]
        },
        {
          "data": {
            "text/plain": [
              "7344"
            ]
          },
          "execution_count": 105,
          "metadata": {},
          "output_type": "execute_result"
        }
      ],
      "source": [
        "# Transform model (quantization)\n",
        "\n",
        "converter = tf.lite.TFLiteConverter.from_keras_model(model)\n",
        "converter.optimizations = [tf.lite.Optimize.DEFAULT]\n",
        "tflite_quantized_model = converter.convert()\n",
        "\n",
        "open(tflite_save_path, 'wb').write(tflite_quantized_model)"
      ]
    },
    {
      "cell_type": "markdown",
      "metadata": {
        "id": "CHBPBXdx9hE6"
      },
      "source": [
        "# Inference test"
      ]
    },
    {
      "cell_type": "code",
      "execution_count": 106,
      "metadata": {
        "id": "mGAzLocO9hE7"
      },
      "outputs": [],
      "source": [
        "interpreter = tf.lite.Interpreter(model_path=tflite_save_path)\n",
        "interpreter.allocate_tensors()"
      ]
    },
    {
      "cell_type": "code",
      "execution_count": 107,
      "metadata": {
        "id": "oQuDK8YS9hE7"
      },
      "outputs": [],
      "source": [
        "# Get I / O tensor\n",
        "input_details = interpreter.get_input_details()\n",
        "output_details = interpreter.get_output_details()"
      ]
    },
    {
      "cell_type": "code",
      "execution_count": 108,
      "metadata": {
        "id": "2_ixAf_l9hE7"
      },
      "outputs": [],
      "source": [
        "interpreter.set_tensor(input_details[0]['index'], np.array([X_test[0]]))"
      ]
    },
    {
      "cell_type": "code",
      "execution_count": 109,
      "metadata": {
        "colab": {
          "base_uri": "https://localhost:8080/"
        },
        "id": "s4FoAnuc9hE7",
        "outputId": "91f18257-8d8b-4ef3-c558-e9b5f94fabbf",
        "scrolled": true
      },
      "outputs": [
        {
          "name": "stdout",
          "output_type": "stream",
          "text": [
            "Wall time: 0 ns\n"
          ]
        }
      ],
      "source": [
        "%%time\n",
        "# Inference implementation\n",
        "interpreter.invoke()\n",
        "tflite_results = interpreter.get_tensor(output_details[0]['index'])"
      ]
    },
    {
      "cell_type": "code",
      "execution_count": 110,
      "metadata": {
        "colab": {
          "base_uri": "https://localhost:8080/"
        },
        "id": "vONjp19J9hE8",
        "outputId": "77205e24-fd00-42c4-f7b6-e06e527c2cba"
      },
      "outputs": [
        {
          "name": "stdout",
          "output_type": "stream",
          "text": [
            "[3.7281308e-05 6.1641436e-10 1.7077590e-21 4.5374282e-10 1.5179191e-17\n",
            " 1.6655214e-14 4.0547357e-11 3.0201040e-08 1.0432524e-04 4.7753815e-13\n",
            " 5.8031549e-08 9.2477474e-20 3.0014620e-09 7.4365092e-18 2.6643270e-16\n",
            " 1.3916988e-10 5.0776327e-01 3.6541647e-01 5.2796834e-30 4.6835583e-22\n",
            " 5.3354198e-31 8.7611780e-26 4.9809624e-23 4.9989543e-29 1.5380030e-19\n",
            " 2.3264470e-06 1.2667622e-01]\n",
            "16\n"
          ]
        }
      ],
      "source": [
        "print(np.squeeze(tflite_results))\n",
        "print(np.argmax(np.squeeze(tflite_results)))"
      ]
    }
  ],
  "metadata": {
    "accelerator": "GPU",
    "colab": {
      "collapsed_sections": [],
      "name": "keypoint_classification_EN.ipynb",
      "provenance": [],
      "toc_visible": true
    },
    "kernelspec": {
      "display_name": "Python 3",
      "language": "python",
      "name": "python3"
    },
    "language_info": {
      "codemirror_mode": {
        "name": "ipython",
        "version": 3
      },
      "file_extension": ".py",
      "mimetype": "text/x-python",
      "name": "python",
      "nbconvert_exporter": "python",
      "pygments_lexer": "ipython3",
      "version": "3.6.8"
    }
  },
  "nbformat": 4,
  "nbformat_minor": 0
}
