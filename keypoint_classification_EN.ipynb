{
  "cells": [
    {
      "cell_type": "code",
      "execution_count": 221,
      "metadata": {
        "id": "igMyGnjE9hEp"
      },
      "outputs": [],
      "source": [
        "import csv\n",
        "\n",
        "import numpy as np\n",
        "import tensorflow as tf\n",
        "from sklearn.model_selection import train_test_split\n",
        "\n",
        "RANDOM_SEED = 42"
      ]
    },
    {
      "cell_type": "markdown",
      "metadata": {
        "id": "t2HDvhIu9hEr"
      },
      "source": [
        "# Specify each path"
      ]
    },
    {
      "cell_type": "code",
      "execution_count": 222,
      "metadata": {
        "id": "9NvZP2Zn9hEy"
      },
      "outputs": [],
      "source": [
        "dataset = 'model/keypoint_classifier/keypoint.csv'\n",
        "model_save_path = 'model/keypoint_classifier/keypoint_classifier.hdf5'\n",
        "tflite_save_path = 'model/keypoint_classifier/keypoint_classifier.tflite'"
      ]
    },
    {
      "cell_type": "markdown",
      "metadata": {
        "id": "s5oMH7x19hEz"
      },
      "source": [
        "# Set number of classes"
      ]
    },
    {
      "cell_type": "code",
      "execution_count": 223,
      "metadata": {
        "id": "du4kodXL9hEz"
      },
      "outputs": [],
      "source": [
        "NUM_CLASSES = 27"
      ]
    },
    {
      "cell_type": "markdown",
      "metadata": {
        "id": "XjnL0uso9hEz"
      },
      "source": [
        "# Dataset reading"
      ]
    },
    {
      "cell_type": "code",
      "execution_count": 224,
      "metadata": {
        "id": "QT5ZqtEz9hE0"
      },
      "outputs": [],
      "source": [
        "X_dataset = np.loadtxt(dataset, delimiter=',', dtype='float32', usecols=list(range(1, (21 * 2) + 1)))"
      ]
    },
    {
      "cell_type": "code",
      "execution_count": 225,
      "metadata": {
        "id": "QmoKFsp49hE0"
      },
      "outputs": [],
      "source": [
        "y_dataset = np.loadtxt(dataset, delimiter=',', dtype='int32', usecols=(0))"
      ]
    },
    {
      "cell_type": "code",
      "execution_count": 226,
      "metadata": {
        "id": "xQU7JTZ_9hE0"
      },
      "outputs": [],
      "source": [
        "X_train, X_test, y_train, y_test = train_test_split(X_dataset, y_dataset, train_size=0.75, random_state=RANDOM_SEED)"
      ]
    },
    {
      "cell_type": "markdown",
      "metadata": {
        "id": "mxK_lETT9hE0"
      },
      "source": [
        "# Model building"
      ]
    },
    {
      "cell_type": "code",
      "execution_count": 227,
      "metadata": {
        "id": "vHBmUf1t9hE1"
      },
      "outputs": [],
      "source": [
        "model = tf.keras.models.Sequential([\n",
        "    tf.keras.layers.Input((21 * 2, )),\n",
        "    tf.keras.layers.Dropout(0.2),\n",
        "    tf.keras.layers.Dense(20, activation='relu'),\n",
        "    tf.keras.layers.Dropout(0.4),\n",
        "    tf.keras.layers.Dense(10, activation='relu'),\n",
        "    tf.keras.layers.Dense(NUM_CLASSES, activation='softmax')\n",
        "])"
      ]
    },
    {
      "cell_type": "code",
      "execution_count": 228,
      "metadata": {
        "colab": {
          "base_uri": "https://localhost:8080/"
        },
        "id": "ypqky9tc9hE1",
        "outputId": "5db082bb-30e3-4110-bf63-a1ee777ecd46"
      },
      "outputs": [
        {
          "name": "stdout",
          "output_type": "stream",
          "text": [
            "Model: \"sequential_10\"\n",
            "_________________________________________________________________\n",
            "Layer (type)                 Output Shape              Param #   \n",
            "=================================================================\n",
            "dropout_20 (Dropout)         (None, 42)                0         \n",
            "_________________________________________________________________\n",
            "dense_30 (Dense)             (None, 20)                860       \n",
            "_________________________________________________________________\n",
            "dropout_21 (Dropout)         (None, 20)                0         \n",
            "_________________________________________________________________\n",
            "dense_31 (Dense)             (None, 10)                210       \n",
            "_________________________________________________________________\n",
            "dense_32 (Dense)             (None, 27)                297       \n",
            "=================================================================\n",
            "Total params: 1,367\n",
            "Trainable params: 1,367\n",
            "Non-trainable params: 0\n",
            "_________________________________________________________________\n"
          ]
        }
      ],
      "source": [
        "model.summary()  # tf.keras.utils.plot_model(model, show_shapes=True)"
      ]
    },
    {
      "cell_type": "code",
      "execution_count": 229,
      "metadata": {
        "id": "MbMjOflQ9hE1"
      },
      "outputs": [],
      "source": [
        "# Model checkpoint callback\n",
        "cp_callback = tf.keras.callbacks.ModelCheckpoint(\n",
        "    model_save_path, verbose=1, save_weights_only=False)\n",
        "# Callback for early stopping\n",
        "es_callback = tf.keras.callbacks.EarlyStopping(patience=20, verbose=1)"
      ]
    },
    {
      "cell_type": "code",
      "execution_count": 230,
      "metadata": {
        "id": "c3Dac0M_9hE2"
      },
      "outputs": [],
      "source": [
        "# Model compilation\n",
        "model.compile(\n",
        "    optimizer='adam',\n",
        "    loss='sparse_categorical_crossentropy',\n",
        "    metrics=['accuracy']\n",
        ")"
      ]
    },
    {
      "cell_type": "markdown",
      "metadata": {
        "id": "7XI0j1Iu9hE2"
      },
      "source": [
        "# Model training"
      ]
    },
    {
      "cell_type": "code",
      "execution_count": 231,
      "metadata": {
        "colab": {
          "base_uri": "https://localhost:8080/"
        },
        "id": "WirBl-JE9hE3",
        "outputId": "71b30ca2-8294-4d9d-8aa2-800d90d399de",
        "scrolled": true
      },
      "outputs": [
        {
          "name": "stdout",
          "output_type": "stream",
          "text": [
            "Epoch 1/1000\n",
            "81/93 [=========================>....] - ETA: 0s - loss: 3.2169 - accuracy: 0.1087\n",
            "Epoch 00001: saving model to model/keypoint_classifier\\keypoint_classifier.hdf5\n",
            "93/93 [==============================] - 0s 2ms/step - loss: 3.2018 - accuracy: 0.1143 - val_loss: 3.0330 - val_accuracy: 0.1793\n",
            "Epoch 2/1000\n",
            "87/93 [===========================>..] - ETA: 0s - loss: 2.9701 - accuracy: 0.1558\n",
            "Epoch 00002: saving model to model/keypoint_classifier\\keypoint_classifier.hdf5\n",
            "93/93 [==============================] - 0s 2ms/step - loss: 2.9624 - accuracy: 0.1558 - val_loss: 2.7322 - val_accuracy: 0.1968\n",
            "Epoch 3/1000\n",
            "50/93 [===============>..............] - ETA: 0s - loss: 2.7939 - accuracy: 0.1734\n",
            "Epoch 00003: saving model to model/keypoint_classifier\\keypoint_classifier.hdf5\n",
            "93/93 [==============================] - 0s 1ms/step - loss: 2.7438 - accuracy: 0.1811 - val_loss: 2.4748 - val_accuracy: 0.2601\n",
            "Epoch 4/1000\n",
            "48/93 [==============>...............] - ETA: 0s - loss: 2.6219 - accuracy: 0.1999\n",
            "Epoch 00004: saving model to model/keypoint_classifier\\keypoint_classifier.hdf5\n",
            "93/93 [==============================] - 0s 1ms/step - loss: 2.5801 - accuracy: 0.2098 - val_loss: 2.2480 - val_accuracy: 0.3257\n",
            "Epoch 5/1000\n",
            "51/93 [===============>..............] - ETA: 0s - loss: 2.4537 - accuracy: 0.2279\n",
            "Epoch 00005: saving model to model/keypoint_classifier\\keypoint_classifier.hdf5\n",
            "93/93 [==============================] - 0s 1ms/step - loss: 2.4383 - accuracy: 0.2324 - val_loss: 2.0560 - val_accuracy: 0.4172\n",
            "Epoch 6/1000\n",
            "54/93 [================>.............] - ETA: 0s - loss: 2.3547 - accuracy: 0.2491\n",
            "Epoch 00006: saving model to model/keypoint_classifier\\keypoint_classifier.hdf5\n",
            "93/93 [==============================] - 0s 1ms/step - loss: 2.3399 - accuracy: 0.2482 - val_loss: 1.9187 - val_accuracy: 0.4162\n",
            "Epoch 7/1000\n",
            "55/93 [================>.............] - ETA: 0s - loss: 2.2666 - accuracy: 0.2651\n",
            "Epoch 00007: saving model to model/keypoint_classifier\\keypoint_classifier.hdf5\n",
            "93/93 [==============================] - 0s 1ms/step - loss: 2.2623 - accuracy: 0.2602 - val_loss: 1.8089 - val_accuracy: 0.4792\n",
            "Epoch 8/1000\n",
            "55/93 [================>.............] - ETA: 0s - loss: 2.2288 - accuracy: 0.2618\n",
            "Epoch 00008: saving model to model/keypoint_classifier\\keypoint_classifier.hdf5\n",
            "93/93 [==============================] - 0s 1ms/step - loss: 2.2186 - accuracy: 0.2681 - val_loss: 1.7415 - val_accuracy: 0.4666\n",
            "Epoch 9/1000\n",
            "48/93 [==============>...............] - ETA: 0s - loss: 2.1872 - accuracy: 0.2718\n",
            "Epoch 00009: saving model to model/keypoint_classifier\\keypoint_classifier.hdf5\n",
            "93/93 [==============================] - 0s 1ms/step - loss: 2.1603 - accuracy: 0.2769 - val_loss: 1.6768 - val_accuracy: 0.5048\n",
            "Epoch 10/1000\n",
            "48/93 [==============>...............] - ETA: 0s - loss: 2.1601 - accuracy: 0.2786\n",
            "Epoch 00010: saving model to model/keypoint_classifier\\keypoint_classifier.hdf5\n",
            "93/93 [==============================] - 0s 1ms/step - loss: 2.1544 - accuracy: 0.2758 - val_loss: 1.6572 - val_accuracy: 0.4813\n",
            "Epoch 11/1000\n",
            "74/93 [======================>.......] - ETA: 0s - loss: 2.1376 - accuracy: 0.2840\n",
            "Epoch 00011: saving model to model/keypoint_classifier\\keypoint_classifier.hdf5\n",
            "93/93 [==============================] - 0s 2ms/step - loss: 2.1276 - accuracy: 0.2869 - val_loss: 1.6153 - val_accuracy: 0.5208\n",
            "Epoch 12/1000\n",
            "48/93 [==============>...............] - ETA: 0s - loss: 2.1151 - accuracy: 0.2808\n",
            "Epoch 00012: saving model to model/keypoint_classifier\\keypoint_classifier.hdf5\n",
            "93/93 [==============================] - 0s 2ms/step - loss: 2.1139 - accuracy: 0.2815 - val_loss: 1.6117 - val_accuracy: 0.5091\n",
            "Epoch 13/1000\n",
            "50/93 [===============>..............] - ETA: 0s - loss: 2.0918 - accuracy: 0.2944\n",
            "Epoch 00013: saving model to model/keypoint_classifier\\keypoint_classifier.hdf5\n",
            "93/93 [==============================] - 0s 1ms/step - loss: 2.1015 - accuracy: 0.2907 - val_loss: 1.5886 - val_accuracy: 0.5228\n",
            "Epoch 14/1000\n",
            "53/93 [================>.............] - ETA: 0s - loss: 2.0910 - accuracy: 0.2836\n",
            "Epoch 00014: saving model to model/keypoint_classifier\\keypoint_classifier.hdf5\n",
            "93/93 [==============================] - 0s 1ms/step - loss: 2.0911 - accuracy: 0.2875 - val_loss: 1.5676 - val_accuracy: 0.4980\n",
            "Epoch 15/1000\n",
            "52/93 [===============>..............] - ETA: 0s - loss: 2.0645 - accuracy: 0.3000\n",
            "Epoch 00015: saving model to model/keypoint_classifier\\keypoint_classifier.hdf5\n",
            "93/93 [==============================] - 0s 1ms/step - loss: 2.0621 - accuracy: 0.3027 - val_loss: 1.5446 - val_accuracy: 0.5228\n",
            "Epoch 16/1000\n",
            "52/93 [===============>..............] - ETA: 0s - loss: 2.0366 - accuracy: 0.3072\n",
            "Epoch 00016: saving model to model/keypoint_classifier\\keypoint_classifier.hdf5\n",
            "93/93 [==============================] - 0s 1ms/step - loss: 2.0362 - accuracy: 0.3005 - val_loss: 1.5232 - val_accuracy: 0.5507\n",
            "Epoch 17/1000\n",
            "56/93 [=================>............] - ETA: 0s - loss: 2.0551 - accuracy: 0.2938\n",
            "Epoch 00017: saving model to model/keypoint_classifier\\keypoint_classifier.hdf5\n",
            "93/93 [==============================] - 0s 1ms/step - loss: 2.0459 - accuracy: 0.2972 - val_loss: 1.5093 - val_accuracy: 0.5522\n",
            "Epoch 18/1000\n",
            "52/93 [===============>..............] - ETA: 0s - loss: 2.0456 - accuracy: 0.2973\n",
            "Epoch 00018: saving model to model/keypoint_classifier\\keypoint_classifier.hdf5\n",
            "93/93 [==============================] - 0s 1ms/step - loss: 2.0292 - accuracy: 0.3019 - val_loss: 1.4945 - val_accuracy: 0.5651\n",
            "Epoch 19/1000\n",
            "50/93 [===============>..............] - ETA: 0s - loss: 2.0256 - accuracy: 0.2998\n",
            "Epoch 00019: saving model to model/keypoint_classifier\\keypoint_classifier.hdf5\n",
            "93/93 [==============================] - 0s 1ms/step - loss: 2.0046 - accuracy: 0.3087 - val_loss: 1.4775 - val_accuracy: 0.5431\n",
            "Epoch 20/1000\n",
            "55/93 [================>.............] - ETA: 0s - loss: 2.0084 - accuracy: 0.3126\n",
            "Epoch 00020: saving model to model/keypoint_classifier\\keypoint_classifier.hdf5\n",
            "93/93 [==============================] - 0s 1ms/step - loss: 2.0001 - accuracy: 0.3160 - val_loss: 1.4667 - val_accuracy: 0.5859\n",
            "Epoch 21/1000\n",
            "56/93 [=================>............] - ETA: 0s - loss: 1.9957 - accuracy: 0.3178\n",
            "Epoch 00021: saving model to model/keypoint_classifier\\keypoint_classifier.hdf5\n",
            "93/93 [==============================] - 0s 1ms/step - loss: 1.9939 - accuracy: 0.3167 - val_loss: 1.4685 - val_accuracy: 0.5813\n",
            "Epoch 22/1000\n",
            "55/93 [================>.............] - ETA: 0s - loss: 1.9944 - accuracy: 0.3131\n",
            "Epoch 00022: saving model to model/keypoint_classifier\\keypoint_classifier.hdf5\n",
            "93/93 [==============================] - 0s 1ms/step - loss: 1.9916 - accuracy: 0.3147 - val_loss: 1.4633 - val_accuracy: 0.5861\n",
            "Epoch 23/1000\n",
            "56/93 [=================>............] - ETA: 0s - loss: 1.9985 - accuracy: 0.3179\n",
            "Epoch 00023: saving model to model/keypoint_classifier\\keypoint_classifier.hdf5\n",
            "93/93 [==============================] - 0s 1ms/step - loss: 1.9851 - accuracy: 0.3179 - val_loss: 1.4438 - val_accuracy: 0.5930\n",
            "Epoch 24/1000\n",
            "55/93 [================>.............] - ETA: 0s - loss: 1.9834 - accuracy: 0.3223\n",
            "Epoch 00024: saving model to model/keypoint_classifier\\keypoint_classifier.hdf5\n",
            "93/93 [==============================] - 0s 1ms/step - loss: 1.9769 - accuracy: 0.3237 - val_loss: 1.4417 - val_accuracy: 0.5963\n",
            "Epoch 25/1000\n",
            "54/93 [================>.............] - ETA: 0s - loss: 1.9493 - accuracy: 0.3239\n",
            "Epoch 00025: saving model to model/keypoint_classifier\\keypoint_classifier.hdf5\n",
            "93/93 [==============================] - 0s 1ms/step - loss: 1.9561 - accuracy: 0.3226 - val_loss: 1.4284 - val_accuracy: 0.5952\n",
            "Epoch 26/1000\n",
            "54/93 [================>.............] - ETA: 0s - loss: 1.9594 - accuracy: 0.3231\n",
            "Epoch 00026: saving model to model/keypoint_classifier\\keypoint_classifier.hdf5\n",
            "93/93 [==============================] - 0s 1ms/step - loss: 1.9609 - accuracy: 0.3247 - val_loss: 1.4226 - val_accuracy: 0.6003\n",
            "Epoch 27/1000\n",
            "53/93 [================>.............] - ETA: 0s - loss: 1.9574 - accuracy: 0.3215\n",
            "Epoch 00027: saving model to model/keypoint_classifier\\keypoint_classifier.hdf5\n",
            "93/93 [==============================] - 0s 1ms/step - loss: 1.9539 - accuracy: 0.3173 - val_loss: 1.4033 - val_accuracy: 0.6059\n",
            "Epoch 28/1000\n",
            "56/93 [=================>............] - ETA: 0s - loss: 1.9512 - accuracy: 0.3221\n",
            "Epoch 00028: saving model to model/keypoint_classifier\\keypoint_classifier.hdf5\n",
            "93/93 [==============================] - 0s 1ms/step - loss: 1.9496 - accuracy: 0.3215 - val_loss: 1.4078 - val_accuracy: 0.6076\n",
            "Epoch 29/1000\n",
            "54/93 [================>.............] - ETA: 0s - loss: 1.9350 - accuracy: 0.3238\n",
            "Epoch 00029: saving model to model/keypoint_classifier\\keypoint_classifier.hdf5\n",
            "93/93 [==============================] - 0s 1ms/step - loss: 1.9370 - accuracy: 0.3306 - val_loss: 1.3963 - val_accuracy: 0.6026\n",
            "Epoch 30/1000\n",
            "51/93 [===============>..............] - ETA: 0s - loss: 1.9464 - accuracy: 0.3277\n",
            "Epoch 00030: saving model to model/keypoint_classifier\\keypoint_classifier.hdf5\n",
            "93/93 [==============================] - 0s 1ms/step - loss: 1.9315 - accuracy: 0.3336 - val_loss: 1.3828 - val_accuracy: 0.6175\n",
            "Epoch 31/1000\n",
            "43/93 [============>.................] - ETA: 0s - loss: 1.9136 - accuracy: 0.3432\n",
            "Epoch 00031: saving model to model/keypoint_classifier\\keypoint_classifier.hdf5\n",
            "93/93 [==============================] - 0s 1ms/step - loss: 1.9185 - accuracy: 0.3348 - val_loss: 1.3778 - val_accuracy: 0.6287\n",
            "Epoch 32/1000\n",
            "54/93 [================>.............] - ETA: 0s - loss: 1.9207 - accuracy: 0.3372\n",
            "Epoch 00032: saving model to model/keypoint_classifier\\keypoint_classifier.hdf5\n",
            "93/93 [==============================] - 0s 1ms/step - loss: 1.9249 - accuracy: 0.3328 - val_loss: 1.3673 - val_accuracy: 0.6264\n",
            "Epoch 33/1000\n",
            "54/93 [================>.............] - ETA: 0s - loss: 1.9161 - accuracy: 0.3383\n",
            "Epoch 00033: saving model to model/keypoint_classifier\\keypoint_classifier.hdf5\n",
            "93/93 [==============================] - 0s 1ms/step - loss: 1.9218 - accuracy: 0.3368 - val_loss: 1.3631 - val_accuracy: 0.6163\n",
            "Epoch 34/1000\n",
            "56/93 [=================>............] - ETA: 0s - loss: 1.9181 - accuracy: 0.3237\n",
            "Epoch 00034: saving model to model/keypoint_classifier\\keypoint_classifier.hdf5\n",
            "93/93 [==============================] - 0s 1ms/step - loss: 1.9082 - accuracy: 0.3276 - val_loss: 1.3438 - val_accuracy: 0.6279\n",
            "Epoch 35/1000\n",
            "55/93 [================>.............] - ETA: 0s - loss: 1.9254 - accuracy: 0.3308\n",
            "Epoch 00035: saving model to model/keypoint_classifier\\keypoint_classifier.hdf5\n",
            "93/93 [==============================] - 0s 1ms/step - loss: 1.9124 - accuracy: 0.3363 - val_loss: 1.3548 - val_accuracy: 0.6079\n",
            "Epoch 36/1000\n",
            "54/93 [================>.............] - ETA: 0s - loss: 1.8857 - accuracy: 0.3449\n",
            "Epoch 00036: saving model to model/keypoint_classifier\\keypoint_classifier.hdf5\n",
            "93/93 [==============================] - 0s 1ms/step - loss: 1.8850 - accuracy: 0.3419 - val_loss: 1.3320 - val_accuracy: 0.6315\n",
            "Epoch 37/1000\n",
            "56/93 [=================>............] - ETA: 0s - loss: 1.8930 - accuracy: 0.3436\n",
            "Epoch 00037: saving model to model/keypoint_classifier\\keypoint_classifier.hdf5\n",
            "93/93 [==============================] - 0s 1ms/step - loss: 1.8943 - accuracy: 0.3426 - val_loss: 1.3338 - val_accuracy: 0.6467\n",
            "Epoch 38/1000\n",
            "56/93 [=================>............] - ETA: 0s - loss: 1.8909 - accuracy: 0.3417\n",
            "Epoch 00038: saving model to model/keypoint_classifier\\keypoint_classifier.hdf5\n",
            "93/93 [==============================] - 0s 1ms/step - loss: 1.8785 - accuracy: 0.3432 - val_loss: 1.3284 - val_accuracy: 0.6418\n",
            "Epoch 39/1000\n",
            "54/93 [================>.............] - ETA: 0s - loss: 1.8735 - accuracy: 0.3409\n",
            "Epoch 00039: saving model to model/keypoint_classifier\\keypoint_classifier.hdf5\n",
            "93/93 [==============================] - 0s 1ms/step - loss: 1.8670 - accuracy: 0.3448 - val_loss: 1.3090 - val_accuracy: 0.6335\n",
            "Epoch 40/1000\n",
            "54/93 [================>.............] - ETA: 0s - loss: 1.8614 - accuracy: 0.3461\n",
            "Epoch 00040: saving model to model/keypoint_classifier\\keypoint_classifier.hdf5\n",
            "93/93 [==============================] - 0s 1ms/step - loss: 1.8642 - accuracy: 0.3529 - val_loss: 1.2996 - val_accuracy: 0.6715\n",
            "Epoch 41/1000\n",
            "54/93 [================>.............] - ETA: 0s - loss: 1.8362 - accuracy: 0.3572\n",
            "Epoch 00041: saving model to model/keypoint_classifier\\keypoint_classifier.hdf5\n",
            "93/93 [==============================] - 0s 1ms/step - loss: 1.8537 - accuracy: 0.3507 - val_loss: 1.3176 - val_accuracy: 0.6543\n",
            "Epoch 42/1000\n",
            "56/93 [=================>............] - ETA: 0s - loss: 1.8361 - accuracy: 0.3564\n",
            "Epoch 00042: saving model to model/keypoint_classifier\\keypoint_classifier.hdf5\n",
            "93/93 [==============================] - 0s 1ms/step - loss: 1.8377 - accuracy: 0.3564 - val_loss: 1.2957 - val_accuracy: 0.6401\n",
            "Epoch 43/1000\n",
            "57/93 [=================>............] - ETA: 0s - loss: 1.8831 - accuracy: 0.3424\n",
            "Epoch 00043: saving model to model/keypoint_classifier\\keypoint_classifier.hdf5\n",
            "93/93 [==============================] - 0s 1ms/step - loss: 1.8710 - accuracy: 0.3474 - val_loss: 1.2958 - val_accuracy: 0.6497\n",
            "Epoch 44/1000\n",
            "55/93 [================>.............] - ETA: 0s - loss: 1.8355 - accuracy: 0.3578\n",
            "Epoch 00044: saving model to model/keypoint_classifier\\keypoint_classifier.hdf5\n",
            "93/93 [==============================] - 0s 1ms/step - loss: 1.8467 - accuracy: 0.3580 - val_loss: 1.2922 - val_accuracy: 0.6619\n",
            "Epoch 45/1000\n",
            "57/93 [=================>............] - ETA: 0s - loss: 1.8408 - accuracy: 0.3572\n",
            "Epoch 00045: saving model to model/keypoint_classifier\\keypoint_classifier.hdf5\n",
            "93/93 [==============================] - 0s 1ms/step - loss: 1.8390 - accuracy: 0.3555 - val_loss: 1.2725 - val_accuracy: 0.6619\n",
            "Epoch 46/1000\n",
            "56/93 [=================>............] - ETA: 0s - loss: 1.8201 - accuracy: 0.3670\n",
            "Epoch 00046: saving model to model/keypoint_classifier\\keypoint_classifier.hdf5\n",
            "93/93 [==============================] - 0s 1ms/step - loss: 1.8204 - accuracy: 0.3639 - val_loss: 1.2761 - val_accuracy: 0.6750\n",
            "Epoch 47/1000\n",
            "56/93 [=================>............] - ETA: 0s - loss: 1.8258 - accuracy: 0.3595\n",
            "Epoch 00047: saving model to model/keypoint_classifier\\keypoint_classifier.hdf5\n",
            "93/93 [==============================] - 0s 1ms/step - loss: 1.8336 - accuracy: 0.3587 - val_loss: 1.2615 - val_accuracy: 0.6679\n",
            "Epoch 48/1000\n",
            "57/93 [=================>............] - ETA: 0s - loss: 1.8115 - accuracy: 0.3616\n",
            "Epoch 00048: saving model to model/keypoint_classifier\\keypoint_classifier.hdf5\n",
            "93/93 [==============================] - 0s 1ms/step - loss: 1.8149 - accuracy: 0.3629 - val_loss: 1.2550 - val_accuracy: 0.6814\n",
            "Epoch 49/1000\n",
            "55/93 [================>.............] - ETA: 0s - loss: 1.7885 - accuracy: 0.3760\n",
            "Epoch 00049: saving model to model/keypoint_classifier\\keypoint_classifier.hdf5\n",
            "93/93 [==============================] - 0s 1ms/step - loss: 1.7915 - accuracy: 0.3705 - val_loss: 1.2379 - val_accuracy: 0.6839\n",
            "Epoch 50/1000\n",
            "56/93 [=================>............] - ETA: 0s - loss: 1.8363 - accuracy: 0.3650\n",
            "Epoch 00050: saving model to model/keypoint_classifier\\keypoint_classifier.hdf5\n",
            "93/93 [==============================] - 0s 1ms/step - loss: 1.8277 - accuracy: 0.3631 - val_loss: 1.2350 - val_accuracy: 0.6717\n",
            "Epoch 51/1000\n",
            "59/93 [==================>...........] - ETA: 0s - loss: 1.8227 - accuracy: 0.3586\n",
            "Epoch 00051: saving model to model/keypoint_classifier\\keypoint_classifier.hdf5\n",
            "93/93 [==============================] - 0s 1ms/step - loss: 1.8138 - accuracy: 0.3593 - val_loss: 1.2367 - val_accuracy: 0.6976\n",
            "Epoch 52/1000\n",
            "55/93 [================>.............] - ETA: 0s - loss: 1.7956 - accuracy: 0.3638\n",
            "Epoch 00052: saving model to model/keypoint_classifier\\keypoint_classifier.hdf5\n",
            "93/93 [==============================] - 0s 1ms/step - loss: 1.7895 - accuracy: 0.3673 - val_loss: 1.2267 - val_accuracy: 0.6771\n",
            "Epoch 53/1000\n",
            "57/93 [=================>............] - ETA: 0s - loss: 1.7990 - accuracy: 0.3718\n",
            "Epoch 00053: saving model to model/keypoint_classifier\\keypoint_classifier.hdf5\n",
            "93/93 [==============================] - 0s 1ms/step - loss: 1.7972 - accuracy: 0.3723 - val_loss: 1.2330 - val_accuracy: 0.6796\n",
            "Epoch 54/1000\n",
            "55/93 [================>.............] - ETA: 0s - loss: 1.7846 - accuracy: 0.3740\n",
            "Epoch 00054: saving model to model/keypoint_classifier\\keypoint_classifier.hdf5\n",
            "93/93 [==============================] - 0s 1ms/step - loss: 1.7846 - accuracy: 0.3728 - val_loss: 1.2098 - val_accuracy: 0.6801\n",
            "Epoch 55/1000\n",
            "55/93 [================>.............] - ETA: 0s - loss: 1.7276 - accuracy: 0.41 - ETA: 0s - loss: 1.7826 - accuracy: 0.3730\n",
            "Epoch 00055: saving model to model/keypoint_classifier\\keypoint_classifier.hdf5\n",
            "93/93 [==============================] - 0s 1ms/step - loss: 1.7870 - accuracy: 0.3728 - val_loss: 1.2326 - val_accuracy: 0.7047\n",
            "Epoch 56/1000\n",
            "55/93 [================>.............] - ETA: 0s - loss: 1.7792 - accuracy: 0.3656\n",
            "Epoch 00056: saving model to model/keypoint_classifier\\keypoint_classifier.hdf5\n",
            "93/93 [==============================] - 0s 1ms/step - loss: 1.7833 - accuracy: 0.3675 - val_loss: 1.2180 - val_accuracy: 0.6695\n",
            "Epoch 57/1000\n",
            "43/93 [============>.................] - ETA: 0s - loss: 1.7542 - accuracy: 0.3803\n",
            "Epoch 00057: saving model to model/keypoint_classifier\\keypoint_classifier.hdf5\n",
            "93/93 [==============================] - 0s 1ms/step - loss: 1.7556 - accuracy: 0.3804 - val_loss: 1.2007 - val_accuracy: 0.6672\n",
            "Epoch 58/1000\n",
            "55/93 [================>.............] - ETA: 0s - loss: 1.7732 - accuracy: 0.3807\n",
            "Epoch 00058: saving model to model/keypoint_classifier\\keypoint_classifier.hdf5\n",
            "93/93 [==============================] - 0s 1ms/step - loss: 1.7631 - accuracy: 0.3838 - val_loss: 1.1900 - val_accuracy: 0.6993\n",
            "Epoch 59/1000\n",
            "56/93 [=================>............] - ETA: 0s - loss: 1.7530 - accuracy: 0.3852\n",
            "Epoch 00059: saving model to model/keypoint_classifier\\keypoint_classifier.hdf5\n",
            "93/93 [==============================] - 0s 1ms/step - loss: 1.7502 - accuracy: 0.3875 - val_loss: 1.1857 - val_accuracy: 0.7275\n",
            "Epoch 60/1000\n",
            "55/93 [================>.............] - ETA: 0s - loss: 1.7585 - accuracy: 0.3872\n",
            "Epoch 00060: saving model to model/keypoint_classifier\\keypoint_classifier.hdf5\n",
            "93/93 [==============================] - 0s 1ms/step - loss: 1.7516 - accuracy: 0.3897 - val_loss: 1.1734 - val_accuracy: 0.6907\n",
            "Epoch 61/1000\n",
            "56/93 [=================>............] - ETA: 0s - loss: 1.7214 - accuracy: 0.3951\n",
            "Epoch 00061: saving model to model/keypoint_classifier\\keypoint_classifier.hdf5\n",
            "93/93 [==============================] - 0s 1ms/step - loss: 1.7289 - accuracy: 0.3904 - val_loss: 1.1690 - val_accuracy: 0.7216\n",
            "Epoch 62/1000\n",
            "55/93 [================>.............] - ETA: 0s - loss: 1.7282 - accuracy: 0.3899\n",
            "Epoch 00062: saving model to model/keypoint_classifier\\keypoint_classifier.hdf5\n",
            "93/93 [==============================] - 0s 1ms/step - loss: 1.7241 - accuracy: 0.3891 - val_loss: 1.1551 - val_accuracy: 0.6920\n",
            "Epoch 63/1000\n",
            "55/93 [================>.............] - ETA: 0s - loss: 1.7384 - accuracy: 0.3831\n",
            "Epoch 00063: saving model to model/keypoint_classifier\\keypoint_classifier.hdf5\n",
            "93/93 [==============================] - 0s 1ms/step - loss: 1.7386 - accuracy: 0.3832 - val_loss: 1.1622 - val_accuracy: 0.7338\n",
            "Epoch 64/1000\n",
            "55/93 [================>.............] - ETA: 0s - loss: 1.7239 - accuracy: 0.3990\n",
            "Epoch 00064: saving model to model/keypoint_classifier\\keypoint_classifier.hdf5\n",
            "93/93 [==============================] - 0s 1ms/step - loss: 1.7257 - accuracy: 0.3943 - val_loss: 1.1668 - val_accuracy: 0.7211\n",
            "Epoch 65/1000\n",
            "55/93 [================>.............] - ETA: 0s - loss: 1.7244 - accuracy: 0.3970\n",
            "Epoch 00065: saving model to model/keypoint_classifier\\keypoint_classifier.hdf5\n",
            "93/93 [==============================] - 0s 1ms/step - loss: 1.7243 - accuracy: 0.3943 - val_loss: 1.1485 - val_accuracy: 0.7351\n",
            "Epoch 66/1000\n",
            "56/93 [=================>............] - ETA: 0s - loss: 1.7149 - accuracy: 0.3956\n",
            "Epoch 00066: saving model to model/keypoint_classifier\\keypoint_classifier.hdf5\n",
            "93/93 [==============================] - 0s 1ms/step - loss: 1.7142 - accuracy: 0.3969 - val_loss: 1.1399 - val_accuracy: 0.7214\n",
            "Epoch 67/1000\n",
            "56/93 [=================>............] - ETA: 0s - loss: 1.7116 - accuracy: 0.3983\n",
            "Epoch 00067: saving model to model/keypoint_classifier\\keypoint_classifier.hdf5\n",
            "93/93 [==============================] - 0s 1ms/step - loss: 1.6973 - accuracy: 0.4013 - val_loss: 1.1343 - val_accuracy: 0.7239\n",
            "Epoch 68/1000\n",
            "55/93 [================>.............] - ETA: 0s - loss: 1.6878 - accuracy: 0.4044\n",
            "Epoch 00068: saving model to model/keypoint_classifier\\keypoint_classifier.hdf5\n",
            "93/93 [==============================] - 0s 1ms/step - loss: 1.6986 - accuracy: 0.4032 - val_loss: 1.1362 - val_accuracy: 0.7270\n",
            "Epoch 69/1000\n",
            "56/93 [=================>............] - ETA: 0s - loss: 1.7048 - accuracy: 0.4047\n",
            "Epoch 00069: saving model to model/keypoint_classifier\\keypoint_classifier.hdf5\n",
            "93/93 [==============================] - 0s 1ms/step - loss: 1.6970 - accuracy: 0.4046 - val_loss: 1.1277 - val_accuracy: 0.7072\n",
            "Epoch 70/1000\n",
            "56/93 [=================>............] - ETA: 0s - loss: 1.6708 - accuracy: 0.4131\n",
            "Epoch 00070: saving model to model/keypoint_classifier\\keypoint_classifier.hdf5\n",
            "93/93 [==============================] - 0s 1ms/step - loss: 1.6773 - accuracy: 0.4080 - val_loss: 1.1233 - val_accuracy: 0.7092\n",
            "Epoch 71/1000\n",
            "57/93 [=================>............] - ETA: 0s - loss: 1.7180 - accuracy: 0.3868\n",
            "Epoch 00071: saving model to model/keypoint_classifier\\keypoint_classifier.hdf5\n",
            "93/93 [==============================] - 0s 1ms/step - loss: 1.7114 - accuracy: 0.3968 - val_loss: 1.1374 - val_accuracy: 0.7381\n",
            "Epoch 72/1000\n",
            "57/93 [=================>............] - ETA: 0s - loss: 1.6878 - accuracy: 0.4076\n",
            "Epoch 00072: saving model to model/keypoint_classifier\\keypoint_classifier.hdf5\n",
            "93/93 [==============================] - 0s 1ms/step - loss: 1.6884 - accuracy: 0.4053 - val_loss: 1.1190 - val_accuracy: 0.7358\n",
            "Epoch 73/1000\n",
            "56/93 [=================>............] - ETA: 0s - loss: 1.6857 - accuracy: 0.4191\n",
            "Epoch 00073: saving model to model/keypoint_classifier\\keypoint_classifier.hdf5\n",
            "93/93 [==============================] - 0s 1ms/step - loss: 1.6880 - accuracy: 0.4150 - val_loss: 1.1137 - val_accuracy: 0.7591\n",
            "Epoch 74/1000\n",
            "55/93 [================>.............] - ETA: 0s - loss: 1.6867 - accuracy: 0.4036\n",
            "Epoch 00074: saving model to model/keypoint_classifier\\keypoint_classifier.hdf5\n",
            "93/93 [==============================] - 0s 1ms/step - loss: 1.6793 - accuracy: 0.4074 - val_loss: 1.1062 - val_accuracy: 0.7434\n",
            "Epoch 75/1000\n",
            "56/93 [=================>............] - ETA: 0s - loss: 1.6672 - accuracy: 0.4109\n",
            "Epoch 00075: saving model to model/keypoint_classifier\\keypoint_classifier.hdf5\n",
            "93/93 [==============================] - 0s 1ms/step - loss: 1.6762 - accuracy: 0.4138 - val_loss: 1.1036 - val_accuracy: 0.7019\n",
            "Epoch 76/1000\n",
            "56/93 [=================>............] - ETA: 0s - loss: 1.6614 - accuracy: 0.4152\n",
            "Epoch 00076: saving model to model/keypoint_classifier\\keypoint_classifier.hdf5\n",
            "93/93 [==============================] - 0s 1ms/step - loss: 1.6619 - accuracy: 0.4150 - val_loss: 1.1001 - val_accuracy: 0.7434\n",
            "Epoch 77/1000\n",
            "82/93 [=========================>....] - ETA: 0s - loss: 1.6740 - accuracy: 0.4094\n",
            "Epoch 00077: saving model to model/keypoint_classifier\\keypoint_classifier.hdf5\n",
            "93/93 [==============================] - 0s 2ms/step - loss: 1.6729 - accuracy: 0.4104 - val_loss: 1.1067 - val_accuracy: 0.7419\n",
            "Epoch 78/1000\n",
            "89/93 [===========================>..] - ETA: 0s - loss: 1.6529 - accuracy: 0.4144\n",
            "Epoch 00078: saving model to model/keypoint_classifier\\keypoint_classifier.hdf5\n",
            "93/93 [==============================] - 0s 2ms/step - loss: 1.6551 - accuracy: 0.4130 - val_loss: 1.0822 - val_accuracy: 0.7601\n",
            "Epoch 79/1000\n",
            "57/93 [=================>............] - ETA: 0s - loss: 1.6512 - accuracy: 0.4202\n",
            "Epoch 00079: saving model to model/keypoint_classifier\\keypoint_classifier.hdf5\n",
            "93/93 [==============================] - 0s 1ms/step - loss: 1.6614 - accuracy: 0.4178 - val_loss: 1.0952 - val_accuracy: 0.7432\n",
            "Epoch 80/1000\n",
            "57/93 [=================>............] - ETA: 0s - loss: 1.6852 - accuracy: 0.4043\n",
            "Epoch 00080: saving model to model/keypoint_classifier\\keypoint_classifier.hdf5\n",
            "93/93 [==============================] - 0s 1ms/step - loss: 1.6711 - accuracy: 0.4132 - val_loss: 1.0976 - val_accuracy: 0.7285\n",
            "Epoch 81/1000\n",
            "57/93 [=================>............] - ETA: 0s - loss: 1.6393 - accuracy: 0.4193\n",
            "Epoch 00081: saving model to model/keypoint_classifier\\keypoint_classifier.hdf5\n",
            "93/93 [==============================] - 0s 1ms/step - loss: 1.6354 - accuracy: 0.4240 - val_loss: 1.0864 - val_accuracy: 0.7444\n",
            "Epoch 82/1000\n",
            "48/93 [==============>...............] - ETA: 0s - loss: 1.6469 - accuracy: 0.4217\n",
            "Epoch 00082: saving model to model/keypoint_classifier\\keypoint_classifier.hdf5\n",
            "93/93 [==============================] - 0s 2ms/step - loss: 1.6455 - accuracy: 0.4245 - val_loss: 1.0738 - val_accuracy: 0.7528\n",
            "Epoch 83/1000\n",
            "83/93 [=========================>....] - ETA: 0s - loss: 1.6473 - accuracy: 0.4179\n",
            "Epoch 00083: saving model to model/keypoint_classifier\\keypoint_classifier.hdf5\n",
            "93/93 [==============================] - 0s 2ms/step - loss: 1.6454 - accuracy: 0.4184 - val_loss: 1.0844 - val_accuracy: 0.7510\n",
            "Epoch 84/1000\n",
            "58/93 [=================>............] - ETA: 0s - loss: 1.6348 - accuracy: 0.4306\n",
            "Epoch 00084: saving model to model/keypoint_classifier\\keypoint_classifier.hdf5\n",
            "93/93 [==============================] - 0s 1ms/step - loss: 1.6309 - accuracy: 0.4297 - val_loss: 1.0712 - val_accuracy: 0.7330\n",
            "Epoch 85/1000\n",
            "56/93 [=================>............] - ETA: 0s - loss: 1.6456 - accuracy: 0.4182\n",
            "Epoch 00085: saving model to model/keypoint_classifier\\keypoint_classifier.hdf5\n",
            "93/93 [==============================] - 0s 1ms/step - loss: 1.6371 - accuracy: 0.4215 - val_loss: 1.0801 - val_accuracy: 0.7368\n",
            "Epoch 86/1000\n",
            "57/93 [=================>............] - ETA: 0s - loss: 1.6390 - accuracy: 0.4235\n",
            "Epoch 00086: saving model to model/keypoint_classifier\\keypoint_classifier.hdf5\n",
            "93/93 [==============================] - 0s 1ms/step - loss: 1.6298 - accuracy: 0.4310 - val_loss: 1.0674 - val_accuracy: 0.7343\n",
            "Epoch 87/1000\n",
            "57/93 [=================>............] - ETA: 0s - loss: 1.6476 - accuracy: 0.4267\n",
            "Epoch 00087: saving model to model/keypoint_classifier\\keypoint_classifier.hdf5\n",
            "93/93 [==============================] - 0s 1ms/step - loss: 1.6370 - accuracy: 0.4275 - val_loss: 1.0611 - val_accuracy: 0.7551\n",
            "Epoch 88/1000\n",
            "57/93 [=================>............] - ETA: 0s - loss: 1.6301 - accuracy: 0.4261\n",
            "Epoch 00088: saving model to model/keypoint_classifier\\keypoint_classifier.hdf5\n",
            "93/93 [==============================] - 0s 1ms/step - loss: 1.6267 - accuracy: 0.4270 - val_loss: 1.0763 - val_accuracy: 0.7406\n",
            "Epoch 89/1000\n",
            "86/93 [==========================>...] - ETA: 0s - loss: 1.6267 - accuracy: 0.4348\n",
            "Epoch 00089: saving model to model/keypoint_classifier\\keypoint_classifier.hdf5\n",
            "93/93 [==============================] - 0s 2ms/step - loss: 1.6275 - accuracy: 0.4330 - val_loss: 1.0631 - val_accuracy: 0.7419\n",
            "Epoch 90/1000\n",
            "57/93 [=================>............] - ETA: 0s - loss: 1.6323 - accuracy: 0.4250\n",
            "Epoch 00090: saving model to model/keypoint_classifier\\keypoint_classifier.hdf5\n",
            "93/93 [==============================] - 0s 1ms/step - loss: 1.6281 - accuracy: 0.4293 - val_loss: 1.0620 - val_accuracy: 0.7606\n",
            "Epoch 91/1000\n",
            "58/93 [=================>............] - ETA: 0s - loss: 1.5989 - accuracy: 0.4418\n",
            "Epoch 00091: saving model to model/keypoint_classifier\\keypoint_classifier.hdf5\n",
            "93/93 [==============================] - 0s 1ms/step - loss: 1.6038 - accuracy: 0.4374 - val_loss: 1.0686 - val_accuracy: 0.7510\n",
            "Epoch 92/1000\n",
            "58/93 [=================>............] - ETA: 0s - loss: 1.6226 - accuracy: 0.4289\n",
            "Epoch 00092: saving model to model/keypoint_classifier\\keypoint_classifier.hdf5\n",
            "93/93 [==============================] - 0s 1ms/step - loss: 1.6128 - accuracy: 0.4309 - val_loss: 1.0720 - val_accuracy: 0.7444\n",
            "Epoch 93/1000\n",
            "55/93 [================>.............] - ETA: 0s - loss: 1.6312 - accuracy: 0.4257\n",
            "Epoch 00093: saving model to model/keypoint_classifier\\keypoint_classifier.hdf5\n",
            "93/93 [==============================] - 0s 1ms/step - loss: 1.6230 - accuracy: 0.4286 - val_loss: 1.0616 - val_accuracy: 0.7249\n",
            "Epoch 94/1000\n",
            "55/93 [================>.............] - ETA: 0s - loss: 1.6156 - accuracy: 0.4322\n",
            "Epoch 00094: saving model to model/keypoint_classifier\\keypoint_classifier.hdf5\n",
            "93/93 [==============================] - 0s 1ms/step - loss: 1.6069 - accuracy: 0.4360 - val_loss: 1.0625 - val_accuracy: 0.7401\n",
            "Epoch 95/1000\n",
            "57/93 [=================>............] - ETA: 0s - loss: 1.5951 - accuracy: 0.4396\n",
            "Epoch 00095: saving model to model/keypoint_classifier\\keypoint_classifier.hdf5\n",
            "93/93 [==============================] - 0s 1ms/step - loss: 1.5840 - accuracy: 0.4460 - val_loss: 1.0538 - val_accuracy: 0.7358\n",
            "Epoch 96/1000\n",
            "58/93 [=================>............] - ETA: 0s - loss: 1.6077 - accuracy: 0.4380\n",
            "Epoch 00096: saving model to model/keypoint_classifier\\keypoint_classifier.hdf5\n",
            "93/93 [==============================] - 0s 1ms/step - loss: 1.6038 - accuracy: 0.4357 - val_loss: 1.0570 - val_accuracy: 0.7475\n",
            "Epoch 97/1000\n",
            "45/93 [=============>................] - ETA: 0s - loss: 1.5937 - accuracy: 0.4437\n",
            "Epoch 00097: saving model to model/keypoint_classifier\\keypoint_classifier.hdf5\n",
            "93/93 [==============================] - 0s 1ms/step - loss: 1.6013 - accuracy: 0.4368 - val_loss: 1.0301 - val_accuracy: 0.7579\n",
            "Epoch 98/1000\n",
            "58/93 [=================>............] - ETA: 0s - loss: 1.5563 - accuracy: 0.4494\n",
            "Epoch 00098: saving model to model/keypoint_classifier\\keypoint_classifier.hdf5\n",
            "93/93 [==============================] - 0s 1ms/step - loss: 1.5846 - accuracy: 0.4425 - val_loss: 1.0519 - val_accuracy: 0.7546\n",
            "Epoch 99/1000\n",
            "57/93 [=================>............] - ETA: 0s - loss: 1.5883 - accuracy: 0.4383\n",
            "Epoch 00099: saving model to model/keypoint_classifier\\keypoint_classifier.hdf5\n",
            "93/93 [==============================] - 0s 1ms/step - loss: 1.5816 - accuracy: 0.4400 - val_loss: 1.0420 - val_accuracy: 0.7188\n",
            "Epoch 100/1000\n",
            "58/93 [=================>............] - ETA: 0s - loss: 1.6041 - accuracy: 0.4294\n",
            "Epoch 00100: saving model to model/keypoint_classifier\\keypoint_classifier.hdf5\n",
            "93/93 [==============================] - 0s 1ms/step - loss: 1.5991 - accuracy: 0.4329 - val_loss: 1.0564 - val_accuracy: 0.7259\n",
            "Epoch 101/1000\n",
            "57/93 [=================>............] - ETA: 0s - loss: 1.5899 - accuracy: 0.4368\n",
            "Epoch 00101: saving model to model/keypoint_classifier\\keypoint_classifier.hdf5\n",
            "93/93 [==============================] - 0s 1ms/step - loss: 1.5802 - accuracy: 0.4441 - val_loss: 1.0439 - val_accuracy: 0.7394\n",
            "Epoch 102/1000\n",
            "55/93 [================>.............] - ETA: 0s - loss: 1.5766 - accuracy: 0.4398\n",
            "Epoch 00102: saving model to model/keypoint_classifier\\keypoint_classifier.hdf5\n",
            "93/93 [==============================] - 0s 1ms/step - loss: 1.5811 - accuracy: 0.4431 - val_loss: 1.0421 - val_accuracy: 0.7546\n",
            "Epoch 103/1000\n",
            "58/93 [=================>............] - ETA: 0s - loss: 1.5775 - accuracy: 0.4421\n",
            "Epoch 00103: saving model to model/keypoint_classifier\\keypoint_classifier.hdf5\n",
            "93/93 [==============================] - 0s 1ms/step - loss: 1.5790 - accuracy: 0.4434 - val_loss: 1.0311 - val_accuracy: 0.7756\n",
            "Epoch 104/1000\n",
            "57/93 [=================>............] - ETA: 0s - loss: 1.5823 - accuracy: 0.4438\n",
            "Epoch 00104: saving model to model/keypoint_classifier\\keypoint_classifier.hdf5\n",
            "93/93 [==============================] - 0s 1ms/step - loss: 1.5776 - accuracy: 0.4444 - val_loss: 1.0434 - val_accuracy: 0.7366\n",
            "Epoch 105/1000\n",
            "58/93 [=================>............] - ETA: 0s - loss: 1.5977 - accuracy: 0.4460\n",
            "Epoch 00105: saving model to model/keypoint_classifier\\keypoint_classifier.hdf5\n",
            "93/93 [==============================] - 0s 1ms/step - loss: 1.5921 - accuracy: 0.4447 - val_loss: 1.0284 - val_accuracy: 0.7465\n",
            "Epoch 106/1000\n",
            "55/93 [================>.............] - ETA: 0s - loss: 1.5584 - accuracy: 0.4493\n",
            "Epoch 00106: saving model to model/keypoint_classifier\\keypoint_classifier.hdf5\n",
            "93/93 [==============================] - 0s 1ms/step - loss: 1.5654 - accuracy: 0.4538 - val_loss: 1.0291 - val_accuracy: 0.7660\n",
            "Epoch 107/1000\n",
            "58/93 [=================>............] - ETA: 0s - loss: 1.5679 - accuracy: 0.4411\n",
            "Epoch 00107: saving model to model/keypoint_classifier\\keypoint_classifier.hdf5\n",
            "93/93 [==============================] - 0s 1ms/step - loss: 1.5739 - accuracy: 0.4457 - val_loss: 1.0368 - val_accuracy: 0.7713\n",
            "Epoch 108/1000\n",
            "56/93 [=================>............] - ETA: 0s - loss: 1.5845 - accuracy: 0.4386\n",
            "Epoch 00108: saving model to model/keypoint_classifier\\keypoint_classifier.hdf5\n",
            "93/93 [==============================] - 0s 1ms/step - loss: 1.5658 - accuracy: 0.4473 - val_loss: 1.0230 - val_accuracy: 0.7695\n",
            "Epoch 109/1000\n",
            "59/93 [==================>...........] - ETA: 0s - loss: 1.5434 - accuracy: 0.4539\n",
            "Epoch 00109: saving model to model/keypoint_classifier\\keypoint_classifier.hdf5\n",
            "93/93 [==============================] - 0s 1ms/step - loss: 1.5462 - accuracy: 0.4546 - val_loss: 1.0167 - val_accuracy: 0.7725\n",
            "Epoch 110/1000\n",
            "57/93 [=================>............] - ETA: 0s - loss: 1.5552 - accuracy: 0.4524\n",
            "Epoch 00110: saving model to model/keypoint_classifier\\keypoint_classifier.hdf5\n",
            "93/93 [==============================] - 0s 1ms/step - loss: 1.5597 - accuracy: 0.4508 - val_loss: 1.0351 - val_accuracy: 0.7196\n",
            "Epoch 111/1000\n",
            "55/93 [================>.............] - ETA: 0s - loss: 1.5388 - accuracy: 0.4605\n",
            "Epoch 00111: saving model to model/keypoint_classifier\\keypoint_classifier.hdf5\n",
            "93/93 [==============================] - 0s 1ms/step - loss: 1.5437 - accuracy: 0.4602 - val_loss: 1.0258 - val_accuracy: 0.7685\n",
            "Epoch 112/1000\n",
            "56/93 [=================>............] - ETA: 0s - loss: 1.5369 - accuracy: 0.4630\n",
            "Epoch 00112: saving model to model/keypoint_classifier\\keypoint_classifier.hdf5\n",
            "93/93 [==============================] - 0s 1ms/step - loss: 1.5377 - accuracy: 0.4601 - val_loss: 1.0278 - val_accuracy: 0.7411\n",
            "Epoch 113/1000\n",
            "56/93 [=================>............] - ETA: 0s - loss: 1.5476 - accuracy: 0.4551\n",
            "Epoch 00113: saving model to model/keypoint_classifier\\keypoint_classifier.hdf5\n",
            "93/93 [==============================] - 0s 1ms/step - loss: 1.5405 - accuracy: 0.4557 - val_loss: 1.0120 - val_accuracy: 0.7644\n",
            "Epoch 114/1000\n",
            "54/93 [================>.............] - ETA: 0s - loss: 1.5351 - accuracy: 0.4579\n",
            "Epoch 00114: saving model to model/keypoint_classifier\\keypoint_classifier.hdf5\n",
            "93/93 [==============================] - 0s 1ms/step - loss: 1.5334 - accuracy: 0.4593 - val_loss: 1.0174 - val_accuracy: 0.7244\n",
            "Epoch 115/1000\n",
            "55/93 [================>.............] - ETA: 0s - loss: 1.5421 - accuracy: 0.4587\n",
            "Epoch 00115: saving model to model/keypoint_classifier\\keypoint_classifier.hdf5\n",
            "93/93 [==============================] - 0s 1ms/step - loss: 1.5367 - accuracy: 0.4626 - val_loss: 1.0283 - val_accuracy: 0.7396\n",
            "Epoch 116/1000\n",
            "57/93 [=================>............] - ETA: 0s - loss: 1.5643 - accuracy: 0.4494\n",
            "Epoch 00116: saving model to model/keypoint_classifier\\keypoint_classifier.hdf5\n",
            "93/93 [==============================] - 0s 1ms/step - loss: 1.5566 - accuracy: 0.4507 - val_loss: 1.0291 - val_accuracy: 0.7140\n",
            "Epoch 117/1000\n",
            "55/93 [================>.............] - ETA: 0s - loss: 1.5257 - accuracy: 0.4626\n",
            "Epoch 00117: saving model to model/keypoint_classifier\\keypoint_classifier.hdf5\n",
            "93/93 [==============================] - 0s 1ms/step - loss: 1.5247 - accuracy: 0.4582 - val_loss: 1.0220 - val_accuracy: 0.7596\n",
            "Epoch 118/1000\n",
            "57/93 [=================>............] - ETA: 0s - loss: 1.5416 - accuracy: 0.4546\n",
            "Epoch 00118: saving model to model/keypoint_classifier\\keypoint_classifier.hdf5\n",
            "93/93 [==============================] - 0s 1ms/step - loss: 1.5296 - accuracy: 0.4604 - val_loss: 1.0310 - val_accuracy: 0.7515\n",
            "Epoch 119/1000\n",
            "57/93 [=================>............] - ETA: 0s - loss: 1.5349 - accuracy: 0.4553\n",
            "Epoch 00119: saving model to model/keypoint_classifier\\keypoint_classifier.hdf5\n",
            "93/93 [==============================] - 0s 1ms/step - loss: 1.5406 - accuracy: 0.4556 - val_loss: 1.0050 - val_accuracy: 0.7746\n",
            "Epoch 120/1000\n",
            "58/93 [=================>............] - ETA: 0s - loss: 1.5022 - accuracy: 0.4698\n",
            "Epoch 00120: saving model to model/keypoint_classifier\\keypoint_classifier.hdf5\n",
            "93/93 [==============================] - 0s 1ms/step - loss: 1.5102 - accuracy: 0.4673 - val_loss: 1.0322 - val_accuracy: 0.7318\n",
            "Epoch 121/1000\n",
            "57/93 [=================>............] - ETA: 0s - loss: 1.5239 - accuracy: 0.4650\n",
            "Epoch 00121: saving model to model/keypoint_classifier\\keypoint_classifier.hdf5\n",
            "93/93 [==============================] - 0s 1ms/step - loss: 1.5211 - accuracy: 0.4638 - val_loss: 1.0189 - val_accuracy: 0.7465\n",
            "Epoch 122/1000\n",
            "56/93 [=================>............] - ETA: 0s - loss: 1.5235 - accuracy: 0.4579\n",
            "Epoch 00122: saving model to model/keypoint_classifier\\keypoint_classifier.hdf5\n",
            "93/93 [==============================] - 0s 1ms/step - loss: 1.5139 - accuracy: 0.4602 - val_loss: 1.0190 - val_accuracy: 0.7462\n",
            "Epoch 123/1000\n",
            "54/93 [================>.............] - ETA: 0s - loss: 1.5357 - accuracy: 0.4588\n",
            "Epoch 00123: saving model to model/keypoint_classifier\\keypoint_classifier.hdf5\n",
            "93/93 [==============================] - 0s 1ms/step - loss: 1.5325 - accuracy: 0.4574 - val_loss: 1.0301 - val_accuracy: 0.7566\n",
            "Epoch 124/1000\n",
            "55/93 [================>.............] - ETA: 0s - loss: 1.5223 - accuracy: 0.4598\n",
            "Epoch 00124: saving model to model/keypoint_classifier\\keypoint_classifier.hdf5\n",
            "93/93 [==============================] - 0s 1ms/step - loss: 1.5238 - accuracy: 0.4620 - val_loss: 1.0174 - val_accuracy: 0.7538\n",
            "Epoch 125/1000\n",
            "52/93 [===============>..............] - ETA: 0s - loss: 1.5231 - accuracy: 0.4590\n",
            "Epoch 00125: saving model to model/keypoint_classifier\\keypoint_classifier.hdf5\n",
            "93/93 [==============================] - 0s 1ms/step - loss: 1.5204 - accuracy: 0.4595 - val_loss: 1.0191 - val_accuracy: 0.7753\n",
            "Epoch 126/1000\n",
            "54/93 [================>.............] - ETA: 0s - loss: 1.5420 - accuracy: 0.4553\n",
            "Epoch 00126: saving model to model/keypoint_classifier\\keypoint_classifier.hdf5\n",
            "93/93 [==============================] - 0s 1ms/step - loss: 1.5384 - accuracy: 0.4571 - val_loss: 1.0248 - val_accuracy: 0.7599\n",
            "Epoch 127/1000\n",
            "90/93 [============================>.] - ETA: 0s - loss: 1.5066 - accuracy: 0.4617\n",
            "Epoch 00127: saving model to model/keypoint_classifier\\keypoint_classifier.hdf5\n",
            "93/93 [==============================] - 0s 2ms/step - loss: 1.5105 - accuracy: 0.4620 - val_loss: 1.0186 - val_accuracy: 0.7629\n",
            "Epoch 128/1000\n",
            "54/93 [================>.............] - ETA: 0s - loss: 1.5022 - accuracy: 0.4667\n",
            "Epoch 00128: saving model to model/keypoint_classifier\\keypoint_classifier.hdf5\n",
            "93/93 [==============================] - 0s 1ms/step - loss: 1.5091 - accuracy: 0.4665 - val_loss: 1.0132 - val_accuracy: 0.7703\n",
            "Epoch 129/1000\n",
            "56/93 [=================>............] - ETA: 0s - loss: 1.5246 - accuracy: 0.4506\n",
            "Epoch 00129: saving model to model/keypoint_classifier\\keypoint_classifier.hdf5\n",
            "93/93 [==============================] - 0s 1ms/step - loss: 1.5180 - accuracy: 0.4571 - val_loss: 1.0343 - val_accuracy: 0.7611\n",
            "Epoch 130/1000\n",
            "51/93 [===============>..............] - ETA: 0s - loss: 1.4981 - accuracy: 0.4651\n",
            "Epoch 00130: saving model to model/keypoint_classifier\\keypoint_classifier.hdf5\n",
            "93/93 [==============================] - 0s 1ms/step - loss: 1.5003 - accuracy: 0.4694 - val_loss: 1.0111 - val_accuracy: 0.7462\n",
            "Epoch 131/1000\n",
            "55/93 [================>.............] - ETA: 0s - loss: 1.5084 - accuracy: 0.4719\n",
            "Epoch 00131: saving model to model/keypoint_classifier\\keypoint_classifier.hdf5\n",
            "93/93 [==============================] - 0s 1ms/step - loss: 1.5015 - accuracy: 0.4721 - val_loss: 1.0232 - val_accuracy: 0.7730\n",
            "Epoch 132/1000\n",
            "57/93 [=================>............] - ETA: 0s - loss: 1.5233 - accuracy: 0.4587\n",
            "Epoch 00132: saving model to model/keypoint_classifier\\keypoint_classifier.hdf5\n",
            "93/93 [==============================] - 0s 1ms/step - loss: 1.5205 - accuracy: 0.4601 - val_loss: 1.0244 - val_accuracy: 0.7571\n",
            "Epoch 133/1000\n",
            "58/93 [=================>............] - ETA: 0s - loss: 1.5029 - accuracy: 0.4620\n",
            "Epoch 00133: saving model to model/keypoint_classifier\\keypoint_classifier.hdf5\n",
            "93/93 [==============================] - 0s 1ms/step - loss: 1.5078 - accuracy: 0.4642 - val_loss: 1.0221 - val_accuracy: 0.7168\n",
            "Epoch 134/1000\n",
            "55/93 [================>.............] - ETA: 0s - loss: 1.5013 - accuracy: 0.4736\n",
            "Epoch 00134: saving model to model/keypoint_classifier\\keypoint_classifier.hdf5\n",
            "93/93 [==============================] - 0s 1ms/step - loss: 1.5087 - accuracy: 0.4704 - val_loss: 1.0190 - val_accuracy: 0.7601\n",
            "Epoch 135/1000\n",
            "54/93 [================>.............] - ETA: 0s - loss: 1.5015 - accuracy: 0.4633\n",
            "Epoch 00135: saving model to model/keypoint_classifier\\keypoint_classifier.hdf5\n",
            "93/93 [==============================] - 0s 1ms/step - loss: 1.5027 - accuracy: 0.4669 - val_loss: 1.0054 - val_accuracy: 0.7492\n",
            "Epoch 136/1000\n",
            "54/93 [================>.............] - ETA: 0s - loss: 1.5018 - accuracy: 0.4646\n",
            "Epoch 00136: saving model to model/keypoint_classifier\\keypoint_classifier.hdf5\n",
            "93/93 [==============================] - 0s 1ms/step - loss: 1.5047 - accuracy: 0.4634 - val_loss: 1.0157 - val_accuracy: 0.7649\n",
            "Epoch 137/1000\n",
            "56/93 [=================>............] - ETA: 0s - loss: 1.4867 - accuracy: 0.4715\n",
            "Epoch 00137: saving model to model/keypoint_classifier\\keypoint_classifier.hdf5\n",
            "93/93 [==============================] - 0s 1ms/step - loss: 1.4879 - accuracy: 0.4706 - val_loss: 1.0059 - val_accuracy: 0.7657\n",
            "Epoch 138/1000\n",
            "52/93 [===============>..............] - ETA: 0s - loss: 1.4992 - accuracy: 0.4715\n",
            "Epoch 00138: saving model to model/keypoint_classifier\\keypoint_classifier.hdf5\n",
            "93/93 [==============================] - 0s 1ms/step - loss: 1.4957 - accuracy: 0.4720 - val_loss: 1.0170 - val_accuracy: 0.7528\n",
            "Epoch 139/1000\n",
            "55/93 [================>.............] - ETA: 0s - loss: 1.4873 - accuracy: 0.4771\n",
            "Epoch 00139: saving model to model/keypoint_classifier\\keypoint_classifier.hdf5\n",
            "93/93 [==============================] - 0s 1ms/step - loss: 1.4862 - accuracy: 0.4748 - val_loss: 1.0255 - val_accuracy: 0.7753\n",
            "Epoch 00139: early stopping\n"
          ]
        },
        {
          "data": {
            "text/plain": [
              "<tensorflow.python.keras.callbacks.History at 0x2c0a7bb2550>"
            ]
          },
          "execution_count": 231,
          "metadata": {},
          "output_type": "execute_result"
        }
      ],
      "source": [
        "model.fit(\n",
        "    X_train,\n",
        "    y_train,\n",
        "    epochs=1000,\n",
        "    batch_size=128,\n",
        "    validation_data=(X_test, y_test),\n",
        "    callbacks=[cp_callback, es_callback]\n",
        ")"
      ]
    },
    {
      "cell_type": "code",
      "execution_count": 232,
      "metadata": {
        "colab": {
          "base_uri": "https://localhost:8080/"
        },
        "id": "pxvb2Y299hE3",
        "outputId": "59eb3185-2e37-4b9e-bc9d-ab1b8ac29b7f"
      },
      "outputs": [
        {
          "name": "stdout",
          "output_type": "stream",
          "text": [
            "31/31 [==============================] - 0s 549us/step - loss: 1.0255 - accuracy: 0.7753\n"
          ]
        }
      ],
      "source": [
        "# Model evaluation\n",
        "val_loss, val_acc = model.evaluate(X_test, y_test, batch_size=128)"
      ]
    },
    {
      "cell_type": "code",
      "execution_count": 233,
      "metadata": {
        "id": "RBkmDeUW9hE4"
      },
      "outputs": [],
      "source": [
        "# Loading the saved model\n",
        "model = tf.keras.models.load_model(model_save_path)"
      ]
    },
    {
      "cell_type": "code",
      "execution_count": 234,
      "metadata": {
        "colab": {
          "base_uri": "https://localhost:8080/"
        },
        "id": "tFz9Tb0I9hE4",
        "outputId": "1c3b3528-54ae-4ee2-ab04-77429211cbef"
      },
      "outputs": [
        {
          "name": "stdout",
          "output_type": "stream",
          "text": [
            "[2.83854053e-04 4.94953711e-05 3.03725693e-02 4.61467949e-04\n",
            " 6.40261732e-03 3.37800290e-03 6.34328835e-03 1.71061640e-03\n",
            " 4.46698454e-04 1.78901115e-04 5.32758313e-05 3.06427218e-02\n",
            " 1.85879215e-03 1.62083132e-04 6.05728856e-05 2.97090359e-04\n",
            " 7.10188324e-05 1.03880062e-04 2.71721989e-01 9.53098875e-04\n",
            " 6.34054537e-04 2.75744796e-01 2.71518052e-01 8.11694115e-02\n",
            " 9.33105242e-04 1.67662779e-06 1.44468425e-02]\n",
            "21\n"
          ]
        }
      ],
      "source": [
        "# Inference test\n",
        "predict_result = model.predict(np.array([X_test[0]]))\n",
        "print(np.squeeze(predict_result))\n",
        "print(np.argmax(np.squeeze(predict_result)))"
      ]
    },
    {
      "cell_type": "markdown",
      "metadata": {
        "id": "S3U4yNWx9hE4"
      },
      "source": [
        "# Confusion matrix"
      ]
    },
    {
      "cell_type": "code",
      "execution_count": 235,
      "metadata": {
        "colab": {
          "base_uri": "https://localhost:8080/",
          "height": 582
        },
        "id": "AP1V6SCk9hE5",
        "outputId": "08e41a80-7a4a-4619-8125-ecc371368d19"
      },
      "outputs": [
        {
          "data": {
            "image/png": "[encoded data removed]",
            "text/plain": [
              "<Figure size 504x432 with 2 Axes>"
            ]
          },
          "metadata": {
            "needs_background": "light"
          },
          "output_type": "display_data"
        },
        {
          "name": "stdout",
          "output_type": "stream",
          "text": [
            "Classification Report\n",
            "              precision    recall  f1-score   support\n",
            "\n",
            "           0       0.93      0.99      0.96        97\n",
            "           1       0.90      0.86      0.88       132\n",
            "           2       0.98      0.92      0.95       102\n",
            "           3       0.93      0.71      0.81        98\n",
            "           4       0.56      0.92      0.70       128\n",
            "           5       0.81      0.93      0.87       183\n",
            "           6       0.98      0.95      0.96       101\n",
            "           7       0.86      0.92      0.89       130\n",
            "           8       0.79      0.99      0.88        93\n",
            "           9       0.99      0.81      0.89       122\n",
            "          10       0.96      0.67      0.79        99\n",
            "          11       0.83      0.33      0.47       138\n",
            "          12       0.94      0.96      0.95       159\n",
            "          13       0.82      0.56      0.67       100\n",
            "          14       0.93      0.80      0.86       128\n",
            "          15       0.72      0.70      0.71        88\n",
            "          16       0.96      0.90      0.93       171\n",
            "          17       0.83      0.99      0.90       230\n",
            "          18       0.45      0.48      0.47       190\n",
            "          19       0.82      0.96      0.88       226\n",
            "          20       0.94      0.92      0.93       131\n",
            "          21       0.42      0.44      0.43       230\n",
            "          22       0.33      0.52      0.40       181\n",
            "          23       0.99      0.99      0.99        95\n",
            "          24       0.69      0.45      0.55       100\n",
            "          25       0.99      0.94      0.96       116\n",
            "          26       0.87      0.67      0.76       380\n",
            "\n",
            "    accuracy                           0.78      3948\n",
            "   macro avg       0.82      0.79      0.79      3948\n",
            "weighted avg       0.80      0.78      0.78      3948\n",
            "\n"
          ]
        }
      ],
      "source": [
        "import pandas as pd\n",
        "import seaborn as sns\n",
        "import matplotlib.pyplot as plt\n",
        "from sklearn.metrics import confusion_matrix, classification_report\n",
        "\n",
        "def print_confusion_matrix(y_true, y_pred, report=True):\n",
        "    labels = sorted(list(set(y_true)))\n",
        "    cmx_data = confusion_matrix(y_true, y_pred, labels=labels)\n",
        "    \n",
        "    df_cmx = pd.DataFrame(cmx_data, index=labels, columns=labels)\n",
        " \n",
        "    fig, ax = plt.subplots(figsize=(7, 6))\n",
        "    sns.heatmap(df_cmx, annot=True, fmt='g' ,square=False)\n",
        "    ax.set_ylim(len(set(y_true)), 0)\n",
        "    plt.show()\n",
        "    \n",
        "    if report:\n",
        "        print('Classification Report')\n",
        "        print(classification_report(y_test, y_pred))\n",
        "\n",
        "Y_pred = model.predict(X_test)\n",
        "y_pred = np.argmax(Y_pred, axis=1)\n",
        "\n",
        "print_confusion_matrix(y_test, y_pred)"
      ]
    },
    {
      "cell_type": "markdown",
      "metadata": {
        "id": "FNP6aqzc9hE5"
      },
      "source": [
        "# Convert to model for Tensorflow-Lite"
      ]
    },
    {
      "cell_type": "code",
      "execution_count": 236,
      "metadata": {
        "id": "ODjnYyld9hE6"
      },
      "outputs": [],
      "source": [
        "# Save as a model dedicated to inference\n",
        "model.save(model_save_path, include_optimizer=False)"
      ]
    },
    {
      "cell_type": "code",
      "execution_count": 237,
      "metadata": {
        "colab": {
          "base_uri": "https://localhost:8080/"
        },
        "id": "zRfuK8Y59hE6",
        "outputId": "a4ca585c-b5d5-4244-8291-8674063209bb"
      },
      "outputs": [
        {
          "name": "stdout",
          "output_type": "stream",
          "text": [
            "INFO:tensorflow:Assets written to: C:\\Users\\WONGCH~1\\AppData\\Local\\Temp\\tmp0k_ehysj\\assets\n"
          ]
        },
        {
          "name": "stderr",
          "output_type": "stream",
          "text": [
            "INFO:tensorflow:Assets written to: C:\\Users\\WONGCH~1\\AppData\\Local\\Temp\\tmp0k_ehysj\\assets\n"
          ]
        },
        {
          "data": {
            "text/plain": [
              "7344"
            ]
          },
          "execution_count": 237,
          "metadata": {},
          "output_type": "execute_result"
        }
      ],
      "source": [
        "# Transform model (quantization)\n",
        "\n",
        "converter = tf.lite.TFLiteConverter.from_keras_model(model)\n",
        "converter.optimizations = [tf.lite.Optimize.DEFAULT]\n",
        "tflite_quantized_model = converter.convert()\n",
        "\n",
        "open(tflite_save_path, 'wb').write(tflite_quantized_model)"
      ]
    },
    {
      "cell_type": "markdown",
      "metadata": {
        "id": "CHBPBXdx9hE6"
      },
      "source": [
        "# Inference test"
      ]
    },
    {
      "cell_type": "code",
      "execution_count": 238,
      "metadata": {
        "id": "mGAzLocO9hE7"
      },
      "outputs": [],
      "source": [
        "interpreter = tf.lite.Interpreter(model_path=tflite_save_path)\n",
        "interpreter.allocate_tensors()"
      ]
    },
    {
      "cell_type": "code",
      "execution_count": 239,
      "metadata": {
        "id": "oQuDK8YS9hE7"
      },
      "outputs": [],
      "source": [
        "# Get I / O tensor\n",
        "input_details = interpreter.get_input_details()\n",
        "output_details = interpreter.get_output_details()"
      ]
    },
    {
      "cell_type": "code",
      "execution_count": 240,
      "metadata": {
        "id": "2_ixAf_l9hE7"
      },
      "outputs": [],
      "source": [
        "interpreter.set_tensor(input_details[0]['index'], np.array([X_test[0]]))"
      ]
    },
    {
      "cell_type": "code",
      "execution_count": 241,
      "metadata": {
        "colab": {
          "base_uri": "https://localhost:8080/"
        },
        "id": "s4FoAnuc9hE7",
        "outputId": "91f18257-8d8b-4ef3-c558-e9b5f94fabbf",
        "scrolled": true
      },
      "outputs": [
        {
          "name": "stdout",
          "output_type": "stream",
          "text": [
            "Wall time: 0 ns\n"
          ]
        }
      ],
      "source": [
        "%%time\n",
        "# Inference implementation\n",
        "interpreter.invoke()\n",
        "tflite_results = interpreter.get_tensor(output_details[0]['index'])"
      ]
    },
    {
      "cell_type": "code",
      "execution_count": 242,
      "metadata": {
        "colab": {
          "base_uri": "https://localhost:8080/"
        },
        "id": "vONjp19J9hE8",
        "outputId": "77205e24-fd00-42c4-f7b6-e06e527c2cba"
      },
      "outputs": [
        {
          "name": "stdout",
          "output_type": "stream",
          "text": [
            "[2.8385388e-04 4.9495338e-05 3.0372564e-02 4.6146769e-04 6.4026141e-03\n",
            " 3.3780006e-03 6.3432856e-03 1.7106152e-03 4.4669860e-04 1.7890100e-04\n",
            " 5.3275799e-05 3.0642718e-02 1.8587927e-03 1.6208310e-04 6.0572904e-05\n",
            " 2.9709045e-04 7.1018854e-05 1.0388009e-04 2.7172193e-01 9.5309876e-04\n",
            " 6.3405407e-04 2.7574489e-01 2.7151808e-01 8.1169434e-02 9.3310460e-04\n",
            " 1.6766252e-06 1.4446844e-02]\n",
            "21\n"
          ]
        }
      ],
      "source": [
        "print(np.squeeze(tflite_results))\n",
        "print(np.argmax(np.squeeze(tflite_results)))"
      ]
    }
  ],
  "metadata": {
    "accelerator": "GPU",
    "colab": {
      "collapsed_sections": [],
      "name": "keypoint_classification_EN.ipynb",
      "provenance": [],
      "toc_visible": true
    },
    "kernelspec": {
      "display_name": "Python 3",
      "language": "python",
      "name": "python3"
    },
    "language_info": {
      "codemirror_mode": {
        "name": "ipython",
        "version": 3
      },
      "file_extension": ".py",
      "mimetype": "text/x-python",
      "name": "python",
      "nbconvert_exporter": "python",
      "pygments_lexer": "ipython3",
      "version": "3.6.8"
    }
  },
  "nbformat": 4,
  "nbformat_minor": 0
}
